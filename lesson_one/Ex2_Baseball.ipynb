{
 "cells": [
  {
   "cell_type": "markdown",
   "id": "0eb22768",
   "metadata": {},
   "source": [
    "# Chapter 2 - Exercise 2: Đọc và chuyển dữ liệu, sau đó tính BMI theo điều kiện, truy xuất dữ liệu\n",
    "### Dữ liệu được trích xuất từ http://wiki.stat.ucla.edu/socr/index.php/SOCR_Data_MLB_HeightsWeights\n",
    "> *Ghi chú:*\n",
    ">Major League Baseball (MLB) là giải đấu bóng chày chuyên nghiệp. Major League Baseball có tổng cộng 30 đội bóng đến từ nhiều bang khác nhau của Mỹ và Canada (29 đội từ Mỹ và 1 đội từ Canada). MLB luôn được sự quan tâm lớn của hầu hết fan bóng chày trên toàn thế giới, và cũng được xem là giải đấu nổi tiếng và uy tín nhất, tập hợp những cầu thủ có trình độ cao nhất trong bộ môn này. \n",
    "Dữ liệu **heights.txt** (tính theo inches) và **weights.txt** (tính theo pounds) là chiều cao và cân nặng của các cầu thủ có tham gia 1 số giải của MLB. "
   ]
  },
  {
   "cell_type": "code",
   "execution_count": 1,
   "id": "1cffc1c7",
   "metadata": {},
   "outputs": [],
   "source": [
    "import numpy as np"
   ]
  },
  {
   "cell_type": "markdown",
   "id": "a91cf1e9",
   "metadata": {},
   "source": [
    "# Phần 1: Đọc dữ liệu vào mảng"
   ]
  },
  {
   "cell_type": "code",
   "execution_count": 2,
   "id": "99a1fc5a",
   "metadata": {},
   "outputs": [
    {
     "data": {
      "text/plain": [
       "array([74, 74, 72, ..., 75, 75, 73])"
      ]
     },
     "execution_count": 2,
     "metadata": {},
     "output_type": "execute_result"
    }
   ],
   "source": [
    "# 1. Đọc dữ liệu chiều cao từ file heights.txt vào mảng height\n"
   ]
  },
  {
   "cell_type": "code",
   "execution_count": 3,
   "id": "31528cf2",
   "metadata": {},
   "outputs": [
    {
     "name": "stdout",
     "output_type": "stream",
     "text": [
      "1015\n"
     ]
    },
    {
     "data": {
      "text/plain": [
       "dtype('int32')"
      ]
     },
     "execution_count": 3,
     "metadata": {},
     "output_type": "execute_result"
    }
   ],
   "source": [
    "# In ra số phần tử, kiểu dữ liệu của các phần tử mảng height.\n"
   ]
  },
  {
   "cell_type": "code",
   "execution_count": 4,
   "id": "b808d6e8",
   "metadata": {},
   "outputs": [
    {
     "data": {
      "text/plain": [
       "array([180, 215, 210, ..., 205, 190, 195])"
      ]
     },
     "execution_count": 4,
     "metadata": {},
     "output_type": "execute_result"
    }
   ],
   "source": [
    "# 2. Đọc dữ liệu chiều cao từ file weights.txt vào mảng weight\n"
   ]
  },
  {
   "cell_type": "code",
   "execution_count": 5,
   "id": "5dbb585e",
   "metadata": {},
   "outputs": [
    {
     "name": "stdout",
     "output_type": "stream",
     "text": [
      "1015\n"
     ]
    },
    {
     "data": {
      "text/plain": [
       "dtype('int32')"
      ]
     },
     "execution_count": 5,
     "metadata": {},
     "output_type": "execute_result"
    }
   ],
   "source": [
    "# In ra số phần tử, kiểu dữ liệu của các phần tử mảng weight.\n"
   ]
  },
  {
   "cell_type": "markdown",
   "id": "7747471d",
   "metadata": {},
   "source": [
    "# Phần 2: Đổi Đơn Vị"
   ]
  },
  {
   "cell_type": "code",
   "execution_count": 6,
   "id": "e19f587c",
   "metadata": {},
   "outputs": [
    {
     "data": {
      "text/plain": [
       "array([1.88, 1.88, 1.83, ..., 1.9 , 1.9 , 1.85])"
      ]
     },
     "execution_count": 6,
     "metadata": {},
     "output_type": "execute_result"
    }
   ],
   "source": [
    "# 3. Tạo mảng height_m (1 inch = 0.0254 meters) và weight_kg (1 pound = 0.453592 kilograms) từ height và weight.\n",
    "# Làm tròn đến 2 chữ số thập phân\n"
   ]
  },
  {
   "cell_type": "code",
   "execution_count": 7,
   "id": "9c6d9842",
   "metadata": {},
   "outputs": [
    {
     "data": {
      "text/plain": [
       "array([81.65, 97.52, 95.25, ..., 92.99, 86.18, 88.45])"
      ]
     },
     "execution_count": 7,
     "metadata": {},
     "output_type": "execute_result"
    }
   ],
   "source": []
  },
  {
   "cell_type": "markdown",
   "id": "f13c7a73",
   "metadata": {},
   "source": [
    "# Phần 3: Thống Kê Dữ Liệu"
   ]
  },
  {
   "cell_type": "code",
   "execution_count": 8,
   "id": "7c9354fa",
   "metadata": {},
   "outputs": [
    {
     "data": {
      "text/plain": [
       "1.8704926108374385"
      ]
     },
     "execution_count": 8,
     "metadata": {},
     "output_type": "execute_result"
    }
   ],
   "source": [
    "# 4. Tính chiều cao, cân nặng trung bình (mean) của các VĐV.\n"
   ]
  },
  {
   "cell_type": "code",
   "execution_count": 9,
   "id": "f842cfcd",
   "metadata": {},
   "outputs": [
    {
     "data": {
      "text/plain": [
       "91.33002955665026"
      ]
     },
     "execution_count": 9,
     "metadata": {},
     "output_type": "execute_result"
    }
   ],
   "source": []
  },
  {
   "cell_type": "code",
   "execution_count": 10,
   "id": "301b0bd2",
   "metadata": {},
   "outputs": [
    {
     "data": {
      "text/plain": [
       "1.88"
      ]
     },
     "execution_count": 10,
     "metadata": {},
     "output_type": "execute_result"
    }
   ],
   "source": [
    "# 5. Tính chiều cao, cân nặng trung vị (median) của các VĐV.\n"
   ]
  },
  {
   "cell_type": "code",
   "execution_count": 11,
   "id": "31fa0bcc",
   "metadata": {},
   "outputs": [
    {
     "data": {
      "text/plain": [
       "90.72"
      ]
     },
     "execution_count": 11,
     "metadata": {},
     "output_type": "execute_result"
    }
   ],
   "source": []
  },
  {
   "cell_type": "code",
   "execution_count": 12,
   "id": "7c043bab",
   "metadata": {},
   "outputs": [
    {
     "data": {
      "text/plain": [
       "0.05901785397875302"
      ]
     },
     "execution_count": 12,
     "metadata": {},
     "output_type": "execute_result"
    }
   ],
   "source": [
    "# 6. Tính độ lệch chuẩn (std) của chiều cao\n"
   ]
  },
  {
   "cell_type": "code",
   "execution_count": 13,
   "id": "c824d300",
   "metadata": {},
   "outputs": [
    {
     "data": {
      "text/plain": [
       "9.440554875313538"
      ]
     },
     "execution_count": 13,
     "metadata": {},
     "output_type": "execute_result"
    }
   ],
   "source": [
    "# 7. Tính độ lệch chuẩn (std) của cân nặng.\n"
   ]
  },
  {
   "cell_type": "code",
   "execution_count": 14,
   "id": "07d9c90e",
   "metadata": {},
   "outputs": [
    {
     "data": {
      "text/plain": [
       "131.54"
      ]
     },
     "execution_count": 14,
     "metadata": {},
     "output_type": "execute_result"
    }
   ],
   "source": [
    "# 8. Cân nặng lớn nhất, nhỏ nhất\n"
   ]
  },
  {
   "cell_type": "code",
   "execution_count": 15,
   "id": "fc484a28",
   "metadata": {},
   "outputs": [
    {
     "data": {
      "text/plain": [
       "68.04"
      ]
     },
     "execution_count": 15,
     "metadata": {},
     "output_type": "execute_result"
    }
   ],
   "source": []
  },
  {
   "cell_type": "code",
   "execution_count": 16,
   "id": "1b995b22",
   "metadata": {},
   "outputs": [
    {
     "data": {
      "text/plain": [
       "2.11"
      ]
     },
     "execution_count": 16,
     "metadata": {},
     "output_type": "execute_result"
    }
   ],
   "source": [
    "# 9. Chiều cao lớn nhất, nhỏ nhất\n"
   ]
  },
  {
   "cell_type": "code",
   "execution_count": 17,
   "id": "ac4ec3f3",
   "metadata": {},
   "outputs": [
    {
     "data": {
      "text/plain": [
       "1.7"
      ]
     },
     "execution_count": 17,
     "metadata": {},
     "output_type": "execute_result"
    }
   ],
   "source": []
  },
  {
   "cell_type": "markdown",
   "id": "44816e38",
   "metadata": {},
   "source": [
    "# Phần 4: Tạo Mảng 2 Chiều"
   ]
  },
  {
   "cell_type": "code",
   "execution_count": 18,
   "id": "81e2dee3",
   "metadata": {},
   "outputs": [
    {
     "data": {
      "text/plain": [
       "array([[ 1.88, 81.65],\n",
       "       [ 1.88, 97.52],\n",
       "       [ 1.83, 95.25],\n",
       "       ...,\n",
       "       [ 1.9 , 92.99],\n",
       "       [ 1.9 , 86.18],\n",
       "       [ 1.85, 88.45]])"
      ]
     },
     "execution_count": 18,
     "metadata": {},
     "output_type": "execute_result"
    }
   ],
   "source": [
    "# 10. Tạo một mảng numpy 2 chiều baseball bằng cách ghép mảng height_m và weight_kg theo cột.\n"
   ]
  },
  {
   "cell_type": "code",
   "execution_count": 19,
   "id": "8d027e6c",
   "metadata": {},
   "outputs": [
    {
     "data": {
      "text/plain": [
       "array([[ 1.88, 81.65, 23.1 ],\n",
       "       [ 1.88, 97.52, 27.59],\n",
       "       [ 1.83, 95.25, 28.44],\n",
       "       ...,\n",
       "       [ 1.9 , 92.99, 25.76],\n",
       "       [ 1.9 , 86.18, 23.87],\n",
       "       [ 1.85, 88.45, 25.84]])"
      ]
     },
     "execution_count": 19,
     "metadata": {},
     "output_type": "execute_result"
    }
   ],
   "source": [
    "# 11. Tạo cột mới chứa chỉ số BMI của từng VĐV.\n"
   ]
  },
  {
   "cell_type": "markdown",
   "id": "4e0ada01",
   "metadata": {},
   "source": [
    "# Phần 5: Truy Xuất Dữ Liệu"
   ]
  },
  {
   "cell_type": "code",
   "execution_count": 21,
   "id": "91be1888",
   "metadata": {},
   "outputs": [
    {
     "data": {
      "text/plain": [
       "1.85"
      ]
     },
     "execution_count": 21,
     "metadata": {},
     "output_type": "execute_result"
    }
   ],
   "source": [
    "# 12. Truy xuất chiều cao của VĐV thứ 5\n"
   ]
  },
  {
   "cell_type": "code",
   "execution_count": 22,
   "id": "b602c032",
   "metadata": {},
   "outputs": [
    {
     "data": {
      "text/plain": [
       "array([[  2.11, 117.93,  26.49]])"
      ]
     },
     "execution_count": 22,
     "metadata": {},
     "output_type": "execute_result"
    }
   ],
   "source": [
    "# 13. Truy xuất VĐV có chiều cao lớn nhất.\n"
   ]
  },
  {
   "cell_type": "code",
   "execution_count": 23,
   "id": "ad2befe0",
   "metadata": {},
   "outputs": [
    {
     "data": {
      "text/plain": [
       "array([[ 1.88, 81.65, 23.1 ],\n",
       "       [ 1.88, 97.52, 27.59],\n",
       "       [ 1.83, 95.25, 28.44],\n",
       "       ...,\n",
       "       [ 1.9 , 92.99, 25.76],\n",
       "       [ 1.9 , 86.18, 23.87],\n",
       "       [ 1.85, 88.45, 25.84]])"
      ]
     },
     "execution_count": 23,
     "metadata": {},
     "output_type": "execute_result"
    }
   ],
   "source": [
    "# 14. Truy xuất các VĐV có chiều cao lớn hơn 180 cm.\n"
   ]
  },
  {
   "cell_type": "code",
   "execution_count": 24,
   "id": "170c5a64",
   "metadata": {},
   "outputs": [
    {
     "data": {
      "text/plain": [
       "array([[  1.83, 117.93,  35.21]])"
      ]
     },
     "execution_count": 24,
     "metadata": {},
     "output_type": "execute_result"
    }
   ],
   "source": [
    "# 15. Tìm VĐV có BMI lớn nhất.\n"
   ]
  },
  {
   "cell_type": "code",
   "execution_count": 25,
   "id": "a8f018d3",
   "metadata": {},
   "outputs": [
    {
     "data": {
      "text/plain": [
       "array([70.76])"
      ]
     },
     "execution_count": 25,
     "metadata": {},
     "output_type": "execute_result"
    }
   ],
   "source": [
    "# 16. Tìm cân nặng của VĐV có BMI nhỏ nhất.\n"
   ]
  },
  {
   "cell_type": "code",
   "execution_count": 26,
   "id": "d7924120",
   "metadata": {},
   "outputs": [
    {
     "data": {
      "text/plain": [
       "array([[ 1.75, 94.8 , 30.96],\n",
       "       [ 1.75, 98.88, 32.29],\n",
       "       [ 1.78, 92.99, 29.35],\n",
       "       [ 1.78, 95.25, 30.06],\n",
       "       [ 1.75, 90.72, 29.62],\n",
       "       [ 1.73, 94.8 , 31.67],\n",
       "       [ 1.78, 99.79, 31.5 ],\n",
       "       [ 1.78, 92.99, 29.35]])"
      ]
     },
     "execution_count": 26,
     "metadata": {},
     "output_type": "execute_result"
    }
   ],
   "source": [
    "# 17. Tìm VĐV có cân nặng lớn hơn 90 kg và có chiều cao dưới 1.8m.\n"
   ]
  },
  {
   "cell_type": "code",
   "execution_count": 27,
   "id": "5ce50e8d",
   "metadata": {},
   "outputs": [
    {
     "data": {
      "text/plain": [
       "array([[  1.83,  68.04,  20.32],\n",
       "       [  1.83,  68.04,  20.32],\n",
       "       [  1.73,  68.04,  22.73],\n",
       "       [  1.8 ,  68.04,  21.  ],\n",
       "       [  2.11, 117.93,  26.49]])"
      ]
     },
     "execution_count": 27,
     "metadata": {},
     "output_type": "execute_result"
    }
   ],
   "source": [
    "# 18. Tìm các VĐV có chiều cao lớn nhất hoặc cân nặng nhỏ nhất.\n"
   ]
  },
  {
   "cell_type": "markdown",
   "id": "22b34234",
   "metadata": {},
   "source": [
    "# Phần 6: Thống Kê Trên Mảng 2 Chiều"
   ]
  },
  {
   "cell_type": "code",
   "execution_count": 28,
   "id": "d81eb703",
   "metadata": {},
   "outputs": [
    {
     "data": {
      "text/plain": [
       "26.091852216748766"
      ]
     },
     "execution_count": 28,
     "metadata": {},
     "output_type": "execute_result"
    }
   ],
   "source": [
    "# 19. Tính giá trị BMI trung bình của tất cả các VĐV.\n"
   ]
  },
  {
   "cell_type": "code",
   "execution_count": 29,
   "id": "7e5dd8c5",
   "metadata": {},
   "outputs": [
    {
     "data": {
      "text/plain": [
       "25.11375"
      ]
     },
     "execution_count": 29,
     "metadata": {},
     "output_type": "execute_result"
    }
   ],
   "source": [
    "# 20. Tính giá trị BMI trung bình của các VĐV có chiều cao lớn hơn 2m.\n"
   ]
  },
  {
   "cell_type": "code",
   "execution_count": 30,
   "id": "c4418531",
   "metadata": {},
   "outputs": [
    {
     "data": {
      "text/plain": [
       "1.7975"
      ]
     },
     "execution_count": 30,
     "metadata": {},
     "output_type": "execute_result"
    }
   ],
   "source": [
    "# 21. Tính chiều cao trung bình của các VĐV có cân nặng dưới 70 kg.\n"
   ]
  },
  {
   "cell_type": "code",
   "execution_count": 31,
   "id": "2f58ee33",
   "metadata": {},
   "outputs": [
    {
     "data": {
      "text/plain": [
       "10"
      ]
     },
     "execution_count": 31,
     "metadata": {},
     "output_type": "execute_result"
    }
   ],
   "source": [
    "# 22. Tính số lượng VĐV có chiều cao lớn hơn 2 m và cân nặng dưới 100 kg.\n"
   ]
  },
  {
   "cell_type": "code",
   "execution_count": 32,
   "id": "4624e3a7",
   "metadata": {},
   "outputs": [
    {
     "data": {
      "text/plain": [
       "array([[1.        , 0.52984893],\n",
       "       [0.52984893, 1.        ]])"
      ]
     },
     "execution_count": 32,
     "metadata": {},
     "output_type": "execute_result"
    }
   ],
   "source": [
    "# 23. Tính hệ số tương quan giữa chiều cao và cân nặng của các \n"
   ]
  },
  {
   "cell_type": "code",
   "execution_count": null,
   "id": "2cb3104e",
   "metadata": {},
   "outputs": [],
   "source": []
  }
 ],
 "metadata": {
  "kernelspec": {
   "display_name": "Python 3 (ipykernel)",
   "language": "python",
   "name": "python3"
  },
  "language_info": {
   "codemirror_mode": {
    "name": "ipython",
    "version": 3
   },
   "file_extension": ".py",
   "mimetype": "text/x-python",
   "name": "python",
   "nbconvert_exporter": "python",
   "pygments_lexer": "ipython3",
   "version": "3.8.7"
  }
 },
 "nbformat": 4,
 "nbformat_minor": 5
}
