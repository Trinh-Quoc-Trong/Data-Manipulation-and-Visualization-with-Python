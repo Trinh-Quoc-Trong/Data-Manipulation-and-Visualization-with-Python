{
 "cells": [
  {
   "cell_type": "markdown",
   "metadata": {},
   "source": []
  },
  {
   "cell_type": "code",
   "execution_count": 3,
   "metadata": {},
   "outputs": [],
   "source": [
    "import numpy as np  \n"
   ]
  },
  {
   "cell_type": "code",
   "execution_count": 8,
   "metadata": {},
   "outputs": [
    {
     "name": "stdout",
     "output_type": "stream",
     "text": [
      "[[152 485 398 320 156 121 238  70]\n",
      " [152 171 264 380 137 422 149 409]\n",
      " [201 180 199 358 307 393 463 343]\n",
      " [435 241 493 326 210 363  71 302]\n",
      " [285 394  98 108 219 237 320 239]\n",
      " [495 224 495 100 413 104 293 369]\n",
      " [180 356 184  70 378 216 323 437]\n",
      " [138 365  63 291 314 395 102 435]]\n"
     ]
    }
   ],
   "source": [
    "\n",
    "np.random.seed(42)  \n",
    "array = np.random.randint(50, 500, size=(8, 8))  \n",
    "\n",
    "print(array)  \n",
    "\n"
   ]
  },
  {
   "cell_type": "code",
   "execution_count": 7,
   "metadata": {},
   "outputs": [
    {
     "name": "stdout",
     "output_type": "stream",
     "text": [
      "\n",
      "Chỉ số của phần tử lớn nhất trong mảng:  (np.int64(5), np.int64(0))\n",
      "Chỉ số của phần tử nhỏ nhất trong mảng:  (np.int64(7), np.int64(2))\n"
     ]
    }
   ],
   "source": [
    "max_idx = np.unravel_index(np.argmax(array), array.shape)  \n",
    "min_idx = np.unravel_index(np.argmin(array), array.shape)  \n",
    "\n",
    "print(\"\\nChỉ số của phần tử lớn nhất trong mảng: \", max_idx)  \n",
    "print(\"Chỉ số của phần tử nhỏ nhất trong mảng: \", min_idx)  "
   ]
  },
  {
   "cell_type": "code",
   "execution_count": null,
   "metadata": {},
   "outputs": [
    {
     "name": "stdout",
     "output_type": "stream",
     "text": [
      "\n",
      "Tổng của tất cả các phần tử có giá trị là số nguyên tố trong mảng:  2508\n"
     ]
    }
   ],
   "source": [
    "def is_prime(num):  \n",
    "    if num < 2:  \n",
    "        return False  \n",
    "    for i in range(2, int(num**0.5) + 1):  \n",
    "        if num % i == 0:  \n",
    "            return False  \n",
    "    return True  \n"
   ]
  },
  {
   "cell_type": "code",
   "execution_count": null,
   "metadata": {},
   "outputs": [],
   "source": [
    "\n",
    "prime_filter = np.vectorize(is_prime)  \n",
    "prime_elements = array[prime_filter(array)]  \n"
   ]
  },
  {
   "cell_type": "code",
   "execution_count": null,
   "metadata": {},
   "outputs": [],
   "source": [
    "\n",
    "prime_sum = np.sum(prime_elements)  \n",
    "print(\"\\nTổng của tất cả các phần tử có giá trị là số nguyên tố trong mảng: \", prime_sum)  "
   ]
  },
  {
   "cell_type": "code",
   "execution_count": null,
   "metadata": {},
   "outputs": [],
   "source": []
  }
 ],
 "metadata": {
  "kernelspec": {
   "display_name": "Python 3",
   "language": "python",
   "name": "python3"
  },
  "language_info": {
   "codemirror_mode": {
    "name": "ipython",
    "version": 3
   },
   "file_extension": ".py",
   "mimetype": "text/x-python",
   "name": "python",
   "nbconvert_exporter": "python",
   "pygments_lexer": "ipython3",
   "version": "3.13.2"
  }
 },
 "nbformat": 4,
 "nbformat_minor": 2
}
