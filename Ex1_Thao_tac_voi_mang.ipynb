{
 "cells": [
  {
   "cell_type": "markdown",
   "id": "800bfa80",
   "metadata": {},
   "source": [
    "## Import thư viện"
   ]
  },
  {
   "cell_type": "code",
   "execution_count": 2,
   "id": "6bbf1669",
   "metadata": {},
   "outputs": [],
   "source": [
    "import numpy as np"
   ]
  },
  {
   "cell_type": "markdown",
   "id": "e40d07e2",
   "metadata": {},
   "source": [
    "## Phần 1: Tạo mảng\n",
    "### Tạo mảng 1 chiều"
   ]
  },
  {
   "cell_type": "code",
   "execution_count": null,
   "id": "c64d7169",
   "metadata": {},
   "outputs": [
    {
     "data": {
      "text/plain": [
       "array([[0.43128302, 0.73082266, 0.61631828, 0.11317425, 0.98432907,\n",
       "        0.146138  , 0.28416016, 0.6299384 , 0.64815272, 0.19426443,\n",
       "        0.44912672, 0.44822685, 0.60774769, 0.99219555, 0.60097675,\n",
       "        0.46224795, 0.73053643, 0.20694759, 0.4505656 , 0.10151089,\n",
       "        0.09637774],\n",
       "       [0.81834508, 0.46264604, 0.77720299, 0.07274141, 0.31363424,\n",
       "        0.72816186, 0.98253839, 0.33969598, 0.5046889 , 0.6344618 ,\n",
       "        0.49128947, 0.6498774 , 0.18999971, 0.85531806, 0.58695067,\n",
       "        0.21977867, 0.72208215, 0.22100882, 0.06833507, 0.33608755,\n",
       "        0.21346183]])"
      ]
     },
     "execution_count": 7,
     "metadata": {},
     "output_type": "execute_result"
    }
   ],
   "source": [
    "# 1. Tạo một mảng numpy 1 chiều even_numbers chứa 10 phần tử là các số chẵn trong phạm vi [2,20] \n",
    "even_number = np.random.randint(2,21, size=10)\n",
    "even_number"
   ]
  },
  {
   "cell_type": "code",
   "execution_count": 8,
   "id": "c5abb4e4",
   "metadata": {},
   "outputs": [
    {
     "data": {
      "text/plain": [
       "array([ 1,  6, 11, 16, 21])"
      ]
     },
     "execution_count": 8,
     "metadata": {},
     "output_type": "execute_result"
    }
   ],
   "source": [
    "# 2. Tạo một mảng numpy 1 chiều chứa 5 phần tử là các số chia cho 5 dư 1 (số nguyên có dạng 5x + 1) trong phạm vi [1,21].\n",
    "mang = np.array([5 * i + 1 for i in range(5)])\n",
    "mang"
   ]
  },
  {
   "cell_type": "code",
   "execution_count": 5,
   "id": "e88316ed",
   "metadata": {},
   "outputs": [
    {
     "data": {
      "text/plain": [
       "np.float64(-0.1)"
      ]
     },
     "execution_count": 5,
     "metadata": {},
     "output_type": "execute_result"
    }
   ],
   "source": [
    "# 3.Tạo 1 mảng 1 chiều gồm 11 phần tử cách đều nhau từ 0 đến 1\n",
    "array_ = np.linspace(0,1,11) \n",
    "array_\n",
    "# Cho biết khoảng cách giữa các giá trị retstep: \n",
    "retstep = array_[1] - array_[2]\n",
    "retstep"
   ]
  },
  {
   "cell_type": "code",
   "execution_count": 9,
   "id": "3bc2844e",
   "metadata": {},
   "outputs": [
    {
     "data": {
      "text/plain": [
       "array([ 4, 15, 16,  7, 17], dtype=int32)"
      ]
     },
     "execution_count": 9,
     "metadata": {},
     "output_type": "execute_result"
    }
   ],
   "source": [
    "# 4.Tạo 1 mảng 1 chiều gồm 5 phần tử là các số nguyên ngẫu nhiên từ 1 đến 20\n",
    "array_ = np.random.randint(1,20,5)\n",
    "array_"
   ]
  },
  {
   "cell_type": "code",
   "execution_count": 11,
   "id": "4e43d120",
   "metadata": {},
   "outputs": [
    {
     "data": {
      "text/plain": [
       "array([1, 0, 3, 0, 5, 0, 7, 0, 9])"
      ]
     },
     "execution_count": 11,
     "metadata": {},
     "output_type": "execute_result"
    }
   ],
   "source": [
    "# 5.Tạo mảng numpy 1 chiều chứa 10 phần tử với các phần tử ở index chẵn là 0 và ở index lẻ là số lẻ\n",
    "array_  = np.array([0 if i % 2 == 0 else i for i in range(1,10) ])\n",
    "array_ "
   ]
  },
  {
   "cell_type": "code",
   "execution_count": null,
   "id": "a2a02968",
   "metadata": {},
   "outputs": [],
   "source": [
    "# 6.Tạo 1 mảng 1 chiều gồm 10 phần tử có các phần tử ở index [0,3,6,9] là 3 và các phần tử còn lại là 1 \n"
   ]
  },
  {
   "cell_type": "code",
   "execution_count": null,
   "id": "7ffd1c5d",
   "metadata": {},
   "outputs": [],
   "source": [
    "# 7. Tạo 1 mảng 1 chiều gồm 5 phần tử là các giá trị ngẫu nhiên (không trùng nhau) chia hết cho 3 và nhỏ hơn 30\n",
    "np.random.seed(5)\n",
    "# Tạo mảng gồm các phần tử nhỏ hơn 30 và chia hết cho 3\n",
    "\n",
    "# Tạo mảng gồm 5 phần tử ngẫu nhiên (không trùng nhau) từ mảng vừa tạo"
   ]
  },
  {
   "cell_type": "markdown",
   "id": "1e894021",
   "metadata": {},
   "source": [
    "### Tạo mảng 2 chiều"
   ]
  },
  {
   "cell_type": "code",
   "execution_count": null,
   "id": "e76f5e78",
   "metadata": {},
   "outputs": [],
   "source": [
    "# 8.Tạo mảng 2 chiều (3x4) arr_2d với các số chẵn ngẫu nhiên (không trùng nhau) < 50\n",
    "np.random.seed(1)\n"
   ]
  },
  {
   "cell_type": "code",
   "execution_count": null,
   "id": "d44a63cd",
   "metadata": {},
   "outputs": [],
   "source": [
    "# 9. Tạo một mảng numpy 2 chiều (6x6) với các giá trị biên là 1 và các giá trị còn lại là 0\n",
    "# Tạo một mảng 2 chiều (6x6) với tất cả giá trị là 1\n"
   ]
  },
  {
   "cell_type": "code",
   "execution_count": null,
   "id": "fc1fc080",
   "metadata": {},
   "outputs": [],
   "source": [
    "# 10. Tạo một mảng numpy 2 chiều (3x3) với các giá trị trên đường chéo chính là 1 và các giá trị còn lại là 0 \n",
    "\n",
    "# mảng kết quả\n"
   ]
  },
  {
   "cell_type": "markdown",
   "id": "3c343e65",
   "metadata": {},
   "source": [
    "## Phần 2: Truy xuất\n",
    "### Mảng 1 chiều\n",
    "Từ mảng even_numbers đã tạo ở câu 1. Hãy thực hiện các truy xuất sau:"
   ]
  },
  {
   "cell_type": "code",
   "execution_count": null,
   "id": "4e0affb0",
   "metadata": {},
   "outputs": [],
   "source": []
  },
  {
   "cell_type": "code",
   "execution_count": null,
   "id": "4735093d",
   "metadata": {},
   "outputs": [],
   "source": [
    "# 11. Truy xuất giá trị phần tử thứ 3 của mảng even_numbers\n"
   ]
  },
  {
   "cell_type": "code",
   "execution_count": null,
   "id": "f38c0518",
   "metadata": {},
   "outputs": [],
   "source": [
    "# 12. Truy xuất các phần tử từ vị trí thứ 2 đến vị trí thứ 4 (bao gồm cả vị trí thứ 4) của mảng even_numbers\n"
   ]
  },
  {
   "cell_type": "code",
   "execution_count": null,
   "id": "9dc4ff57",
   "metadata": {},
   "outputs": [],
   "source": [
    "# 13.Truy xuất các phần tử lớn hơn 10 từ mảng even_numbers\n"
   ]
  },
  {
   "cell_type": "code",
   "execution_count": null,
   "id": "8a01c5d5",
   "metadata": {},
   "outputs": [],
   "source": [
    "# 14. Truy xuất các phần tử chia hết cho 3 từ mảng even_numbers và lớn hơn 10\n"
   ]
  },
  {
   "cell_type": "markdown",
   "id": "dd87993a",
   "metadata": {},
   "source": [
    "### Mảng 2 chiều\n",
    "Từ mảng arr_2d đã tạo ở câu 8. Hãy thực hiện các truy xuất sau:"
   ]
  },
  {
   "cell_type": "code",
   "execution_count": null,
   "id": "ff19b73f",
   "metadata": {},
   "outputs": [],
   "source": []
  },
  {
   "cell_type": "code",
   "execution_count": null,
   "id": "54593c2d",
   "metadata": {},
   "outputs": [],
   "source": [
    "# 15.Cho biết phần tử ở hàng thứ 2 và cột thứ 3 của mảng arr_2d\n"
   ]
  },
  {
   "cell_type": "code",
   "execution_count": null,
   "id": "7fd755b1",
   "metadata": {},
   "outputs": [],
   "source": [
    "# 16. Hiển thị toàn bộ hàng 1 của mảng arr_2d\n"
   ]
  },
  {
   "cell_type": "code",
   "execution_count": null,
   "id": "78854370",
   "metadata": {},
   "outputs": [],
   "source": [
    "# 17. Hiển thị toàn bộ cột 2 của mảng arr_2d\n"
   ]
  },
  {
   "cell_type": "code",
   "execution_count": null,
   "id": "de98d6b1",
   "metadata": {},
   "outputs": [],
   "source": [
    "# 18. Lọc các phần tử trong mảng arr_2d lớn hơn 30\n"
   ]
  },
  {
   "cell_type": "code",
   "execution_count": null,
   "id": "be70a603",
   "metadata": {},
   "outputs": [],
   "source": [
    "# 19. Lọc ra các dòng có phần tử ở cột thứ 2 trong mảng arr_2d chia hết cho 4\n"
   ]
  },
  {
   "cell_type": "code",
   "execution_count": null,
   "id": "858513a7",
   "metadata": {},
   "outputs": [],
   "source": [
    "# 20. Cho biết các giá trị trong mảng arr_2d nằm trong khoảng từ [10, 30]\n"
   ]
  },
  {
   "cell_type": "markdown",
   "id": "61b9fed8",
   "metadata": {},
   "source": [
    "## Phần 3: Thêm, xóa, sửa phần tử trong mảng\n",
    "### Mảng 1 chiều\n",
    "Từ mảng even_numbers đã tạo ở câu 1. Hãy thực hiện các yêu cầu sau:"
   ]
  },
  {
   "cell_type": "code",
   "execution_count": null,
   "id": "92b6de9c",
   "metadata": {},
   "outputs": [],
   "source": []
  },
  {
   "cell_type": "code",
   "execution_count": null,
   "id": "6f7209d9",
   "metadata": {},
   "outputs": [],
   "source": [
    "# 21. Thêm giá trị 22 vào cuối mảng \n"
   ]
  },
  {
   "cell_type": "code",
   "execution_count": null,
   "id": "056021e7",
   "metadata": {},
   "outputs": [],
   "source": [
    "# 22. Thêm giá trị 30 vào vị trí thứ 5 của mảng\n"
   ]
  },
  {
   "cell_type": "code",
   "execution_count": null,
   "id": "7e345ab2",
   "metadata": {},
   "outputs": [],
   "source": [
    "# 23. Tạo mảng temp là mảng even_numbers đã xóa giá trị tại vị trí thứ 7 \n"
   ]
  },
  {
   "cell_type": "code",
   "execution_count": null,
   "id": "4ceb9dca",
   "metadata": {},
   "outputs": [],
   "source": [
    "# 24. Tạo mảng temp là mảng even_numbers đã xóa giá trị 8\n"
   ]
  },
  {
   "cell_type": "code",
   "execution_count": null,
   "id": "75749818",
   "metadata": {},
   "outputs": [],
   "source": [
    "# 25. Thay đổi các giá trị < 10 từ mảng even_numbers thành 10\n"
   ]
  },
  {
   "cell_type": "markdown",
   "id": "a5d57a96",
   "metadata": {},
   "source": [
    "### Mảng 2 chiều\n",
    "Từ mảng arr_2d đã tạo ở câu 8. Hãy thực hiện các yêu cầu sau:"
   ]
  },
  {
   "cell_type": "code",
   "execution_count": null,
   "id": "23a7ba2e",
   "metadata": {},
   "outputs": [],
   "source": []
  },
  {
   "cell_type": "code",
   "execution_count": null,
   "id": "9ea1a10a",
   "metadata": {},
   "outputs": [],
   "source": [
    "# 26. Thêm hàng mới [10, 16, 20, 24] vào cuối mảng arr_2d\n"
   ]
  },
  {
   "cell_type": "code",
   "execution_count": null,
   "id": "1da71d94",
   "metadata": {},
   "outputs": [],
   "source": [
    "# 27. Thêm cột mới [50, 60, 70, 80] vào cuối mảng arr_2d\n"
   ]
  },
  {
   "cell_type": "code",
   "execution_count": null,
   "id": "0a7e5a73",
   "metadata": {},
   "outputs": [],
   "source": [
    "# 28. Tạo mảng temp là mảng arr_2d đã xóa hàng thứ 2\n"
   ]
  },
  {
   "cell_type": "code",
   "execution_count": null,
   "id": "b10574b3",
   "metadata": {},
   "outputs": [],
   "source": [
    "# 29. Tạo mảng temp là mảng arr_2d đã xóa cột thứ 3\n"
   ]
  },
  {
   "cell_type": "code",
   "execution_count": null,
   "id": "8f8ba960",
   "metadata": {},
   "outputs": [],
   "source": [
    "# 30. Sửa giá trị tại dòng 1, cột 2 thành 30\n"
   ]
  },
  {
   "cell_type": "code",
   "execution_count": null,
   "id": "7de842d5",
   "metadata": {},
   "outputs": [],
   "source": [
    "# 31. Sửa các giá trị lớn hơn 10 và nhỏ hơn 20 trong arr_2d thành 20\n"
   ]
  },
  {
   "cell_type": "code",
   "execution_count": null,
   "id": "8979fc54",
   "metadata": {},
   "outputs": [],
   "source": [
    "# 32. Sửa các giá trị nhỏ hơn 30 và không chia hết cho 4 tại dòng đầu tiên trong arr_2d thành 30\n"
   ]
  },
  {
   "cell_type": "code",
   "execution_count": null,
   "id": "73a10ac7",
   "metadata": {},
   "outputs": [],
   "source": []
  }
 ],
 "metadata": {
  "kernelspec": {
   "display_name": "Python 3",
   "language": "python",
   "name": "python3"
  },
  "language_info": {
   "codemirror_mode": {
    "name": "ipython",
    "version": 3
   },
   "file_extension": ".py",
   "mimetype": "text/x-python",
   "name": "python",
   "nbconvert_exporter": "python",
   "pygments_lexer": "ipython3",
   "version": "3.11.9"
  }
 },
 "nbformat": 4,
 "nbformat_minor": 5
}
