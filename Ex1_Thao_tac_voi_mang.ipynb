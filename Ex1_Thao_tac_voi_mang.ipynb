{
 "cells": [
  {
   "cell_type": "markdown",
   "id": "800bfa80",
   "metadata": {},
   "source": [
    "## Import thư viện"
   ]
  },
  {
   "cell_type": "code",
   "execution_count": 3,
   "id": "6bbf1669",
   "metadata": {},
   "outputs": [],
   "source": [
    "import numpy as np"
   ]
  },
  {
   "cell_type": "markdown",
   "id": "e40d07e2",
   "metadata": {},
   "source": [
    "## Phần 1: Tạo mảng\n",
    "### Tạo mảng 1 chiều"
   ]
  },
  {
   "cell_type": "code",
   "execution_count": 2,
   "id": "c64d7169",
   "metadata": {},
   "outputs": [
    {
     "ename": "NameError",
     "evalue": "name 'np' is not defined",
     "output_type": "error",
     "traceback": [
      "\u001b[1;31m---------------------------------------------------------------------------\u001b[0m",
      "\u001b[1;31mNameError\u001b[0m                                 Traceback (most recent call last)",
      "Cell \u001b[1;32mIn[2], line 2\u001b[0m\n\u001b[0;32m      1\u001b[0m \u001b[38;5;66;03m# 1. Tạo một mảng numpy 1 chiều even_numbers chứa 10 phần tử là các số chẵn trong phạm vi [2,20] \u001b[39;00m\n\u001b[1;32m----> 2\u001b[0m even_number \u001b[38;5;241m=\u001b[39m \u001b[43mnp\u001b[49m\u001b[38;5;241m.\u001b[39mrandom\u001b[38;5;241m.\u001b[39mrandint(\u001b[38;5;241m2\u001b[39m,\u001b[38;5;241m21\u001b[39m, size\u001b[38;5;241m=\u001b[39m\u001b[38;5;241m10\u001b[39m)\n\u001b[0;32m      3\u001b[0m even_number\n",
      "\u001b[1;31mNameError\u001b[0m: name 'np' is not defined"
     ]
    }
   ],
   "source": [
    "# 1. Tạo một mảng numpy 1 chiều even_numbers chứa 10 phần tử là các số chẵn trong phạm vi [2,20] \n",
    "even_number = np.random.randint(2,21, size=10)\n",
    "even_number"
   ]
  },
  {
   "cell_type": "code",
   "execution_count": 8,
   "id": "c5abb4e4",
   "metadata": {},
   "outputs": [
    {
     "data": {
      "text/plain": [
       "array([ 1,  6, 11, 16, 21])"
      ]
     },
     "execution_count": 8,
     "metadata": {},
     "output_type": "execute_result"
    }
   ],
   "source": [
    "# 2. Tạo một mảng numpy 1 chiều chứa 5 phần tử là các số chia cho 5 dư 1 (số nguyên có dạng 5x + 1) trong phạm vi [1,21].\n",
    "mang = np.array([5 * i + 1 for i in range(5)])\n",
    "mang"
   ]
  },
  {
   "cell_type": "code",
   "execution_count": 5,
   "id": "e88316ed",
   "metadata": {},
   "outputs": [
    {
     "data": {
      "text/plain": [
       "np.float64(-0.1)"
      ]
     },
     "execution_count": 5,
     "metadata": {},
     "output_type": "execute_result"
    }
   ],
   "source": [
    "# 3.Tạo 1 mảng 1 chiều gồm 11 phần tử cách đều nhau từ 0 đến 1\n",
    "array_ = np.linspace(0,1,11) \n",
    "array_\n",
    "# Cho biết khoảng cách giữa các giá trị retstep: \n",
    "retstep = array_[1] - array_[2]\n",
    "retstep"
   ]
  },
  {
   "cell_type": "code",
   "execution_count": 9,
   "id": "3bc2844e",
   "metadata": {},
   "outputs": [
    {
     "data": {
      "text/plain": [
       "array([ 4, 15, 16,  7, 17], dtype=int32)"
      ]
     },
     "execution_count": 9,
     "metadata": {},
     "output_type": "execute_result"
    }
   ],
   "source": [
    "# 4.Tạo 1 mảng 1 chiều gồm 5 phần tử là các số nguyên ngẫu nhiên từ 1 đến 20\n",
    "array_ = np.random.randint(1,20,5)\n",
    "array_"
   ]
  },
  {
   "cell_type": "code",
   "execution_count": 4,
   "id": "4e43d120",
   "metadata": {},
   "outputs": [
    {
     "data": {
      "text/plain": [
       "array([1, 0, 3, 0, 5, 0, 7, 0, 9])"
      ]
     },
     "execution_count": 4,
     "metadata": {},
     "output_type": "execute_result"
    }
   ],
   "source": [
    "# 5.Tạo mảng numpy 1 chiều chứa 10 phần tử với các phần tử ở index chẵn là 0 và ở index lẻ là số lẻ\n",
    "array_  = np.array([0 if i % 2 == 0 else i for i in range(1,10) ])\n",
    "array_ "
   ]
  },
  {
   "cell_type": "code",
   "execution_count": 8,
   "id": "a2a02968",
   "metadata": {},
   "outputs": [
    {
     "data": {
      "text/plain": [
       "array([3, 1, 1, 3, 1, 1, 3, 1, 1, 3])"
      ]
     },
     "execution_count": 8,
     "metadata": {},
     "output_type": "execute_result"
    }
   ],
   "source": [
    "# 6.Tạo 1 mảng 1 chiều gồm 10 phần tử có các phần tử ở index [0,3,6,9] là 3 và các phần tử còn lại là 1 \n",
    "dk = [0,3,6,9]\n",
    "array_ = np.array([1 for i in range(10)])\n",
    "for i in dk:\n",
    "    array_[i] = 3\n",
    "array_"
   ]
  },
  {
   "cell_type": "code",
   "execution_count": 33,
   "id": "7ffd1c5d",
   "metadata": {},
   "outputs": [
    {
     "data": {
      "text/plain": [
       "array([24,  6, 18, 27,  3])"
      ]
     },
     "execution_count": 33,
     "metadata": {},
     "output_type": "execute_result"
    }
   ],
   "source": [
    "# 7. Tạo 1 mảng 1 chiều gồm 5 phần tử là các giá trị ngẫu nhiên (không trùng nhau) chia hết cho 3 và nhỏ hơn 30\n",
    "# a = np.random.randint(0, 30, 5)\n",
    "# a\n",
    "array_ = np.random.choice(30,size = 5, replace= False)\n",
    "array_\n",
    "# Tạo mảng gồm các phần tử nhỏ hơn 30 và chia hết cho 3\n",
    "array_2 = np.array([ i for i in range(30) if i % 3 == 0])\n",
    "array_2\n",
    "# Tạo mảng gồm 5 phần tử ngẫu nhiên (không trùng nhau) từ mảng vừa tạo\n",
    "array_3 = [i for i in range(1,30) if i % 3 == 0]\n",
    "array_3 = np.random.choice(array_3, size=5, replace= False)\n",
    "array_3\n"
   ]
  },
  {
   "cell_type": "markdown",
   "id": "1e894021",
   "metadata": {},
   "source": [
    "### Tạo mảng 2 chiều"
   ]
  },
  {
   "cell_type": "code",
   "execution_count": 40,
   "id": "e76f5e78",
   "metadata": {},
   "outputs": [
    {
     "data": {
      "text/plain": [
       "array([[42, 22, 43,  1],\n",
       "       [ 6, 37, 26, 49],\n",
       "       [40, 25,  4, 48]], dtype=int32)"
      ]
     },
     "execution_count": 40,
     "metadata": {},
     "output_type": "execute_result"
    }
   ],
   "source": [
    "# 8.Tạo mảng 2 chiều (3x4) arr_2d với các số chẵn ngẫu nhiên (không trùng nhau) < 50\n",
    "arr_ = np.random.choice(50, size = (3, 4), replace=False).reshape(3,4)\n",
    "arr_\n"
   ]
  },
  {
   "cell_type": "code",
   "execution_count": 51,
   "id": "d44a63cd",
   "metadata": {},
   "outputs": [
    {
     "data": {
      "text/plain": [
       "array([[2., 2., 2., 2., 2., 2.],\n",
       "       [2., 2., 2., 2., 2., 2.],\n",
       "       [2., 2., 2., 2., 2., 2.],\n",
       "       [2., 2., 2., 2., 2., 2.],\n",
       "       [2., 2., 2., 2., 2., 2.],\n",
       "       [2., 2., 2., 2., 2., 2.]])"
      ]
     },
     "execution_count": 51,
     "metadata": {},
     "output_type": "execute_result"
    }
   ],
   "source": [
    "# 9. Tạo một mảng numpy 2 chiều (6x6) với các giá trị biên là 1 và các giá trị còn lại là 0\n",
    "arr_ = np.zeros(6*6).reshape(6, 6)\n",
    "arr_[0,:] = 1\n",
    "arr_[-1,:] = 1\n",
    "arr_[:,0] = 1\n",
    "arr_[:, -1] = 1\n",
    "arr_\n",
    "# Tạo một mảng 2 chiều (6x6) với tất cả giá trị là 1\n",
    "arr_ = 2*np.ones(6*6).reshape(6,6)\n",
    "arr_\n"
   ]
  },
  {
   "cell_type": "code",
   "execution_count": null,
   "id": "d9755199",
   "metadata": {},
   "outputs": [],
   "source": []
  },
  {
   "cell_type": "code",
   "execution_count": 61,
   "id": "fc1fc080",
   "metadata": {},
   "outputs": [
    {
     "data": {
      "text/plain": [
       "array([[7., 0., 0., 0., 0., 0., 0., 0., 0., 0., 0., 0., 0., 0., 0.],\n",
       "       [0., 7., 0., 0., 0., 0., 0., 0., 0., 0., 0., 0., 0., 0., 0.],\n",
       "       [0., 0., 7., 0., 0., 0., 0., 0., 0., 0., 0., 0., 0., 0., 0.],\n",
       "       [0., 0., 0., 7., 0., 0., 0., 0., 0., 0., 0., 0., 0., 0., 0.],\n",
       "       [0., 0., 0., 0., 7., 0., 0., 0., 0., 0., 0., 0., 0., 0., 0.],\n",
       "       [0., 0., 0., 0., 0., 7., 0., 0., 0., 0., 0., 0., 0., 0., 0.],\n",
       "       [0., 0., 0., 0., 0., 0., 7., 0., 0., 0., 0., 0., 0., 0., 0.],\n",
       "       [0., 0., 0., 0., 0., 0., 0., 7., 0., 0., 0., 0., 0., 0., 0.],\n",
       "       [0., 0., 0., 0., 0., 0., 0., 0., 7., 0., 0., 0., 0., 0., 0.],\n",
       "       [0., 0., 0., 0., 0., 0., 0., 0., 0., 7., 0., 0., 0., 0., 0.],\n",
       "       [0., 0., 0., 0., 0., 0., 0., 0., 0., 0., 7., 0., 0., 0., 0.],\n",
       "       [0., 0., 0., 0., 0., 0., 0., 0., 0., 0., 0., 7., 0., 0., 0.],\n",
       "       [0., 0., 0., 0., 0., 0., 0., 0., 0., 0., 0., 0., 7., 0., 0.],\n",
       "       [0., 0., 0., 0., 0., 0., 0., 0., 0., 0., 0., 0., 0., 7., 0.],\n",
       "       [0., 0., 0., 0., 0., 0., 0., 0., 0., 0., 0., 0., 0., 0., 7.]])"
      ]
     },
     "execution_count": 61,
     "metadata": {},
     "output_type": "execute_result"
    }
   ],
   "source": [
    "# 10. Tạo một mảng numpy 2 chiều (3x3) với các giá trị trên đường chéo chính là 1 và các giá trị còn lại là 0 \n",
    "n = 15\n",
    "arr_ = np.zeros(n**2).reshape(n,n)\n",
    "for i in range(arr_.shape[0]):\n",
    "    arr_[i,i] = 7\n",
    "arr_\n",
    "# mảng kết quả\n"
   ]
  },
  {
   "cell_type": "markdown",
   "id": "3c343e65",
   "metadata": {},
   "source": [
    "## Phần 2: Truy xuất\n",
    "### Mảng 1 chiều\n",
    "Từ mảng even_numbers đã tạo ở câu 1. Hãy thực hiện các truy xuất sau:"
   ]
  },
  {
   "cell_type": "code",
   "execution_count": null,
   "id": "4e0affb0",
   "metadata": {},
   "outputs": [],
   "source": []
  },
  {
   "cell_type": "code",
   "execution_count": null,
   "id": "4735093d",
   "metadata": {},
   "outputs": [],
   "source": [
    "# 11. Truy xuất giá trị phần tử thứ 3 của mảng even_numbers\n"
   ]
  },
  {
   "cell_type": "code",
   "execution_count": null,
   "id": "f38c0518",
   "metadata": {},
   "outputs": [],
   "source": [
    "# 12. Truy xuất các phần tử từ vị trí thứ 2 đến vị trí thứ 4 (bao gồm cả vị trí thứ 4) của mảng even_numbers\n"
   ]
  },
  {
   "cell_type": "code",
   "execution_count": null,
   "id": "9dc4ff57",
   "metadata": {},
   "outputs": [],
   "source": [
    "# 13.Truy xuất các phần tử lớn hơn 10 từ mảng even_numbers\n"
   ]
  },
  {
   "cell_type": "code",
   "execution_count": null,
   "id": "8a01c5d5",
   "metadata": {},
   "outputs": [],
   "source": [
    "# 14. Truy xuất các phần tử chia hết cho 3 từ mảng even_numbers và lớn hơn 10\n"
   ]
  },
  {
   "cell_type": "markdown",
   "id": "dd87993a",
   "metadata": {},
   "source": [
    "### Mảng 2 chiều\n",
    "Từ mảng arr_2d đã tạo ở câu 8. Hãy thực hiện các truy xuất sau:"
   ]
  },
  {
   "cell_type": "code",
   "execution_count": 50,
   "id": "ff19b73f",
   "metadata": {},
   "outputs": [
    {
     "data": {
      "text/plain": [
       "array([[50, 55, 69, 57, 49, 84],\n",
       "       [41, 52, 61, 46, 39, 20],\n",
       "       [11,  3, 63, 56, 23, 58],\n",
       "       [19, 43, 50, 41,  1,  6]], dtype=int32)"
      ]
     },
     "execution_count": 50,
     "metadata": {},
     "output_type": "execute_result"
    }
   ],
   "source": [
    "arr_2d = np.random.randint(100, size = (4,6))\n",
    "arr_2d"
   ]
  },
  {
   "cell_type": "code",
   "execution_count": 51,
   "id": "54593c2d",
   "metadata": {},
   "outputs": [
    {
     "data": {
      "text/plain": [
       "np.int32(56)"
      ]
     },
     "execution_count": 51,
     "metadata": {},
     "output_type": "execute_result"
    }
   ],
   "source": [
    "# 15.Cho biết phần tử ở hàng thứ 2 và cột thứ 3 của mảng arr_2d\n",
    "arr_2d[2,3]"
   ]
  },
  {
   "cell_type": "code",
   "execution_count": 53,
   "id": "7fd755b1",
   "metadata": {},
   "outputs": [
    {
     "data": {
      "text/plain": [
       "array([[50, 55, 69, 57, 49, 84]], dtype=int32)"
      ]
     },
     "execution_count": 53,
     "metadata": {},
     "output_type": "execute_result"
    }
   ],
   "source": [
    "# 16. Hiển thị toàn bộ hàng 1 của mảng arr_2d\n",
    "arr_2d[:1,]"
   ]
  },
  {
   "cell_type": "code",
   "execution_count": null,
   "id": "78854370",
   "metadata": {},
   "outputs": [
    {
     "data": {
      "text/plain": [
       "array([[55],\n",
       "       [52],\n",
       "       [ 3],\n",
       "       [43]], dtype=int32)"
      ]
     },
     "execution_count": 54,
     "metadata": {},
     "output_type": "execute_result"
    }
   ],
   "source": [
    "# 17. Hiển thị toàn bộ cột 2 của mảng arr_2d\n",
    "arr_2d[:,1]"
   ]
  },
  {
   "cell_type": "code",
   "execution_count": null,
   "id": "de98d6b1",
   "metadata": {},
   "outputs": [
    {
     "data": {
      "text/plain": [
       "array([50, 55, 69, 57, 49, 84, 41, 52, 61, 46, 39, 63, 56, 58, 43, 50, 41],\n",
       "      dtype=int32)"
      ]
     },
     "execution_count": 56,
     "metadata": {},
     "output_type": "execute_result"
    }
   ],
   "source": [
    "# 18. Lọc các phần tử trong mảng arr_2d lớn hơn 30\n",
    "arr_loc = arr_2d[arr_2d >30]"
   ]
  },
  {
   "cell_type": "code",
   "execution_count": 66,
   "id": "be70a603",
   "metadata": {},
   "outputs": [
    {
     "ename": "IndexError",
     "evalue": "too many indices for array: array is 2-dimensional, but 3 were indexed",
     "output_type": "error",
     "traceback": [
      "\u001b[1;31m---------------------------------------------------------------------------\u001b[0m",
      "\u001b[1;31mIndexError\u001b[0m                                Traceback (most recent call last)",
      "Cell \u001b[1;32mIn[66], line 6\u001b[0m\n\u001b[0;32m      1\u001b[0m \u001b[38;5;66;03m# 19. Lọc ra các dòng có phần tử ở cột thứ 2 trong mảng arr_2d chia hết cho 4\u001b[39;00m\n\u001b[0;32m      2\u001b[0m arr_2d \u001b[38;5;241m=\u001b[39m np\u001b[38;5;241m.\u001b[39marray([[\u001b[38;5;241m50\u001b[39m, \u001b[38;5;241m55\u001b[39m, \u001b[38;5;241m69\u001b[39m, \u001b[38;5;241m57\u001b[39m, \u001b[38;5;241m49\u001b[39m, \u001b[38;5;241m84\u001b[39m],\n\u001b[0;32m      3\u001b[0m        [\u001b[38;5;241m41\u001b[39m, \u001b[38;5;241m52\u001b[39m, \u001b[38;5;241m9\u001b[39m, \u001b[38;5;241m46\u001b[39m, \u001b[38;5;241m39\u001b[39m, \u001b[38;5;241m20\u001b[39m],\n\u001b[0;32m      4\u001b[0m        [\u001b[38;5;241m11\u001b[39m,  \u001b[38;5;241m7\u001b[39m, \u001b[38;5;241m4\u001b[39m, \u001b[38;5;241m56\u001b[39m, \u001b[38;5;241m23\u001b[39m, \u001b[38;5;241m58\u001b[39m],\n\u001b[0;32m      5\u001b[0m        [\u001b[38;5;241m19\u001b[39m, \u001b[38;5;241m43\u001b[39m, \u001b[38;5;241m50\u001b[39m, \u001b[38;5;241m41\u001b[39m,  \u001b[38;5;241m1\u001b[39m,  \u001b[38;5;241m6\u001b[39m]])\n\u001b[1;32m----> 6\u001b[0m arr_loc \u001b[38;5;241m=\u001b[39m \u001b[43marr_2d\u001b[49m\u001b[43m[\u001b[49m\u001b[43m:\u001b[49m\u001b[43m,\u001b[49m\u001b[43marr_2d\u001b[49m\u001b[43m[\u001b[49m\u001b[43m:\u001b[49m\u001b[43m,\u001b[49m\u001b[43m:\u001b[49m\u001b[43m]\u001b[49m\u001b[43m \u001b[49m\u001b[38;5;241;43m%\u001b[39;49m\u001b[43m \u001b[49m\u001b[38;5;241;43m4\u001b[39;49m\u001b[43m \u001b[49m\u001b[38;5;241;43m==\u001b[39;49m\u001b[43m \u001b[49m\u001b[38;5;241;43m0\u001b[39;49m\u001b[43m]\u001b[49m\n\u001b[0;32m      7\u001b[0m arr_loc \n",
      "\u001b[1;31mIndexError\u001b[0m: too many indices for array: array is 2-dimensional, but 3 were indexed"
     ]
    }
   ],
   "source": [
    "# 19. Lọc ra các dòng có phần tử ở cột thứ 2 trong mảng arr_2d chia hết cho 4\n",
    "arr_2d = np.array([[50, 55, 69, 57, 49, 84],\n",
    "       [41, 52, 9, 46, 39, 20],\n",
    "       [11,  7, 4, 56, 23, 58],\n",
    "       [19, 43, 50, 41,  1,  6]])\n",
    "arr_loc = arr_2d[:,arr_2d[:,:] % 4 == 0]\n",
    "arr_loc "
   ]
  },
  {
   "cell_type": "code",
   "execution_count": null,
   "id": "858513a7",
   "metadata": {},
   "outputs": [],
   "source": [
    "# 20. Cho biết các giá trị trong mảng arr_2d nằm trong khoảng từ [10, 30]\n"
   ]
  },
  {
   "cell_type": "markdown",
   "id": "61b9fed8",
   "metadata": {},
   "source": [
    "## Phần 3: Thêm, xóa, sửa phần tử trong mảng\n",
    "### Mảng 1 chiều\n",
    "Từ mảng even_numbers đã tạo ở câu 1. Hãy thực hiện các yêu cầu sau:"
   ]
  },
  {
   "cell_type": "code",
   "execution_count": null,
   "id": "92b6de9c",
   "metadata": {},
   "outputs": [],
   "source": []
  },
  {
   "cell_type": "markdown",
   "id": "de472030",
   "metadata": {},
   "source": []
  },
  {
   "cell_type": "code",
   "execution_count": 66,
   "id": "6f7209d9",
   "metadata": {},
   "outputs": [
    {
     "data": {
      "text/plain": [
       "array([1., 1., 1., 1., 3.])"
      ]
     },
     "execution_count": 66,
     "metadata": {},
     "output_type": "execute_result"
    }
   ],
   "source": [
    "# 21. Thêm giá trị 22 vào cuối mảng \n",
    "arr_  = np.ones(4)\n",
    "arr_ = np.concatenate([arr_, [3]])\n",
    "arr_"
   ]
  },
  {
   "cell_type": "code",
   "execution_count": 68,
   "id": "056021e7",
   "metadata": {},
   "outputs": [
    {
     "data": {
      "text/plain": [
       "array([ 1.,  1.,  1.,  1., 30., 30.,  3.])"
      ]
     },
     "execution_count": 68,
     "metadata": {},
     "output_type": "execute_result"
    }
   ],
   "source": [
    "# 22. Thêm giá trị 30 vào vị trí thứ 5 của mảng\n",
    "arr_ = np.insert(arr_,4, 30)\n",
    "arr_"
   ]
  },
  {
   "cell_type": "code",
   "execution_count": 73,
   "id": "7e345ab2",
   "metadata": {},
   "outputs": [
    {
     "data": {
      "text/plain": [
       "array([0, 1, 2, 3, 4, 5, 7, 8, 9])"
      ]
     },
     "execution_count": 73,
     "metadata": {},
     "output_type": "execute_result"
    }
   ],
   "source": [
    "# 23. Tạo mảng temp là mảng even_numbers đã xóa giá trị tại vị trí thứ 7 \n",
    "temp_ = np.array([range(10)])\n",
    "arr_ = np.delete(temp_, 6)\n",
    "arr_"
   ]
  },
  {
   "cell_type": "code",
   "execution_count": 79,
   "id": "4ceb9dca",
   "metadata": {},
   "outputs": [
    {
     "data": {
      "text/plain": [
       "array([0, 1, 2, 3, 4, 5, 6, 7, 9])"
      ]
     },
     "execution_count": 79,
     "metadata": {},
     "output_type": "execute_result"
    }
   ],
   "source": [
    "# 24. Tạo mảng temp là mảng even_numbers đã xóa giá trị 8\n",
    "arr_ = temp_[temp_ != 8]\n",
    "arr_"
   ]
  },
  {
   "cell_type": "code",
   "execution_count": 3,
   "id": "75749818",
   "metadata": {},
   "outputs": [
    {
     "name": "stdout",
     "output_type": "stream",
     "text": [
      "[13 22  4 24 69 23 51 62  7 27 72 58 61 66 71  0 40 76 94 37]\n"
     ]
    },
    {
     "data": {
      "text/plain": [
       "array([13, 22, 10, 24, 69, 23, 51, 62, 10, 27, 72, 58, 61, 66, 71, 10, 40,\n",
       "       76, 94, 37], dtype=int32)"
      ]
     },
     "execution_count": 3,
     "metadata": {},
     "output_type": "execute_result"
    }
   ],
   "source": [
    "# 25. Thay đổi các giá trị < 10 từ mảng even_numbers thành 10\n",
    "import numpy as np\n",
    "arr_ = np.random.randint(100, size = 20)\n",
    "print(arr_)\n",
    "arr_[arr_ < 10] = 10\n",
    "arr_"
   ]
  },
  {
   "cell_type": "markdown",
   "id": "a5d57a96",
   "metadata": {},
   "source": [
    "### Mảng 2 chiều\n",
    "Từ mảng arr_2d đã tạo ở câu 8. Hãy thực hiện các yêu cầu sau:"
   ]
  },
  {
   "cell_type": "code",
   "execution_count": 10,
   "id": "23a7ba2e",
   "metadata": {},
   "outputs": [
    {
     "data": {
      "text/plain": [
       "array([[0., 0., 0., 0., 0., 0.],\n",
       "       [0., 0., 0., 0., 0., 0.],\n",
       "       [0., 0., 0., 0., 0., 0.],\n",
       "       [0., 0., 0., 0., 0., 0.]])"
      ]
     },
     "execution_count": 10,
     "metadata": {},
     "output_type": "execute_result"
    }
   ],
   "source": [
    "import numpy as np\n",
    "\n",
    "arr_ = np.zeros(4*6).reshape(4,6)\n",
    "arr_"
   ]
  },
  {
   "cell_type": "code",
   "execution_count": 8,
   "id": "9ea1a10a",
   "metadata": {},
   "outputs": [
    {
     "data": {
      "text/plain": [
       "array([ 0.,  0.,  0.,  0.,  0.,  0.,  0.,  0.,  0.,  0., 10., 16., 20.,\n",
       "       24.])"
      ]
     },
     "execution_count": 8,
     "metadata": {},
     "output_type": "execute_result"
    }
   ],
   "source": [
    "# 26. Thêm hàng mới [10, 16, 20, 24] vào cuối mảng arr_2d\n",
    "\n",
    "arr_2d = np.concatenate([np.zeros(10),[10, 16, 20, 24]])\n",
    "arr_2d"
   ]
  },
  {
   "cell_type": "code",
   "execution_count": 24,
   "id": "6e9ed285",
   "metadata": {},
   "outputs": [
    {
     "data": {
      "text/plain": [
       "array([[28, 32, 99,  8, 96],\n",
       "       [54, 54, 39, 29,  3],\n",
       "       [55, 87,  8, 49, 82],\n",
       "       [72, 15, 89, 95, 30]], dtype=int32)"
      ]
     },
     "execution_count": 24,
     "metadata": {},
     "output_type": "execute_result"
    }
   ],
   "source": [
    "arr_ = np.random.randint(100, size = (4,5))\n",
    "arr_"
   ]
  },
  {
   "cell_type": "code",
   "execution_count": null,
   "id": "0528f130",
   "metadata": {},
   "outputs": [
    {
     "data": {
      "text/plain": [
       "array([[28, 32, 99,  8],\n",
       "       [54, 54, 39, 29],\n",
       "       [55, 87,  8, 49]], dtype=int32)"
      ]
     },
     "execution_count": 45,
     "metadata": {},
     "output_type": "execute_result"
    }
   ],
   "source": [
    "arr_[0:3,0:4]   "
   ]
  },
  {
   "cell_type": "code",
   "execution_count": null,
   "id": "5b919501",
   "metadata": {},
   "outputs": [],
   "source": []
  },
  {
   "cell_type": "code",
   "execution_count": 39,
   "id": "1da71d94",
   "metadata": {},
   "outputs": [],
   "source": [
    "# 27. Thêm cột mới [50, 60, 70, 80] vào cuối mảng arr_2d\n"
   ]
  },
  {
   "cell_type": "code",
   "execution_count": 40,
   "id": "0a7e5a73",
   "metadata": {},
   "outputs": [],
   "source": [
    "# 28. Tạo mảng temp là mảng arr_2d đã xóa hàng thứ 2\n"
   ]
  },
  {
   "cell_type": "code",
   "execution_count": 41,
   "id": "b10574b3",
   "metadata": {},
   "outputs": [],
   "source": [
    "# 29. Tạo mảng temp là mảng arr_2d đã xóa cột thứ 3\n"
   ]
  },
  {
   "cell_type": "code",
   "execution_count": 42,
   "id": "8f8ba960",
   "metadata": {},
   "outputs": [],
   "source": [
    "# 30. Sửa giá trị tại dòng 1, cột 2 thành 30\n"
   ]
  },
  {
   "cell_type": "code",
   "execution_count": 43,
   "id": "7de842d5",
   "metadata": {},
   "outputs": [],
   "source": [
    "# 31. Sửa các giá trị lớn hơn 10 và nhỏ hơn 20 trong arr_2d thành 20\n"
   ]
  },
  {
   "cell_type": "code",
   "execution_count": 44,
   "id": "8979fc54",
   "metadata": {},
   "outputs": [],
   "source": [
    "# 32. Sửa các giá trị nhỏ hơn 30 và không chia hết cho 4 tại dòng đầu tiên trong arr_2d thành 30\n"
   ]
  },
  {
   "cell_type": "code",
   "execution_count": null,
   "id": "73a10ac7",
   "metadata": {},
   "outputs": [],
   "source": []
  }
 ],
 "metadata": {
  "kernelspec": {
   "display_name": "Python 3",
   "language": "python",
   "name": "python3"
  },
  "language_info": {
   "codemirror_mode": {
    "name": "ipython",
    "version": 3
   },
   "file_extension": ".py",
   "mimetype": "text/x-python",
   "name": "python",
   "nbconvert_exporter": "python",
   "pygments_lexer": "ipython3",
   "version": "3.13.2"
  }
 },
 "nbformat": 4,
 "nbformat_minor": 5
}
