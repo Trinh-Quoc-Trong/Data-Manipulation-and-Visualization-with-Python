{
 "cells": [
  {
   "cell_type": "markdown",
   "metadata": {
    "id": "HcCnHAGS_zzb"
   },
   "source": [
    "## Cho tập tin \"shark.tsv\" chứa dữ liệu số vụ cá mập tấn công các tháng trong năm của 3 quốc gia USA, Australia, South Africa)"
   ]
  },
  {
   "cell_type": "code",
   "execution_count": 1,
   "metadata": {},
   "outputs": [],
   "source": [
    "import numpy as np"
   ]
  },
  {
   "cell_type": "code",
   "execution_count": null,
   "metadata": {
    "id": "js_aje47_zzj",
    "outputId": "04ab9bda-ed1f-4506-f9e9-e002d46ac613"
   },
   "outputs": [
    {
     "ename": "AttributeError",
     "evalue": "module 'numpy' has no attribute 'getformtxt'",
     "output_type": "error",
     "traceback": [
      "\u001b[1;31m---------------------------------------------------------------------------\u001b[0m",
      "\u001b[1;31mAttributeError\u001b[0m                            Traceback (most recent call last)",
      "Cell \u001b[1;32mIn[2], line 2\u001b[0m\n\u001b[0;32m      1\u001b[0m \u001b[38;5;66;03m#1. Đọc dữ liệu từ tập tin shark.tsv và đưa vào mảng shark(Gợi ý: sử dụng hàm np.genfromtxt) \u001b[39;00m\n\u001b[1;32m----> 2\u001b[0m number_shark_attacks \u001b[38;5;241m=\u001b[39m \u001b[43mnp\u001b[49m\u001b[38;5;241;43m.\u001b[39;49m\u001b[43mgetformtxt\u001b[49m()\n",
      "File \u001b[1;32mc:\\Users\\MSI\\AppData\\Local\\Programs\\Python\\Python313\\Lib\\site-packages\\numpy\\__init__.py:427\u001b[0m, in \u001b[0;36m__getattr__\u001b[1;34m(attr)\u001b[0m\n\u001b[0;32m    424\u001b[0m     \u001b[38;5;28;01mimport\u001b[39;00m \u001b[38;5;21;01mnumpy\u001b[39;00m\u001b[38;5;21;01m.\u001b[39;00m\u001b[38;5;21;01mchar\u001b[39;00m \u001b[38;5;28;01mas\u001b[39;00m \u001b[38;5;21;01mchar\u001b[39;00m\n\u001b[0;32m    425\u001b[0m     \u001b[38;5;28;01mreturn\u001b[39;00m char\u001b[38;5;241m.\u001b[39mchararray\n\u001b[1;32m--> 427\u001b[0m \u001b[38;5;28;01mraise\u001b[39;00m \u001b[38;5;167;01mAttributeError\u001b[39;00m(\u001b[38;5;124m\"\u001b[39m\u001b[38;5;124mmodule \u001b[39m\u001b[38;5;132;01m{!r}\u001b[39;00m\u001b[38;5;124m has no attribute \u001b[39m\u001b[38;5;124m\"\u001b[39m\n\u001b[0;32m    428\u001b[0m                      \u001b[38;5;124m\"\u001b[39m\u001b[38;5;132;01m{!r}\u001b[39;00m\u001b[38;5;124m\"\u001b[39m\u001b[38;5;241m.\u001b[39mformat(\u001b[38;5;18m__name__\u001b[39m, attr))\n",
      "\u001b[1;31mAttributeError\u001b[0m: module 'numpy' has no attribute 'getformtxt'"
     ]
    }
   ],
   "source": [
    "#1. Đọc dữ liệu từ tập tin shark.tsv và đưa vào mảng shark(Gợi ý: sử dụng hàm np.genfromtxt) \n",
    "number_shark_attacks = np.getformtxt('shark.tsv', delimiter='\\t')"
   ]
  },
  {
   "cell_type": "markdown",
   "metadata": {
    "id": "d1MMFLAK_z0K"
   },
   "source": [
    "<details>\n",
    "  <summary>Nhấn vào đây để xem kết quả !</summary>\n",
    "  \n",
    "  <pre>array([[ -1,  28,  94,  68],\n",
    "       [ -1,  27,  78,  32],\n",
    "       [ -1,  66,  63,  34],\n",
    "       [ -1, 103,  54,  25],\n",
    "       [ -1, 106,  21,  25],\n",
    "       [ -1, 173,  25,  22],\n",
    "       [ -1, 232,  25,  28],\n",
    "       [ -1, 208,  28,  15],\n",
    "       [ -1, 182,  35,  17],\n",
    "       [ -1, 141,  56,  16],\n",
    "       [ -1,  79,  65,  20],\n",
    "       [ -1,  37,  94,  46]])\n",
    "</pre>\n",
    "\n",
    "</details>"
   ]
  },
  {
   "cell_type": "code",
   "execution_count": 3,
   "metadata": {
    "id": "cZi3vUFa_z0Y",
    "outputId": "5067e0c6-6942-40dd-9840-6a1063626971"
   },
   "outputs": [
    {
     "data": {
      "text/plain": [
       "(12, 4)"
      ]
     },
     "execution_count": 3,
     "metadata": {},
     "output_type": "execute_result"
    }
   ],
   "source": [
    "#2. Cho biết số phần tử mỗi chiều của mảng\n"
   ]
  },
  {
   "cell_type": "markdown",
   "metadata": {
    "id": "jF1zCpuz_z1A"
   },
   "source": [
    "<details>\n",
    "  <summary>Nhấn vào đây để xem kết quả !</summary>\n",
    "  \n",
    "  <pre>(12, 4)\n",
    "</pre>\n",
    "\n",
    "</details>"
   ]
  },
  {
   "cell_type": "code",
   "execution_count": 4,
   "metadata": {
    "id": "aCNh2J_r_z1M",
    "outputId": "9572aeef-c457-45be-cf2a-ec039efa60fc"
   },
   "outputs": [
    {
     "data": {
      "text/plain": [
       "array([[  1,  28,  94,  68],\n",
       "       [  2,  27,  78,  32],\n",
       "       [  3,  66,  63,  34],\n",
       "       [  4, 103,  54,  25],\n",
       "       [  5, 106,  21,  25],\n",
       "       [  6, 173,  25,  22],\n",
       "       [  7, 232,  25,  28],\n",
       "       [  8, 208,  28,  15],\n",
       "       [  9, 182,  35,  17],\n",
       "       [ 10, 141,  56,  16],\n",
       "       [ 11,  79,  65,  20],\n",
       "       [ 12,  37,  94,  46]])"
      ]
     },
     "execution_count": 4,
     "metadata": {},
     "output_type": "execute_result"
    }
   ],
   "source": [
    "#3. Thay cột 1 (giá trị -1) bằng giá trị tương ứng các tháng trong năm 1-12\n"
   ]
  },
  {
   "cell_type": "markdown",
   "metadata": {
    "id": "nkouIiuf_z1y"
   },
   "source": [
    "<details>\n",
    "  <summary>Nhấn vào đây để xem kết quả !</summary>\n",
    "  \n",
    "  <pre>array([[  1,  28,  94,  68],\n",
    "       [  2,  27,  78,  32],\n",
    "       [  3,  66,  63,  34],\n",
    "       [  4, 103,  54,  25],\n",
    "       [  5, 106,  21,  25],\n",
    "       [  6, 173,  25,  22],\n",
    "       [  7, 232,  25,  28],\n",
    "       [  8, 208,  28,  15],\n",
    "       [  9, 182,  35,  17],\n",
    "       [ 10, 141,  56,  16],\n",
    "       [ 11,  79,  65,  20],\n",
    "       [ 12,  37,  94,  46]])\n",
    "</pre>\n",
    "\n",
    "</details>"
   ]
  },
  {
   "cell_type": "code",
   "execution_count": 5,
   "metadata": {
    "id": "N1yW2POD_z15",
    "outputId": "187776ce-251c-448b-d225-2bd6286b8d3f"
   },
   "outputs": [
    {
     "data": {
      "text/plain": [
       "array([115.16666667,  53.16666667,  29.        ])"
      ]
     },
     "execution_count": 5,
     "metadata": {},
     "output_type": "execute_result"
    }
   ],
   "source": [
    "#4. Hiển thị số vụ cá mập tấn công trung bình của 3 quốc gia\n"
   ]
  },
  {
   "cell_type": "markdown",
   "metadata": {
    "id": "i1uvcJc7_z2V"
   },
   "source": [
    "<details>\n",
    "  <summary>Nhấn vào đây để xem kết quả !</summary>\n",
    "  \n",
    "  <pre>array([115.16666667,  53.16666667,  29.        ])\n",
    "</pre>\n",
    "\n",
    "</details>"
   ]
  },
  {
   "cell_type": "code",
   "execution_count": 6,
   "metadata": {
    "id": "71IVEorE_z2b",
    "outputId": "04094f00-3295-485c-a928-0610c9f1eeb2"
   },
   "outputs": [
    {
     "data": {
      "text/plain": [
       "array([63.33333333, 45.66666667, 54.33333333, 60.66666667, 50.66666667,\n",
       "       73.33333333, 95.        , 83.66666667, 78.        , 71.        ,\n",
       "       54.66666667, 59.        ])"
      ]
     },
     "execution_count": 6,
     "metadata": {},
     "output_type": "execute_result"
    }
   ],
   "source": [
    "#5. Hiển thị số vụ cá mập tấn công trung bình của mỗi tháng  \n"
   ]
  },
  {
   "cell_type": "markdown",
   "metadata": {
    "id": "eWadsSWe_z2x"
   },
   "source": [
    "<details>\n",
    "  <summary>Nhấn vào đây để xem kết quả !</summary>\n",
    "  \n",
    "  <pre>array([63.33333333, 45.66666667, 54.33333333, 60.66666667, 50.66666667,\n",
    "       73.33333333, 95.        , 83.66666667, 78.        , 71.        ,\n",
    "       54.66666667, 59.        ])\n",
    "</pre>\n",
    "\n",
    "</details>"
   ]
  },
  {
   "cell_type": "code",
   "execution_count": 7,
   "metadata": {
    "id": "qWC2vxK1_z2z",
    "outputId": "49de8efd-7531-4164-b381-2638954fe7f9"
   },
   "outputs": [
    {
     "data": {
      "text/plain": [
       "array([[  1,  28,  94,  68, 190],\n",
       "       [  2,  27,  78,  32, 137],\n",
       "       [  3,  66,  63,  34, 163],\n",
       "       [  4, 103,  54,  25, 182],\n",
       "       [  5, 106,  21,  25, 152],\n",
       "       [  6, 173,  25,  22, 220],\n",
       "       [  7, 232,  25,  28, 285],\n",
       "       [  8, 208,  28,  15, 251],\n",
       "       [  9, 182,  35,  17, 234],\n",
       "       [ 10, 141,  56,  16, 213],\n",
       "       [ 11,  79,  65,  20, 164],\n",
       "       [ 12,  37,  94,  46, 177]])"
      ]
     },
     "execution_count": 7,
     "metadata": {},
     "output_type": "execute_result"
    }
   ],
   "source": [
    "#6. Tạo thêm cột tổng số vụ cá mập tấn công theo mỗi tháng \n"
   ]
  },
  {
   "cell_type": "markdown",
   "metadata": {
    "id": "QFEbOB7I_z3F"
   },
   "source": [
    "<details>\n",
    "  <summary>Nhấn vào đây để xem kết quả !</summary>\n",
    "  \n",
    "  <pre>array([[  1,  28,  94,  68, 190],\n",
    "       [  2,  27,  78,  32, 137],\n",
    "       [  3,  66,  63,  34, 163],\n",
    "       [  4, 103,  54,  25, 182],\n",
    "       [  5, 106,  21,  25, 152],\n",
    "       [  6, 173,  25,  22, 220],\n",
    "       [  7, 232,  25,  28, 285],\n",
    "       [  8, 208,  28,  15, 251],\n",
    "       [  9, 182,  35,  17, 234],\n",
    "       [ 10, 141,  56,  16, 213],\n",
    "       [ 11,  79,  65,  20, 164],\n",
    "       [ 12,  37,  94,  46, 177]])\n",
    "</pre>\n",
    "\n",
    "</details>"
   ]
  },
  {
   "cell_type": "code",
   "execution_count": 8,
   "metadata": {
    "id": "bqUp3K0X_z3H",
    "outputId": "af599376-ab9f-4f14-acad-0b2de83a0d19"
   },
   "outputs": [
    {
     "data": {
      "text/plain": [
       "array([[  6, 173,  25,  22, 220],\n",
       "       [  7, 232,  25,  28, 285],\n",
       "       [  8, 208,  28,  15, 251],\n",
       "       [  9, 182,  35,  17, 234],\n",
       "       [ 10, 141,  56,  16, 213]])"
      ]
     },
     "execution_count": 8,
     "metadata": {},
     "output_type": "execute_result"
    }
   ],
   "source": [
    "#7. Cho biết những tháng có tổng số vụ cá mập tấn công >200\n"
   ]
  },
  {
   "cell_type": "markdown",
   "metadata": {
    "id": "vCFU4BfL_z3o"
   },
   "source": [
    "<details>\n",
    "  <summary>Nhấn vào đây để xem kết quả !</summary>\n",
    "  \n",
    "  <pre>array([[  6, 173,  25,  22, 220],\n",
    "       [  7, 232,  25,  28, 285],\n",
    "       [  8, 208,  28,  15, 251],\n",
    "       [  9, 182,  35,  17, 234],\n",
    "       [ 10, 141,  56,  16, 213]])\n",
    "</pre>\n",
    "\n",
    "</details>"
   ]
  },
  {
   "cell_type": "code",
   "execution_count": 9,
   "metadata": {
    "id": "O9s2G0B3_z3v",
    "outputId": "ef4f174b-5b08-4534-e7c0-6fe1fc50099f"
   },
   "outputs": [
    {
     "data": {
      "text/plain": [
       "285"
      ]
     },
     "execution_count": 9,
     "metadata": {},
     "output_type": "execute_result"
    }
   ],
   "source": [
    "#8. Cho biết tổng số vụ cá mập tấn công nhiều nhất trong tháng là bao nhiêu\n"
   ]
  },
  {
   "cell_type": "markdown",
   "metadata": {
    "id": "giEpDNsp_z4C"
   },
   "source": [
    "<details>\n",
    "  <summary>Nhấn vào đây để xem kết quả !</summary>\n",
    "  \n",
    "  <pre>285\n",
    "</pre>\n",
    "\n",
    "</details>"
   ]
  },
  {
   "cell_type": "code",
   "execution_count": 10,
   "metadata": {
    "id": "PNUieu5a_z4E",
    "outputId": "d7701a92-26bd-4bf4-8825-41cc06045f2d"
   },
   "outputs": [
    {
     "name": "stdout",
     "output_type": "stream",
     "text": [
      "Tháng có tổng số vụ cá mập tấn công nhiều nhất là tháng : 7\n"
     ]
    }
   ],
   "source": [
    "#9. Cho biết tháng nào có tổng số vụ cá mập tấn công nhiều nhất\n"
   ]
  },
  {
   "cell_type": "markdown",
   "metadata": {
    "id": "GVtBUdND_z4g"
   },
   "source": [
    "<details>\n",
    "  <summary>Nhấn vào đây để xem kết quả !</summary>\n",
    "  \n",
    "  <pre>Tháng có tổng số vụ cá mập tấn công nhiều nhất là tháng : 7\n",
    "</pre>\n",
    "\n",
    "</details>"
   ]
  },
  {
   "cell_type": "code",
   "execution_count": null,
   "metadata": {
    "id": "6lCkSWH9_z4j"
   },
   "outputs": [],
   "source": []
  }
 ],
 "metadata": {
  "colab": {
   "provenance": []
  },
  "kernelspec": {
   "display_name": "Python 3",
   "language": "python",
   "name": "python3"
  },
  "language_info": {
   "codemirror_mode": {
    "name": "ipython",
    "version": 3
   },
   "file_extension": ".py",
   "mimetype": "text/x-python",
   "name": "python",
   "nbconvert_exporter": "python",
   "pygments_lexer": "ipython3",
   "version": "3.13.2"
  }
 },
 "nbformat": 4,
 "nbformat_minor": 1
}
