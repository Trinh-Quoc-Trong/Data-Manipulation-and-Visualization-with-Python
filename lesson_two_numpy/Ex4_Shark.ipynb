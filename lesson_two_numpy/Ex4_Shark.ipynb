{
 "cells": [
  {
   "cell_type": "markdown",
   "metadata": {
    "id": "HcCnHAGS_zzb"
   },
   "source": [
    "## Cho tập tin \"shark.tsv\" chứa dữ liệu số vụ cá mập tấn công các tháng trong năm của 3 quốc gia USA, Australia, South Africa)"
   ]
  },
  {
   "cell_type": "code",
   "execution_count": 2,
   "metadata": {},
   "outputs": [],
   "source": [
    "import numpy as np"
   ]
  },
  {
   "cell_type": "code",
   "execution_count": 19,
   "metadata": {
    "id": "js_aje47_zzj",
    "outputId": "04ab9bda-ed1f-4506-f9e9-e002d46ac613"
   },
   "outputs": [
    {
     "data": {
      "text/plain": [
       "array([[ -1,  28,  94,  68],\n",
       "       [ -1,  27,  78,  32],\n",
       "       [ -1,  66,  63,  34],\n",
       "       [ -1, 103,  54,  25],\n",
       "       [ -1, 106,  21,  25],\n",
       "       [ -1, 173,  25,  22],\n",
       "       [ -1, 232,  25,  28],\n",
       "       [ -1, 208,  28,  15],\n",
       "       [ -1, 182,  35,  17],\n",
       "       [ -1, 141,  56,  16],\n",
       "       [ -1,  79,  65,  20],\n",
       "       [ -1,  37,  94,  46]])"
      ]
     },
     "execution_count": 19,
     "metadata": {},
     "output_type": "execute_result"
    }
   ],
   "source": [
    "#1. Đọc dữ liệu từ tập tin shark.tsv và đưa vào mảng shark(Gợi ý: sử dụng hàm np.genfromtxt) \n",
    "number_shark_attacks = np.genfromtxt(fname = 'shark.tsv', delimiter='\\t', dtype = \"int\")\n",
    "number_shark_attacks = number_shark_attacks[1:]\n",
    "number_shark_attacks"
   ]
  },
  {
   "cell_type": "markdown",
   "metadata": {
    "id": "d1MMFLAK_z0K"
   },
   "source": [
    "<details>\n",
    "  <summary>Nhấn vào đây để xem kết quả !</summary>\n",
    "  \n",
    "  <pre>array([[ -1,  28,  94,  68],\n",
    "       [ -1,  27,  78,  32],\n",
    "       [ -1,  66,  63,  34],\n",
    "       [ -1, 103,  54,  25],\n",
    "       [ -1, 106,  21,  25],\n",
    "       [ -1, 173,  25,  22],\n",
    "       [ -1, 232,  25,  28],\n",
    "       [ -1, 208,  28,  15],\n",
    "       [ -1, 182,  35,  17],\n",
    "       [ -1, 141,  56,  16],\n",
    "       [ -1,  79,  65,  20],\n",
    "       [ -1,  37,  94,  46]])\n",
    "</pre>\n",
    "\n",
    "</details>"
   ]
  },
  {
   "cell_type": "code",
   "execution_count": 20,
   "metadata": {
    "id": "cZi3vUFa_z0Y",
    "outputId": "5067e0c6-6942-40dd-9840-6a1063626971"
   },
   "outputs": [
    {
     "data": {
      "text/plain": [
       "(12, 4)"
      ]
     },
     "execution_count": 20,
     "metadata": {},
     "output_type": "execute_result"
    }
   ],
   "source": [
    "#2. Cho biết số phần tử mỗi chiều của mảng\n",
    "number_shark_attacks.shape"
   ]
  },
  {
   "cell_type": "markdown",
   "metadata": {
    "id": "jF1zCpuz_z1A"
   },
   "source": [
    "<details>\n",
    "  <summary>Nhấn vào đây để xem kết quả !</summary>\n",
    "  \n",
    "  <pre>(12, 4)\n",
    "</pre>\n",
    "\n",
    "</details>"
   ]
  },
  {
   "cell_type": "code",
   "execution_count": 22,
   "metadata": {
    "id": "aCNh2J_r_z1M",
    "outputId": "9572aeef-c457-45be-cf2a-ec039efa60fc"
   },
   "outputs": [
    {
     "data": {
      "text/plain": [
       "array([[  1,  28,  94,  68],\n",
       "       [  2,  27,  78,  32],\n",
       "       [  3,  66,  63,  34],\n",
       "       [  4, 103,  54,  25],\n",
       "       [  5, 106,  21,  25],\n",
       "       [  6, 173,  25,  22],\n",
       "       [  7, 232,  25,  28],\n",
       "       [  8, 208,  28,  15],\n",
       "       [  9, 182,  35,  17],\n",
       "       [ 10, 141,  56,  16],\n",
       "       [ 11,  79,  65,  20],\n",
       "       [ 12,  37,  94,  46]])"
      ]
     },
     "execution_count": 22,
     "metadata": {},
     "output_type": "execute_result"
    }
   ],
   "source": [
    "#3. Thay cột 1 (giá trị -1) bằng giá trị tương ứng các tháng trong năm 1-12\n",
    "number_shark_attacks[:, 0] = np.arange(1, number_shark_attacks.shape[0]+1)\n",
    "number_shark_attacks"
   ]
  },
  {
   "cell_type": "markdown",
   "metadata": {
    "id": "nkouIiuf_z1y"
   },
   "source": [
    "<details>\n",
    "  <summary>Nhấn vào đây để xem kết quả !</summary>\n",
    "  \n",
    "  <pre>array([[  1,  28,  94,  68],\n",
    "       [  2,  27,  78,  32],\n",
    "       [  3,  66,  63,  34],\n",
    "       [  4, 103,  54,  25],\n",
    "       [  5, 106,  21,  25],\n",
    "       [  6, 173,  25,  22],\n",
    "       [  7, 232,  25,  28],\n",
    "       [  8, 208,  28,  15],\n",
    "       [  9, 182,  35,  17],\n",
    "       [ 10, 141,  56,  16],\n",
    "       [ 11,  79,  65,  20],\n",
    "       [ 12,  37,  94,  46]])\n",
    "</pre>\n",
    "\n",
    "</details>"
   ]
  },
  {
   "cell_type": "code",
   "execution_count": 32,
   "metadata": {
    "id": "N1yW2POD_z15",
    "outputId": "187776ce-251c-448b-d225-2bd6286b8d3f"
   },
   "outputs": [
    {
     "data": {
      "text/plain": [
       "array([115.16666667,  53.16666667,  29.        ])"
      ]
     },
     "execution_count": 32,
     "metadata": {},
     "output_type": "execute_result"
    }
   ],
   "source": [
    "#4. Hiển thị số vụ cá mập tấn công trung bình của 3 quốc gia\n",
    "# sum_USA =np.array([np.sum(number_shark_attacks[:, i])/12 for i in range(1,number_shark_attacks.shape[1]+1)]) \n",
    "sum_USA = np.array([np.sum(number_shark_attacks[:, i]) / 12 for i in range(1,number_shark_attacks.shape[1])])  \n",
    "sum_USA"
   ]
  },
  {
   "cell_type": "markdown",
   "metadata": {
    "id": "i1uvcJc7_z2V"
   },
   "source": [
    "<details>\n",
    "  <summary>Nhấn vào đây để xem kết quả !</summary>\n",
    "  \n",
    "  <pre>array([115.16666667,  53.16666667,  29.        ])\n",
    "</pre>\n",
    "\n",
    "</details>"
   ]
  },
  {
   "cell_type": "code",
   "execution_count": 30,
   "metadata": {
    "id": "71IVEorE_z2b",
    "outputId": "04094f00-3295-485c-a928-0610c9f1eeb2"
   },
   "outputs": [
    {
     "data": {
      "text/plain": [
       "array([63.33333333, 45.66666667, 54.33333333, 60.66666667, 50.66666667,\n",
       "       73.33333333, 95.        , 83.66666667, 78.        , 71.        ,\n",
       "       54.66666667, 59.        ])"
      ]
     },
     "execution_count": 30,
     "metadata": {},
     "output_type": "execute_result"
    }
   ],
   "source": [
    "#5. Hiển thị số vụ cá mập tấn công trung bình của mỗi tháng  \n",
    "sum_month = np.array([np.sum(number_shark_attacks[i, 1:]) / (number_shark_attacks.shape[1]-1) for i in range(number_shark_attacks.shape[0])])  \n",
    "\n",
    "sum_month"
   ]
  },
  {
   "cell_type": "markdown",
   "metadata": {
    "id": "eWadsSWe_z2x"
   },
   "source": [
    "<details>\n",
    "  <summary>Nhấn vào đây để xem kết quả !</summary>\n",
    "  \n",
    "  <pre>array([63.33333333, 45.66666667, 54.33333333, 60.66666667, 50.66666667,\n",
    "       73.33333333, 95.        , 83.66666667, 78.        , 71.        ,\n",
    "       54.66666667, 59.        ])\n",
    "</pre>\n",
    "\n",
    "</details>"
   ]
  },
  {
   "cell_type": "code",
   "execution_count": 35,
   "metadata": {
    "id": "qWC2vxK1_z2z",
    "outputId": "49de8efd-7531-4164-b381-2638954fe7f9"
   },
   "outputs": [
    {
     "data": {
      "text/plain": [
       "array([[  1,  28,  94,  68, 190],\n",
       "       [  2,  27,  78,  32, 137],\n",
       "       [  3,  66,  63,  34, 163],\n",
       "       [  4, 103,  54,  25, 182],\n",
       "       [  5, 106,  21,  25, 152],\n",
       "       [  6, 173,  25,  22, 220],\n",
       "       [  7, 232,  25,  28, 285],\n",
       "       [  8, 208,  28,  15, 251],\n",
       "       [  9, 182,  35,  17, 234],\n",
       "       [ 10, 141,  56,  16, 213],\n",
       "       [ 11,  79,  65,  20, 164],\n",
       "       [ 12,  37,  94,  46, 177]])"
      ]
     },
     "execution_count": 35,
     "metadata": {},
     "output_type": "execute_result"
    }
   ],
   "source": [
    "#6. Tạo thêm cột tổng số vụ cá mập tấn công theo mỗi tháng \n",
    "sum_month_shark_attacks = np.array([np.sum(number_shark_attacks[i, 1:]) for i in range(number_shark_attacks.shape[0])])  \n",
    "\n",
    "number_shark_attacks = np.insert(number_shark_attacks, number_shark_attacks.shape[1], values=sum_month_shark_attacks, axis=1)\n",
    "number_shark_attacks \n"
   ]
  },
  {
   "cell_type": "markdown",
   "metadata": {
    "id": "QFEbOB7I_z3F"
   },
   "source": [
    "<details>\n",
    "  <summary>Nhấn vào đây để xem kết quả !</summary>\n",
    "  \n",
    "  <pre>array([[  1,  28,  94,  68, 190],\n",
    "       [  2,  27,  78,  32, 137],\n",
    "       [  3,  66,  63,  34, 163],\n",
    "       [  4, 103,  54,  25, 182],\n",
    "       [  5, 106,  21,  25, 152],\n",
    "       [  6, 173,  25,  22, 220],\n",
    "       [  7, 232,  25,  28, 285],\n",
    "       [  8, 208,  28,  15, 251],\n",
    "       [  9, 182,  35,  17, 234],\n",
    "       [ 10, 141,  56,  16, 213],\n",
    "       [ 11,  79,  65,  20, 164],\n",
    "       [ 12,  37,  94,  46, 177]])\n",
    "</pre>\n",
    "\n",
    "</details>"
   ]
  },
  {
   "cell_type": "code",
   "execution_count": 8,
   "metadata": {
    "id": "bqUp3K0X_z3H",
    "outputId": "af599376-ab9f-4f14-acad-0b2de83a0d19"
   },
   "outputs": [
    {
     "data": {
      "text/plain": [
       "array([[  6, 173,  25,  22, 220],\n",
       "       [  7, 232,  25,  28, 285],\n",
       "       [  8, 208,  28,  15, 251],\n",
       "       [  9, 182,  35,  17, 234],\n",
       "       [ 10, 141,  56,  16, 213]])"
      ]
     },
     "execution_count": 8,
     "metadata": {},
     "output_type": "execute_result"
    }
   ],
   "source": [
    "#7. Cho biết những tháng có tổng số vụ cá mập tấn công >200\n"
   ]
  },
  {
   "cell_type": "markdown",
   "metadata": {
    "id": "vCFU4BfL_z3o"
   },
   "source": [
    "<details>\n",
    "  <summary>Nhấn vào đây để xem kết quả !</summary>\n",
    "  \n",
    "  <pre>array([[  6, 173,  25,  22, 220],\n",
    "       [  7, 232,  25,  28, 285],\n",
    "       [  8, 208,  28,  15, 251],\n",
    "       [  9, 182,  35,  17, 234],\n",
    "       [ 10, 141,  56,  16, 213]])\n",
    "</pre>\n",
    "\n",
    "</details>"
   ]
  },
  {
   "cell_type": "code",
   "execution_count": 9,
   "metadata": {
    "id": "O9s2G0B3_z3v",
    "outputId": "ef4f174b-5b08-4534-e7c0-6fe1fc50099f"
   },
   "outputs": [
    {
     "data": {
      "text/plain": [
       "285"
      ]
     },
     "execution_count": 9,
     "metadata": {},
     "output_type": "execute_result"
    }
   ],
   "source": [
    "#8. Cho biết tổng số vụ cá mập tấn công nhiều nhất trong tháng là bao nhiêu\n"
   ]
  },
  {
   "cell_type": "markdown",
   "metadata": {
    "id": "giEpDNsp_z4C"
   },
   "source": [
    "<details>\n",
    "  <summary>Nhấn vào đây để xem kết quả !</summary>\n",
    "  \n",
    "  <pre>285\n",
    "</pre>\n",
    "\n",
    "</details>"
   ]
  },
  {
   "cell_type": "code",
   "execution_count": 10,
   "metadata": {
    "id": "PNUieu5a_z4E",
    "outputId": "d7701a92-26bd-4bf4-8825-41cc06045f2d"
   },
   "outputs": [
    {
     "name": "stdout",
     "output_type": "stream",
     "text": [
      "Tháng có tổng số vụ cá mập tấn công nhiều nhất là tháng : 7\n"
     ]
    }
   ],
   "source": [
    "#9. Cho biết tháng nào có tổng số vụ cá mập tấn công nhiều nhất\n"
   ]
  },
  {
   "cell_type": "markdown",
   "metadata": {
    "id": "GVtBUdND_z4g"
   },
   "source": [
    "<details>\n",
    "  <summary>Nhấn vào đây để xem kết quả !</summary>\n",
    "  \n",
    "  <pre>Tháng có tổng số vụ cá mập tấn công nhiều nhất là tháng : 7\n",
    "</pre>\n",
    "\n",
    "</details>"
   ]
  },
  {
   "cell_type": "code",
   "execution_count": null,
   "metadata": {
    "id": "6lCkSWH9_z4j"
   },
   "outputs": [],
   "source": []
  }
 ],
 "metadata": {
  "colab": {
   "provenance": []
  },
  "kernelspec": {
   "display_name": "Python 3",
   "language": "python",
   "name": "python3"
  },
  "language_info": {
   "codemirror_mode": {
    "name": "ipython",
    "version": 3
   },
   "file_extension": ".py",
   "mimetype": "text/x-python",
   "name": "python",
   "nbconvert_exporter": "python",
   "pygments_lexer": "ipython3",
   "version": "3.13.2"
  }
 },
 "nbformat": 4,
 "nbformat_minor": 1
}
