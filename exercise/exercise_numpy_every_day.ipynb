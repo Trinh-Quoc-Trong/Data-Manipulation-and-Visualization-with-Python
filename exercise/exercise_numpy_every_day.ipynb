{
 "cells": [
  {
   "cell_type": "markdown",
   "metadata": {},
   "source": []
  },
  {
   "cell_type": "code",
   "execution_count": null,
   "metadata": {},
   "outputs": [],
   "source": [
    "import numpy as np "
   ]
  },
  {
   "cell_type": "code",
   "execution_count": null,
   "metadata": {},
   "outputs": [],
   "source": [
    "# Yêu cầu: Tạo một mảng NumPy từ danh sách sau: [10, 20, 30, 40, 50]\n"
   ]
  },
  {
   "cell_type": "markdown",
   "metadata": {},
   "source": [
    "<details>\n",
    "  <summary>Nhấn vào đây để xem kết quả!</summary>\n",
    "  <pre>\n",
    "  Bài Tập 1: Sử Dụng np.array()\n",
    "</pre>\n",
    "  \n",
    "</details>"
   ]
  },
  {
   "cell_type": "code",
   "execution_count": null,
   "metadata": {},
   "outputs": [],
   "source": [
    "# Yêu cầu: Tạo một mảng NumPy kích thước 3x4 chứa toàn số 0.\n"
   ]
  },
  {
   "cell_type": "markdown",
   "metadata": {},
   "source": [
    "<details>\n",
    "  <summary>Nhấn vào đây để xem kết quả!</summary>\n",
    "  <pre>\n",
    "  Bài Tập 2: Sử Dụng np.zeros()\n",
    "</pre>\n",
    "  \n",
    "</details>"
   ]
  },
  {
   "cell_type": "code",
   "execution_count": null,
   "metadata": {},
   "outputs": [],
   "source": [
    "# Yêu cầu: Tạo một mảng NumPy kích thước 2x5 chứa toàn số 1.\n"
   ]
  },
  {
   "cell_type": "markdown",
   "metadata": {},
   "source": [
    "<details>\n",
    "  <summary>Nhấn vào đây để xem gợi ý</summary>\n",
    "  <pre>\n",
    "Bài Tập 3: Sử Dụng np.ones()\n",
    "</pre>\n",
    "  \n",
    "</details>"
   ]
  },
  {
   "cell_type": "code",
   "execution_count": 2,
   "metadata": {},
   "outputs": [],
   "source": [
    "# Yêu cầu: Tạo một mảng NumPy chứa các số từ 5 đến 15 (không bao gồm 15), với bước nhảy là 2.\n"
   ]
  },
  {
   "cell_type": "markdown",
   "metadata": {},
   "source": [
    "<details>\n",
    "  <summary>Nhấn vào đây để xem gợi ý</summary>\n",
    "  <pre>\n",
    "Bài Tập 4: Sử Dụng np.arange()\n",
    "</pre>\n",
    "  \n",
    "</details>"
   ]
  },
  {
   "cell_type": "code",
   "execution_count": 3,
   "metadata": {},
   "outputs": [],
   "source": [
    "# Yêu cầu: Tạo một mảng NumPy chứa 10 số có giá trị từ 0 đến 1, được chia đều.\n"
   ]
  },
  {
   "cell_type": "markdown",
   "metadata": {},
   "source": [
    "<details>\n",
    "  <summary>Nhấn vào đây để xem gợi ý</summary>\n",
    "  <pre>\n",
    "Bài Tập 5: Sử Dụng np.linspace()\n",
    "</pre>\n",
    "  \n",
    "</details>"
   ]
  },
  {
   "cell_type": "code",
   "execution_count": 4,
   "metadata": {},
   "outputs": [],
   "source": [
    "# Yêu cầu: Tạo một mảng NumPy 2x3 chứa các giá trị ngẫu nhiên trong khoảng [0, 1).\n"
   ]
  },
  {
   "cell_type": "markdown",
   "metadata": {},
   "source": [
    "<details>\n",
    "  <summary>Nhấn vào đây để xem gợi ý</summary>\n",
    "  <pre>\n",
    "Bài Tập 1: Sử Dụng np.random.rand()\n",
    "</pre>\n",
    "  \n",
    "</details>"
   ]
  },
  {
   "cell_type": "code",
   "execution_count": 5,
   "metadata": {},
   "outputs": [],
   "source": [
    "# Tạo một mảng NumPy chứa các số từ 0 đến 8. Sau đó, chia mảng này thành 3 mảng con bằng nhau.\n"
   ]
  },
  {
   "cell_type": "markdown",
   "metadata": {},
   "source": [
    "<details>\n",
    "  <summary>Nhấn vào đây để xem gợi ý</summary>\n",
    "  <pre>\n",
    "Bài Tập 2: Sử Dụng np.split()\n",
    "</pre>\n",
    "  \n",
    "</details>"
   ]
  },
  {
   "cell_type": "code",
   "execution_count": 6,
   "metadata": {},
   "outputs": [],
   "source": [
    "# Yêu cầu: Tạo một mảng NumPy một chiều chứa 9 phần tử. Sau đó, chuyển đổi mảng này thành mảng hai chiều 3x3.\n"
   ]
  },
  {
   "cell_type": "markdown",
   "metadata": {},
   "source": [
    "<details>\n",
    "  <summary>Nhấn vào đây để xem gợi ý</summary>\n",
    "  <pre>\n",
    "Bài Tập 3: Sử Dụng np.reshape()\n",
    "</pre>\n",
    "  \n",
    "</details>"
   ]
  },
  {
   "cell_type": "code",
   "execution_count": 7,
   "metadata": {},
   "outputs": [],
   "source": [
    "# Yêu cầu: Tạo hai mảng NumPy, một mảng chứa các số lẻ từ 1 đến 5 và một mảng chứa các số chẵn từ 2 đến 6. Nối hai mảng này theo chiều ngang.\n"
   ]
  },
  {
   "cell_type": "markdown",
   "metadata": {},
   "source": [
    "<details>\n",
    "  <summary>Nhấn vào đây để xem gợi ý</summary>\n",
    "  <pre>\n",
    "Bài Tập 4: Sử Dụng np.concatenate()\n",
    "</pre>\n",
    "  \n",
    "</details>"
   ]
  },
  {
   "cell_type": "code",
   "execution_count": 8,
   "metadata": {},
   "outputs": [],
   "source": [
    "# Yêu cầu: Tạo một mảng NumPy 2x3. Sau đó, thực hiện chuyển vị mảng này.\n"
   ]
  },
  {
   "cell_type": "markdown",
   "metadata": {},
   "source": [
    "<details>\n",
    "  <summary>Nhấn vào đây để xem gợi ý</summary>\n",
    "  <pre>\n",
    "Bài Tập 5: Sử Dụng np.transpose()\n",
    "</pre>\n",
    "  \n",
    "</details>"
   ]
  },
  {
   "cell_type": "code",
   "execution_count": 9,
   "metadata": {},
   "outputs": [],
   "source": [
    "# Yêu cầu: Tạo hai mảng NumPy, mỗi mảng có kích thước 1x3. Xếp chồng hai mảng này theo chiều dọc (tạo thành mảng 2x3).\n"
   ]
  },
  {
   "cell_type": "markdown",
   "metadata": {},
   "source": [
    "<details>\n",
    "  <summary>Nhấn vào đây để xem gợi ý</summary>\n",
    "  <pre>\n",
    "Bài Tập 6: Sử Dụng np.stack()\n",
    "</pre>\n",
    "  \n",
    "</details>"
   ]
  },
  {
   "cell_type": "code",
   "execution_count": 10,
   "metadata": {},
   "outputs": [],
   "source": [
    "# Yêu cầu: Tạo hai mảng NumPy, mỗi mảng chứa các số từ 1 đến 5. Thực hiện phép cộng hai mảng này.\n"
   ]
  },
  {
   "cell_type": "markdown",
   "metadata": {},
   "source": [
    "<details>\n",
    "  <summary>Nhấn vào đây để xem gợi ý</summary>\n",
    "  <pre>\n",
    "Bài Tập 1: Sử Dụng np.add()\n",
    "</pre>\n",
    "  \n",
    "</details>"
   ]
  },
  {
   "cell_type": "code",
   "execution_count": 11,
   "metadata": {},
   "outputs": [],
   "source": [
    "# Yêu cầu: Tạo một mảng NumPy chứa các số từ 5 đến 1. Tạo một mảng NumPy khác chứa các số từ 1 đến 5. Thực hiện phép trừ giữa mảng thứ nhất và mảng thứ hai.\n"
   ]
  },
  {
   "cell_type": "markdown",
   "metadata": {},
   "source": [
    "<details>\n",
    "  <summary>Nhấn vào đây để xem gợi ý</summary>\n",
    "  <pre>\n",
    "Bài Tập 2: Sử Dụng np.subtract()\n",
    "</pre>\n",
    "  \n",
    "</details>"
   ]
  },
  {
   "cell_type": "code",
   "execution_count": 12,
   "metadata": {},
   "outputs": [],
   "source": [
    "# Yêu cầu: Tạo một mảng NumPy 2x3 chứa các số từ 1 đến 6. Nhân tất cả các phần tử trong mảng với 2.\n"
   ]
  },
  {
   "cell_type": "markdown",
   "metadata": {},
   "source": [
    "<details>\n",
    "  <summary>Nhấn vào đây để xem gợi ý</summary>\n",
    "  <pre>\n",
    "Bài Tập 3: Sử Dụng np.multiply()\n",
    "</pre>\n",
    "  \n",
    "</details>"
   ]
  },
  {
   "cell_type": "code",
   "execution_count": 13,
   "metadata": {},
   "outputs": [],
   "source": [
    "# Yêu cầu: Tạo một mảng NumPy chứa các số [2, 4, 6, 8]. Tạo một mảng NumPy khác chứa [1, 2, 3, 4]. Thực hiện phép chia phần tử của mảng thứ nhất cho mảng thứ hai.\n"
   ]
  },
  {
   "cell_type": "markdown",
   "metadata": {},
   "source": [
    "<details>\n",
    "  <summary>Nhấn vào đây để xem gợi ý</summary>\n",
    "  <pre>\n",
    "Bài Tập 4: Sử Dụng np.divide()\n",
    "</pre>\n",
    "  \n",
    "</details>"
   ]
  },
  {
   "cell_type": "code",
   "execution_count": null,
   "metadata": {},
   "outputs": [],
   "source": [
    "# Yêu cầu: Tạo một mảng NumPy chứa các số từ 1 đến 10. Tìm các vị trí của các phần tử có giá trị lớn hơn 5.\n"
   ]
  },
  {
   "cell_type": "markdown",
   "metadata": {},
   "source": [
    "<details>\n",
    "  <summary>Nhấn vào đây để xem gợi ý</summary>\n",
    "  <pre>\n",
    "Bài Tập 5: Sử Dụng np.where()\n",
    "</pre>\n",
    "  \n",
    "</details>"
   ]
  },
  {
   "cell_type": "code",
   "execution_count": 15,
   "metadata": {},
   "outputs": [],
   "source": [
    "# Yêu cầu: Tạo một mảng NumPy 2x3 chứa các số ngẫu nhiên. Tìm chỉ số của phần tử lớn nhất trong mảng.\n"
   ]
  },
  {
   "cell_type": "markdown",
   "metadata": {},
   "source": [
    "<details>\n",
    "  <summary>Nhấn vào đây để xem gợi ý</summary>\n",
    "  <pre>\n",
    "Bài Tập 6: Sử Dụng np.argmax()\n",
    "</pre>\n",
    "  \n",
    "</details>"
   ]
  },
  {
   "cell_type": "code",
   "execution_count": 16,
   "metadata": {},
   "outputs": [],
   "source": [
    "# Yêu cầu: Tạo một mảng NumPy chứa các số [3, 1, 4, 1, 5, 9, 2, 6]. Sắp xếp mảng này theo thứ tự tăng dần.\n"
   ]
  },
  {
   "cell_type": "markdown",
   "metadata": {},
   "source": [
    "<details>\n",
    "  <summary>Nhấn vào đây để xem gợi ý</summary>\n",
    "  <pre>\n",
    "Bài Tập 7: Sử Dụng np.sort()\n",
    "</pre>\n",
    "  \n",
    "</details>"
   ]
  }
 ],
 "metadata": {
  "kernelspec": {
   "display_name": "Python 3",
   "language": "python",
   "name": "python3"
  },
  "language_info": {
   "codemirror_mode": {
    "name": "ipython",
    "version": 3
   },
   "file_extension": ".py",
   "mimetype": "text/x-python",
   "name": "python",
   "nbconvert_exporter": "python",
   "pygments_lexer": "ipython3",
   "version": "3.13.2"
  }
 },
 "nbformat": 4,
 "nbformat_minor": 2
}
