{
 "cells": [
  {
   "cell_type": "markdown",
   "metadata": {},
   "source": []
  },
  {
   "cell_type": "code",
   "execution_count": 2,
   "metadata": {},
   "outputs": [],
   "source": [
    "import numpy as np "
   ]
  },
  {
   "cell_type": "code",
   "execution_count": null,
   "metadata": {},
   "outputs": [
    {
     "ename": "SyntaxError",
     "evalue": "invalid syntax (3099581883.py, line 3)",
     "output_type": "error",
     "traceback": [
      "\u001b[1;36m  Cell \u001b[1;32mIn[3], line 3\u001b[1;36m\u001b[0m\n\u001b[1;33m    arr01 =\u001b[0m\n\u001b[1;37m           ^\u001b[0m\n\u001b[1;31mSyntaxError\u001b[0m\u001b[1;31m:\u001b[0m invalid syntax\n"
     ]
    }
   ],
   "source": [
    "# Yêu cầu: Tạo một mảng NumPy từ danh sách sau: [10, 20, 30, 40, 50]\n",
    "arr01 = np.array([10,20, 30 ,40, 50, 60])\n",
    "arr01 "
   ]
  },
  {
   "cell_type": "markdown",
   "metadata": {},
   "source": [
    "<details>\n",
    "  <summary>Nhấn vào đây để xem kết quả!</summary>\n",
    "  <pre>\n",
    "  Bài Tập 1: Sử Dụng np.array()\n",
    "</pre>\n",
    "  \n",
    "</details>"
   ]
  },
  {
   "cell_type": "code",
   "execution_count": null,
   "metadata": {},
   "outputs": [
    {
     "data": {
      "text/plain": [
       "array([[0., 0., 0., 0.],\n",
       "       [0., 0., 0., 0.],\n",
       "       [0., 0., 0., 0.]])"
      ]
     },
     "execution_count": 5,
     "metadata": {},
     "output_type": "execute_result"
    }
   ],
   "source": [
    "# Yêu cầu: Tạo một mảng NumPy kích thước 3x4 chứa toàn số 0.\n",
    "arr02 = np.zeros([3, 4])\n",
    "arr02"
   ]
  },
  {
   "cell_type": "markdown",
   "metadata": {},
   "source": [
    "<details>\n",
    "  <summary>Nhấn vào đây để xem kết quả!</summary>\n",
    "  <pre>\n",
    "  Bài Tập 2: Sử Dụng np.zeros()\n",
    "</pre>\n",
    "  \n",
    "</details>"
   ]
  },
  {
   "cell_type": "code",
   "execution_count": null,
   "metadata": {},
   "outputs": [
    {
     "data": {
      "text/plain": [
       "array([[1., 1., 1., 1., 1.],\n",
       "       [1., 1., 1., 1., 1.]])"
      ]
     },
     "execution_count": 4,
     "metadata": {},
     "output_type": "execute_result"
    }
   ],
   "source": [
    "# Yêu cầu: Tạo một mảng NumPy kích thước 2x5 chứa toàn số 1.\n",
    "arr03 = np.ones([2,5])\n",
    "arr03"
   ]
  },
  {
   "cell_type": "markdown",
   "metadata": {},
   "source": [
    "<details>\n",
    "  <summary>Nhấn vào đây để xem gợi ý</summary>\n",
    "  <pre>\n",
    "Bài Tập 3: Sử Dụng np.ones()\n",
    "</pre>\n",
    "  \n",
    "</details>"
   ]
  },
  {
   "cell_type": "code",
   "execution_count": 6,
   "metadata": {},
   "outputs": [
    {
     "data": {
      "text/plain": [
       "array([ 5,  7,  9, 11, 13])"
      ]
     },
     "execution_count": 6,
     "metadata": {},
     "output_type": "execute_result"
    }
   ],
   "source": [
    "# Yêu cầu: Tạo một mảng NumPy chứa các số từ 5 đến 15 (không bao gồm 15), với bước nhảy là 2.\n",
    "arr04 = np.arange(5,15,2,int)\n",
    "arr04"
   ]
  },
  {
   "cell_type": "markdown",
   "metadata": {},
   "source": [
    "<details>\n",
    "  <summary>Nhấn vào đây để xem gợi ý</summary>\n",
    "  <pre>\n",
    "Bài Tập 4: Sử Dụng np.arange()\n",
    "</pre>\n",
    "  \n",
    "</details>"
   ]
  },
  {
   "cell_type": "code",
   "execution_count": 8,
   "metadata": {},
   "outputs": [
    {
     "data": {
      "text/plain": [
       "array([0.        , 0.11111111, 0.22222222, 0.33333333, 0.44444444,\n",
       "       0.55555556, 0.66666667, 0.77777778, 0.88888889, 1.        ])"
      ]
     },
     "execution_count": 8,
     "metadata": {},
     "output_type": "execute_result"
    }
   ],
   "source": [
    "# Yêu cầu: Tạo một mảng NumPy chứa 10 số có giá trị từ 0 đến 1, được chia đều.\n",
    "arr05 = np.linspace(0, 1, 10)\n",
    "arr05"
   ]
  },
  {
   "cell_type": "markdown",
   "metadata": {},
   "source": [
    "<details>\n",
    "  <summary>Nhấn vào đây để xem gợi ý</summary>\n",
    "  <pre>\n",
    "Bài Tập 5: Sử Dụng np.linspace()\n",
    "</pre>\n",
    "  \n",
    "</details>"
   ]
  },
  {
   "cell_type": "code",
   "execution_count": 12,
   "metadata": {},
   "outputs": [
    {
     "data": {
      "text/plain": [
       "array([[0.70792371, 0.77201277, 0.78258541],\n",
       "       [0.82012559, 0.88725348, 0.347992  ]])"
      ]
     },
     "execution_count": 12,
     "metadata": {},
     "output_type": "execute_result"
    }
   ],
   "source": [
    "# Yêu cầu: Tạo một mảng NumPy 2x3 chứa các giá trị ngẫu nhiên trong khoảng [0, 1).\n",
    "arr6 = np.random.rand(2,3)\n",
    "arr6"
   ]
  },
  {
   "cell_type": "markdown",
   "metadata": {},
   "source": [
    "<details>\n",
    "  <summary>Nhấn vào đây để xem gợi ý</summary>\n",
    "  <pre>\n",
    "Bài Tập 1: Sử Dụng np.random.rand()\n",
    "</pre>\n",
    "  \n",
    "</details>"
   ]
  },
  {
   "cell_type": "code",
   "execution_count": 16,
   "metadata": {},
   "outputs": [
    {
     "data": {
      "text/plain": [
       "[array([0, 1, 2]), array([3, 4, 5]), array([6, 7, 8])]"
      ]
     },
     "execution_count": 16,
     "metadata": {},
     "output_type": "execute_result"
    }
   ],
   "source": [
    "# Tạo một mảng NumPy chứa các số từ 0 đến 8. Sau đó, chia mảng này thành 3 mảng con bằng nhau.\n",
    "arr_first = np.arange(0,9)\n",
    "arr7 = np.split(arr_first, 3)\n",
    "arr7"
   ]
  },
  {
   "cell_type": "markdown",
   "metadata": {},
   "source": [
    "<details>\n",
    "  <summary>Nhấn vào đây để xem gợi ý</summary>\n",
    "  <pre>\n",
    "Bài Tập 2: Sử Dụng np.split()\n",
    "</pre>\n",
    "  \n",
    "</details>"
   ]
  },
  {
   "cell_type": "code",
   "execution_count": 32,
   "metadata": {},
   "outputs": [
    {
     "data": {
      "text/plain": [
       "array([[0.   , 1.125, 2.25 , 3.375, 4.5  , 5.625, 6.75 , 7.875, 9.   ]])"
      ]
     },
     "execution_count": 32,
     "metadata": {},
     "output_type": "execute_result"
    }
   ],
   "source": [
    "# Yêu cầu: Tạo một mảng NumPy một chiều chứa 9 phần tử. Sau đó, chuyển đổi mảng này thành mảng hai chiều 3x3.\n",
    "arr8 = np.linspace(0,9, num = 9)\n",
    "arr8 = np.reshape(arr8, (3,3))\n",
    "arr8 = np.reshape(arr8, (1,9))\n",
    "arr8"
   ]
  },
  {
   "cell_type": "markdown",
   "metadata": {},
   "source": [
    "<details>\n",
    "  <summary>Nhấn vào đây để xem gợi ý</summary>\n",
    "  <pre>\n",
    "Bài Tập 3: Sử Dụng np.reshape()\n",
    "</pre>\n",
    "  \n",
    "</details>"
   ]
  },
  {
   "cell_type": "code",
   "execution_count": null,
   "metadata": {},
   "outputs": [],
   "source": [
    "# Yêu cầu: Tạo hai mảng NumPy, một mảng chứa các số lẻ từ 1 đến 5 và một mảng chứa các số chẵn từ 2 đến 6. Nối hai mảng này theo chiều ngang.\n"
   ]
  },
  {
   "cell_type": "markdown",
   "metadata": {},
   "source": [
    "<details>\n",
    "  <summary>Nhấn vào đây để xem gợi ý</summary>\n",
    "  <pre>\n",
    "Bài Tập 4: Sử Dụng np.concatenate()\n",
    "</pre>\n",
    "  \n",
    "</details>"
   ]
  },
  {
   "cell_type": "code",
   "execution_count": null,
   "metadata": {},
   "outputs": [],
   "source": [
    "# Yêu cầu: Tạo một mảng NumPy 2x3. Sau đó, thực hiện chuyển vị mảng này.\n"
   ]
  },
  {
   "cell_type": "markdown",
   "metadata": {},
   "source": [
    "<details>\n",
    "  <summary>Nhấn vào đây để xem gợi ý</summary>\n",
    "  <pre>\n",
    "Bài Tập 5: Sử Dụng np.transpose()\n",
    "</pre>\n",
    "  \n",
    "</details>"
   ]
  },
  {
   "cell_type": "code",
   "execution_count": null,
   "metadata": {},
   "outputs": [],
   "source": [
    "# Yêu cầu: Tạo hai mảng NumPy, mỗi mảng có kích thước 1x3. Xếp chồng hai mảng này theo chiều dọc (tạo thành mảng 2x3).\n"
   ]
  },
  {
   "cell_type": "markdown",
   "metadata": {},
   "source": [
    "<details>\n",
    "  <summary>Nhấn vào đây để xem gợi ý</summary>\n",
    "  <pre>\n",
    "Bài Tập 6: Sử Dụng np.stack()\n",
    "</pre>\n",
    "  \n",
    "</details>"
   ]
  },
  {
   "cell_type": "code",
   "execution_count": null,
   "metadata": {},
   "outputs": [],
   "source": [
    "# Yêu cầu: Tạo hai mảng NumPy, mỗi mảng chứa các số từ 1 đến 5. Thực hiện phép cộng hai mảng này.\n"
   ]
  },
  {
   "cell_type": "markdown",
   "metadata": {},
   "source": [
    "<details>\n",
    "  <summary>Nhấn vào đây để xem gợi ý</summary>\n",
    "  <pre>\n",
    "Bài Tập 1: Sử Dụng np.add()\n",
    "</pre>\n",
    "  \n",
    "</details>"
   ]
  },
  {
   "cell_type": "code",
   "execution_count": null,
   "metadata": {},
   "outputs": [],
   "source": [
    "# Yêu cầu: Tạo một mảng NumPy chứa các số từ 5 đến 1. Tạo một mảng NumPy khác chứa các số từ 1 đến 5. Thực hiện phép trừ giữa mảng thứ nhất và mảng thứ hai.\n"
   ]
  },
  {
   "cell_type": "markdown",
   "metadata": {},
   "source": [
    "<details>\n",
    "  <summary>Nhấn vào đây để xem gợi ý</summary>\n",
    "  <pre>\n",
    "Bài Tập 2: Sử Dụng np.subtract()\n",
    "</pre>\n",
    "  \n",
    "</details>"
   ]
  },
  {
   "cell_type": "code",
   "execution_count": null,
   "metadata": {},
   "outputs": [],
   "source": [
    "# Yêu cầu: Tạo một mảng NumPy 2x3 chứa các số từ 1 đến 6. Nhân tất cả các phần tử trong mảng với 2.\n"
   ]
  },
  {
   "cell_type": "markdown",
   "metadata": {},
   "source": [
    "<details>\n",
    "  <summary>Nhấn vào đây để xem gợi ý</summary>\n",
    "  <pre>\n",
    "Bài Tập 3: Sử Dụng np.multiply()\n",
    "</pre>\n",
    "  \n",
    "</details>"
   ]
  },
  {
   "cell_type": "code",
   "execution_count": null,
   "metadata": {},
   "outputs": [],
   "source": [
    "# Yêu cầu: Tạo một mảng NumPy chứa các số [2, 4, 6, 8]. Tạo một mảng NumPy khác chứa [1, 2, 3, 4]. Thực hiện phép chia phần tử của mảng thứ nhất cho mảng thứ hai.\n"
   ]
  },
  {
   "cell_type": "markdown",
   "metadata": {},
   "source": [
    "<details>\n",
    "  <summary>Nhấn vào đây để xem gợi ý</summary>\n",
    "  <pre>\n",
    "Bài Tập 4: Sử Dụng np.divide()\n",
    "</pre>\n",
    "  \n",
    "</details>"
   ]
  },
  {
   "cell_type": "code",
   "execution_count": null,
   "metadata": {},
   "outputs": [],
   "source": [
    "# Yêu cầu: Tạo một mảng NumPy chứa các số từ 1 đến 10. Tìm các vị trí của các phần tử có giá trị lớn hơn 5.\n"
   ]
  },
  {
   "cell_type": "markdown",
   "metadata": {},
   "source": [
    "<details>\n",
    "  <summary>Nhấn vào đây để xem gợi ý</summary>\n",
    "  <pre>\n",
    "Bài Tập 5: Sử Dụng np.where()\n",
    "</pre>\n",
    "  \n",
    "</details>"
   ]
  },
  {
   "cell_type": "code",
   "execution_count": null,
   "metadata": {},
   "outputs": [],
   "source": [
    "# Yêu cầu: Tạo một mảng NumPy 2x3 chứa các số ngẫu nhiên. Tìm chỉ số của phần tử lớn nhất trong mảng.\n"
   ]
  },
  {
   "cell_type": "markdown",
   "metadata": {},
   "source": [
    "<details>\n",
    "  <summary>Nhấn vào đây để xem gợi ý</summary>\n",
    "  <pre>\n",
    "Bài Tập 6: Sử Dụng np.argmax()\n",
    "</pre>\n",
    "  \n",
    "</details>"
   ]
  },
  {
   "cell_type": "code",
   "execution_count": null,
   "metadata": {},
   "outputs": [],
   "source": [
    "# Yêu cầu: Tạo một mảng NumPy chứa các số [3, 1, 4, 1, 5, 9, 2, 6]. Sắp xếp mảng này theo thứ tự tăng dần.\n"
   ]
  },
  {
   "cell_type": "markdown",
   "metadata": {},
   "source": [
    "<details>\n",
    "  <summary>Nhấn vào đây để xem gợi ý</summary>\n",
    "  <pre>\n",
    "Bài Tập 7: Sử Dụng np.sort()\n",
    "</pre>\n",
    "  \n",
    "</details>"
   ]
  }
 ],
 "metadata": {
  "kernelspec": {
   "display_name": "Python 3",
   "language": "python",
   "name": "python3"
  },
  "language_info": {
   "codemirror_mode": {
    "name": "ipython",
    "version": 3
   },
   "file_extension": ".py",
   "mimetype": "text/x-python",
   "name": "python",
   "nbconvert_exporter": "python",
   "pygments_lexer": "ipython3",
   "version": "3.13.2"
  }
 },
 "nbformat": 4,
 "nbformat_minor": 4
}
