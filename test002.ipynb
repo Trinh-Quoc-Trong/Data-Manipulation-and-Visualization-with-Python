{
 "cells": [
  {
   "cell_type": "markdown",
   "id": "074c2830",
   "metadata": {},
   "source": [
    ">tính độ lệch chuẩn "
   ]
  },
  {
   "cell_type": "code",
   "execution_count": 38,
   "id": "144fd816",
   "metadata": {},
   "outputs": [],
   "source": [
    "import math\n",
    "\n",
    "try:\n",
    "    with open(\"data.txt\", \"r\") as file:\n",
    "        noiDung = file.read()\n",
    "except FileNotFoundError:\n",
    "    print(\"File không tồn tại\")\n",
    "    exit()\n"
   ]
  },
  {
   "cell_type": "code",
   "execution_count": 39,
   "id": "b0562735",
   "metadata": {},
   "outputs": [
    {
     "name": "stdout",
     "output_type": "stream",
     "text": [
      "[1.57, 1.65, 1.63, 1.58, 1.57, 1.68, 1.65, 1.7, 1.64, 1.67]\n"
     ]
    }
   ],
   "source": [
    "listCCao = noiDung.split(\", \")\n",
    "listCCao = [float(i) for i in listCCao]\n",
    "\n",
    "print(listCCao)"
   ]
  },
  {
   "cell_type": "code",
   "execution_count": 40,
   "id": "db04dee2",
   "metadata": {},
   "outputs": [
    {
     "name": "stdout",
     "output_type": "stream",
     "text": [
      "1.7 1.57\n"
     ]
    }
   ],
   "source": [
    "caoMax = 0\n",
    "caoMin = listCCao[0] \n",
    "\n",
    "for i in listCCao:\n",
    "    if i > caoMax:\n",
    "        caoMax = i\n",
    "        continue\n",
    "    elif i < caoMin:\n",
    "        caoMin = i\n",
    "        continue\n",
    "print(caoMax, caoMin)\n",
    "    "
   ]
  },
  {
   "cell_type": "code",
   "execution_count": 41,
   "id": "ae7b972b",
   "metadata": {},
   "outputs": [
    {
     "name": "stdout",
     "output_type": "stream",
     "text": [
      "tong chieu cao: 16.34\n",
      "chieu cao trung binh: 1.634\n"
     ]
    }
   ],
   "source": [
    "tongChieuCao = 0\n",
    "\n",
    "for i in listCCao:\n",
    "    tongChieuCao += i\n",
    "\n",
    "chieuCaoTrungBinh = tongChieuCao/len(listCCao)\n",
    "\n",
    "print(f\"tong chieu cao: {tongChieuCao}\")\n",
    "print(f\"chieu cao trung binh: {chieuCaoTrungBinh}\")"
   ]
  },
  {
   "cell_type": "code",
   "execution_count": 42,
   "id": "d1fa9123",
   "metadata": {},
   "outputs": [
    {
     "name": "stdout",
     "output_type": "stream",
     "text": [
      "do lech chuan: 0.04409081537009715\n"
     ]
    }
   ],
   "source": [
    "tongXUBinh = 0\n",
    "\n",
    "for i in listCCao:\n",
    "    tongXUBinh += (i - chieuCaoTrungBinh) ** 2\n",
    "\n",
    "doLechChuan = math.sqrt(tongXUBinh / len(listCCao))\n",
    "\n",
    "print(f\"do lech chuan: {doLechChuan}\")"
   ]
  },
  {
   "cell_type": "code",
   "execution_count": 6,
   "id": "4bc69fe5",
   "metadata": {},
   "outputs": [
    {
     "data": {
      "text/plain": [
       "array([ 0., 10.,  0.,  0.,  0.,  0.,  0.,  0.,  0.,  0.,  0.])"
      ]
     },
     "execution_count": 6,
     "metadata": {},
     "output_type": "execute_result"
    }
   ],
   "source": [
    "import numpy as np\n",
    "\n",
    "arr_ = np.zeros(10)\n",
    "arr_ = np.insert(arr_, 1, 10)\n",
    "arr_"
   ]
  },
  {
   "cell_type": "code",
   "execution_count": null,
   "id": "d7b7813d",
   "metadata": {},
   "outputs": [
    {
     "data": {
      "text/plain": [
       "array([0., 0., 0., 0., 0., 0., 0., 0.])"
      ]
     },
     "execution_count": 5,
     "metadata": {},
     "output_type": "execute_result"
    }
   ],
   "source": [
    "arr_ = np.delete(arr_, 1)\n",
    "arr_"
   ]
  },
  {
   "cell_type": "code",
   "execution_count": null,
   "id": "ca8996e3",
   "metadata": {},
   "outputs": [],
   "source": [
    "arr_ = np.zeros(3)\n",
    "arr_ "
   ]
  },
  {
   "cell_type": "code",
   "execution_count": 5,
   "id": "5396142a",
   "metadata": {},
   "outputs": [
    {
     "data": {
      "text/plain": [
       "array([180., 215., 210., ..., 205., 190., 195.])"
      ]
     },
     "execution_count": 5,
     "metadata": {},
     "output_type": "execute_result"
    }
   ],
   "source": [
    "arr_ = np.genfromtxt('weights.txt', delimiter=',')\n",
    "arr_ "
   ]
  },
  {
   "cell_type": "code",
   "execution_count": null,
   "id": "cff419a6",
   "metadata": {},
   "outputs": [],
   "source": []
  }
 ],
 "metadata": {
  "kernelspec": {
   "display_name": "Python 3",
   "language": "python",
   "name": "python3"
  },
  "language_info": {
   "codemirror_mode": {
    "name": "ipython",
    "version": 3
   },
   "file_extension": ".py",
   "mimetype": "text/x-python",
   "name": "python",
   "nbconvert_exporter": "python",
   "pygments_lexer": "ipython3",
   "version": "3.13.2"
  }
 },
 "nbformat": 4,
 "nbformat_minor": 5
}
