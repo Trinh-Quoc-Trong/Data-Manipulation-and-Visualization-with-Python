{
 "cells": [
  {
   "cell_type": "markdown",
   "metadata": {
    "id": "C178D9FbKYjE"
   },
   "source": [
    "## Chapter 3 - Exercise Series: Thực hiện những yêu cầu liên quan đến series, và đối chiếu với kết quả cho trước"
   ]
  },
  {
   "cell_type": "markdown",
   "metadata": {
    "id": "M1vww1m3KYjO"
   },
   "source": [
    "### Part 1: Thực hiện các phép toán trên series"
   ]
  },
  {
   "cell_type": "code",
   "execution_count": 2,
   "metadata": {
    "id": "kv5qBGofKYjQ"
   },
   "outputs": [],
   "source": [
    "import numpy as np\n",
    "import pandas as pd"
   ]
  },
  {
   "cell_type": "code",
   "execution_count": 19,
   "metadata": {
    "id": "TAn2cESTKYjS"
   },
   "outputs": [
    {
     "name": "stdout",
     "output_type": "stream",
     "text": [
      "0     2\n",
      "1     4\n",
      "2     6\n",
      "3     8\n",
      "4    10\n",
      "dtype: int64\n",
      "0     1\n",
      "1     3\n",
      "2     5\n",
      "3     7\n",
      "4    11\n",
      "dtype: int64\n"
     ]
    }
   ],
   "source": [
    "# Câu 1a: Cho arr_1 là mảng số nguyên chẵn [2, 4, 6, 8, 10], arr_2 là mảng số nguyên lẻ [1, 3, 5, 7, 11]\n",
    "# Tạo biến kiểu Serries ser1 từ arr_1, ser2 từ arr_2\n",
    "arr_1 = np.array([2, 4, 6, 8, 10])\n",
    "arr_2 = np.array([1, 3, 5, 7, 11])\n",
    "\n",
    "ser_1 = pd.Series(arr_1) \n",
    "ser_2 = pd.Series(arr_2)\n",
    "\n",
    "print(ser_1)\n",
    "print(ser_2)\n",
    "\n",
    "# In danh sách các phần tử của ser1 và ser2\n"
   ]
  },
  {
   "cell_type": "markdown",
   "metadata": {
    "id": "J7qjbxm2KYjT"
   },
   "source": [
    "<details>\n",
    "  <summary>Nhấn vào đây để xem kết quả!</summary>\n",
    "  <pre>0     2\n",
    "1     4\n",
    "2     6\n",
    "3     8\n",
    "4    10\n",
    "dtype: int32\n",
    "0     1\n",
    "1     3\n",
    "2     5\n",
    "3     7\n",
    "4    11\n",
    "dtype: int32\n",
    "</pre>\n",
    "  \n",
    "</details>"
   ]
  },
  {
   "cell_type": "code",
   "execution_count": 4,
   "metadata": {
    "id": "xZSisFC7KZSP"
   },
   "outputs": [],
   "source": [
    "# git add .\n",
    "# git commit -m \"slider\"\n",
    "# git push\n",
    "%config IPCompleter.use_jedi = True"
   ]
  },
  {
   "cell_type": "code",
   "execution_count": 5,
   "metadata": {
    "id": "OrUWyx2YKYjT"
   },
   "outputs": [
    {
     "data": {
      "text/plain": [
       "0     3\n",
       "1     7\n",
       "2    11\n",
       "3    15\n",
       "4    21\n",
       "dtype: int64"
      ]
     },
     "execution_count": 5,
     "metadata": {},
     "output_type": "execute_result"
    }
   ],
   "source": [
    "# Câu 1b: Thực hiện phép toán và thể hiện kết quả của:  ser1 + ser2 \n",
    "sum_ser = ser_1 + ser_2 \n",
    "sum_ser "
   ]
  },
  {
   "cell_type": "markdown",
   "metadata": {
    "id": "JhtrXwztKYjV"
   },
   "source": [
    "<details>\n",
    "  <summary>Nhấn vào đây để xem kết quả!</summary>\n",
    "  <pre>0     3\n",
    "1     7\n",
    "2    11\n",
    "3    15\n",
    "4    21\n",
    "dtype: int32</pre>\n",
    "  \n",
    "</details>"
   ]
  },
  {
   "cell_type": "code",
   "execution_count": 12,
   "metadata": {
    "id": "XAsNtQOJKYjW"
   },
   "outputs": [
    {
     "data": {
      "text/plain": [
       "0    1\n",
       "1    1\n",
       "2    1\n",
       "3    1\n",
       "4   -1\n",
       "dtype: int64"
      ]
     },
     "execution_count": 12,
     "metadata": {},
     "output_type": "execute_result"
    }
   ],
   "source": [
    "# Câu 1c: Thực hiện phép toán và thể hiện kết quả của:  ser1 - ser2 \n",
    "tru_ser = ser_1 - ser_2 \n",
    "tru_ser "
   ]
  },
  {
   "cell_type": "markdown",
   "metadata": {
    "id": "k7KN83RsKYjX"
   },
   "source": [
    "<details>\n",
    "  <summary>Nhấn vào đây để xem kết quả!</summary>\n",
    "  <pre>0    1\n",
    "1    1\n",
    "2    1\n",
    "3    1\n",
    "4   -1\n",
    "dtype: int32</pre>\n",
    "  \n",
    "</details>"
   ]
  },
  {
   "cell_type": "code",
   "execution_count": 13,
   "metadata": {
    "id": "VLmtC13SKYjX"
   },
   "outputs": [
    {
     "data": {
      "text/plain": [
       "0      2\n",
       "1     12\n",
       "2     30\n",
       "3     56\n",
       "4    110\n",
       "dtype: int64"
      ]
     },
     "execution_count": 13,
     "metadata": {},
     "output_type": "execute_result"
    }
   ],
   "source": [
    "# Câu 1d: Thực hiện phép toán và thể hiện kết quả của:  ser1 * ser2\n",
    "nhan_ser = ser_1 * ser_2 \n",
    "nhan_ser"
   ]
  },
  {
   "cell_type": "markdown",
   "metadata": {
    "id": "TyQ65D3WKYjY"
   },
   "source": [
    "<details>\n",
    "  <summary>Nhấn vào đây để xem kết quả!</summary>\n",
    "  <pre>0      2\n",
    "1     12\n",
    "2     30\n",
    "3     56\n",
    "4    110\n",
    "dtype: int32</pre>\n",
    "  \n",
    "</details>"
   ]
  },
  {
   "cell_type": "code",
   "execution_count": 14,
   "metadata": {
    "id": "6AAy7FYXKYjZ"
   },
   "outputs": [
    {
     "data": {
      "text/plain": [
       "0    2.000000\n",
       "1    1.333333\n",
       "2    1.200000\n",
       "3    1.142857\n",
       "4    0.909091\n",
       "dtype: float64"
      ]
     },
     "execution_count": 14,
     "metadata": {},
     "output_type": "execute_result"
    }
   ],
   "source": [
    "# Câu 1e: Thực hiện phép toán và thể hiện kết quả của:  ser1 / ser2\n",
    "chia_ser = ser_1 / ser_2\n",
    "chia_ser"
   ]
  },
  {
   "cell_type": "markdown",
   "metadata": {
    "id": "UjIiJo5jKYja"
   },
   "source": [
    "<details>\n",
    "  <summary>Nhấn vào đây để xem kết quả!</summary>\n",
    "  <pre>0    2.000000\n",
    "1    1.333333\n",
    "2    1.200000\n",
    "3    1.142857\n",
    "4    0.909091\n",
    "dtype: float64</pre>\n",
    "  \n",
    "</details>"
   ]
  },
  {
   "cell_type": "code",
   "execution_count": 9,
   "metadata": {
    "id": "adNM_BOdKYjb"
   },
   "outputs": [
    {
     "data": {
      "text/plain": [
       "0     True\n",
       "1     True\n",
       "2     True\n",
       "3     True\n",
       "4    False\n",
       "dtype: bool"
      ]
     },
     "execution_count": 9,
     "metadata": {},
     "output_type": "execute_result"
    }
   ],
   "source": [
    "# Câu 2a: Kiểm tra xem các phần tử của ser1 có > các phần tử của ser2 không?\n",
    "ser_1>ser_2"
   ]
  },
  {
   "cell_type": "markdown",
   "metadata": {
    "id": "xqkSKu8zKYjc"
   },
   "source": [
    "<details>\n",
    "  <summary>Nhấn vào đây để xem kết quả!</summary>\n",
    "  <pre>0     True\n",
    "1     True\n",
    "2     True\n",
    "3     True\n",
    "4    False\n",
    "dtype: bool</pre>\n",
    "  \n",
    "</details>"
   ]
  },
  {
   "cell_type": "code",
   "execution_count": 10,
   "metadata": {
    "id": "Blkthd3MKYjc"
   },
   "outputs": [
    {
     "data": {
      "text/plain": [
       "0    False\n",
       "1    False\n",
       "2    False\n",
       "3    False\n",
       "4     True\n",
       "dtype: bool"
      ]
     },
     "execution_count": 10,
     "metadata": {},
     "output_type": "execute_result"
    }
   ],
   "source": [
    "# Câu 2b: Kiểm tra xem các phần tử của ser1 có < các phần tử của ser2\n",
    "ser_1<ser_2"
   ]
  },
  {
   "cell_type": "markdown",
   "metadata": {
    "id": "okrDDDRiKYjd"
   },
   "source": [
    "<details>\n",
    "  <summary>Nhấn vào đây để xem kết quả!</summary>\n",
    "  <pre>0    False\n",
    "1    False\n",
    "2    False\n",
    "3    False\n",
    "4     True\n",
    "dtype: bool</pre>\n",
    "  \n",
    "</details>"
   ]
  },
  {
   "cell_type": "code",
   "execution_count": 15,
   "metadata": {
    "id": "Tfui7NtoKYje",
    "scrolled": true
   },
   "outputs": [
    {
     "data": {
      "text/plain": [
       "0    False\n",
       "1    False\n",
       "2    False\n",
       "3    False\n",
       "4    False\n",
       "dtype: bool"
      ]
     },
     "execution_count": 15,
     "metadata": {},
     "output_type": "execute_result"
    }
   ],
   "source": [
    "# Câu 2c: Kiểm tra xem các phần tử của ser1 có = các phần tử của ser2 không?\n",
    "ser_1 == ser_2"
   ]
  },
  {
   "cell_type": "markdown",
   "metadata": {
    "id": "4wAwPx8RKYje"
   },
   "source": [
    "<details>\n",
    "  <summary>Nhấn vào đây để xem kết quả!</summary>\n",
    "  <pre>0    False\n",
    "1    False\n",
    "2    False\n",
    "3    False\n",
    "4    False\n",
    "dtype: bool</pre>\n",
    "  \n",
    "</details>"
   ]
  },
  {
   "cell_type": "code",
   "execution_count": 16,
   "metadata": {
    "id": "XjoqQEBzKYje"
   },
   "outputs": [
    {
     "data": {
      "text/plain": [
       "0     2\n",
       "1     4\n",
       "2     6\n",
       "3     8\n",
       "4    10\n",
       "0     6\n",
       "1    12\n",
       "dtype: int64"
      ]
     },
     "execution_count": 16,
     "metadata": {},
     "output_type": "execute_result"
    }
   ],
   "source": [
    "# Câu 3a: Thêm 2 phần tử [6, 12] vào ser2\n",
    "ser_2 = pd.concat([ser_1,pd.Series([6,12])])\n",
    "# In lại danh sách các phần tử của ser2.\n",
    "ser_2"
   ]
  },
  {
   "cell_type": "markdown",
   "metadata": {
    "id": "MWUeR_8WKYjf"
   },
   "source": [
    "<details>\n",
    "  <summary>Nhấn vào đây để xem kết quả!</summary>\n",
    "  <pre>0     1\n",
    "1     3\n",
    "2     5\n",
    "3     7\n",
    "4    11\n",
    "0     6\n",
    "1    12\n",
    "dtype: int64</pre>\n",
    "  \n",
    "</details>"
   ]
  },
  {
   "cell_type": "code",
   "execution_count": 21,
   "metadata": {
    "id": "VVYKyzEgKYjf"
   },
   "outputs": [
    {
     "data": {
      "text/plain": [
       "0     2\n",
       "1     4\n",
       "2     6\n",
       "3     8\n",
       "4    10\n",
       "dtype: int64"
      ]
     },
     "execution_count": 21,
     "metadata": {},
     "output_type": "execute_result"
    }
   ],
   "source": [
    "# Câu 3b: Tạo series ser3 chỉ chứa các phần tử có trong ser1 mà không có trong ser2. \n",
    "#         In danh sách các phần tử của ser3\n",
    "ser_3 = ser_1[~ser_1.isin(ser_2)]\n",
    "ser_3\n"
   ]
  },
  {
   "cell_type": "markdown",
   "metadata": {
    "id": "ApHEGg6wKYjg"
   },
   "source": [
    "<details>\n",
    "  <summary>Nhấn vào đây để xem kết quả!</summary>\n",
    "  <pre>0     2\n",
    "1     4\n",
    "3     8\n",
    "4    10\n",
    "dtype: int32\n",
    "</pre>\n",
    "  \n",
    "</details>"
   ]
  },
  {
   "cell_type": "code",
   "execution_count": null,
   "metadata": {
    "id": "woHr2ytEKYjg"
   },
   "outputs": [],
   "source": [
    "# Câu 3c: Tạo series ser4 chỉ chứa các phần tử có trong ser2 mà không có trong ser1. \n",
    "#         In danh sách các phần tử của ser4\n",
    "\n"
   ]
  },
  {
   "cell_type": "markdown",
   "metadata": {
    "id": "xhVe1yXzKYjg"
   },
   "source": [
    "<details>\n",
    "  <summary>Nhấn vào đây để xem kết quả!</summary>\n",
    "  <pre>0     1\n",
    "1     3\n",
    "2     5\n",
    "3     7\n",
    "4    11\n",
    "1    12\n",
    "dtype: int64\n",
    "</pre>\n",
    "  \n",
    "</details>"
   ]
  },
  {
   "cell_type": "code",
   "execution_count": null,
   "metadata": {
    "id": "NRbELSybKYjh"
   },
   "outputs": [],
   "source": [
    "# Câu 4: Tạo series ser5 chứa các phần tử chỉ có trong ser1 và chỉ có trong ser2\n",
    "#        In danh sách các phần tử của ser5\n",
    "\n"
   ]
  },
  {
   "cell_type": "markdown",
   "metadata": {
    "id": "ROuPUEH7KYji"
   },
   "source": [
    "<details>\n",
    "  <summary>Nhấn vào đây để xem kết quả!</summary>\n",
    "  <pre>0     2\n",
    "1     4\n",
    "3     8\n",
    "4    10\n",
    "0     1\n",
    "1     3\n",
    "2     5\n",
    "3     7\n",
    "4    11\n",
    "1    12\n",
    "dtype: int64\n",
    "</pre>\n",
    "  \n",
    "</details>"
   ]
  },
  {
   "cell_type": "markdown",
   "metadata": {
    "id": "YvPpCVy5KYji"
   },
   "source": [
    "### Part 2: Truy xuất các phần tử, và thống kê thông tin trên series"
   ]
  },
  {
   "cell_type": "code",
   "execution_count": null,
   "metadata": {
    "id": "_GVQeYCJKYji"
   },
   "outputs": [],
   "source": [
    "# Câu 1a: Tạo series ser6 có 35 phần tử số nguyên ngẫu nhiên có giá trị trong khoảng từ 1 đến 9. \n",
    "np.random.seed(1)\n",
    "\n",
    "# Cho biết kích thước (shape) của ser6\n",
    "\n",
    "\n",
    "# Xem 5 dòng dữ liệu đầu tiên (head) và 5 dòng dữ liệu cuối cùng (tail) có trong ser6\n"
   ]
  },
  {
   "cell_type": "markdown",
   "metadata": {
    "id": "h5kHlStvKYjj"
   },
   "source": [
    "<details>\n",
    "  <summary>Nhấn vào đây để xem kết quả!</summary>\n",
    "  <pre>(35,)\n",
    "0    6\n",
    "1    9\n",
    "2    6\n",
    "3    1\n",
    "4    1\n",
    "dtype: int32\n",
    "30    8\n",
    "31    4\n",
    "32    7\n",
    "33    6\n",
    "34    2\n",
    "dtype: int32\n",
    "</pre>\n",
    "  \n",
    "</details>"
   ]
  },
  {
   "cell_type": "code",
   "execution_count": null,
   "metadata": {
    "id": "9ssFEDmzKYjj"
   },
   "outputs": [],
   "source": [
    "# Câu 1b: In danh sách các phần tử của ser6 theo dạng array\n"
   ]
  },
  {
   "cell_type": "markdown",
   "metadata": {
    "id": "bSqURLDsKYjj"
   },
   "source": [
    "<details>\n",
    "  <summary>Nhấn vào đây để xem kết quả!</summary>\n",
    "  <pre>[6 9 6 1 1 2 8 7 3 5 6 3 5 3 5 8 8 2 8 1 7 8 7 2 1 2 9 9 4 9 8 4 7 6 2]\n",
    "</pre>\n",
    "  \n",
    "</details>"
   ]
  },
  {
   "cell_type": "code",
   "execution_count": null,
   "metadata": {
    "id": "XsNxie41KYjj"
   },
   "outputs": [],
   "source": [
    "# Câu 1c: Cho biết thông tin thống kê chung (describe()) của ser6\n"
   ]
  },
  {
   "cell_type": "markdown",
   "metadata": {
    "id": "SDq3Js3KKYjk"
   },
   "source": [
    "<details>\n",
    "  <summary>Nhấn vào đây để xem kết quả!</summary>\n",
    "  <pre>count    35.000000\n",
    "mean      5.200000\n",
    "std       2.763204\n",
    "min       1.000000\n",
    "25%       2.500000\n",
    "50%       6.000000\n",
    "75%       8.000000\n",
    "max       9.000000\n",
    "dtype: float64</pre>\n",
    "  \n",
    "</details>"
   ]
  },
  {
   "cell_type": "code",
   "execution_count": null,
   "metadata": {
    "id": "zIgwG_QOKYjl"
   },
   "outputs": [],
   "source": [
    "# Câu 1d: Cho biết tổng của các phần tử có trong ser6\n"
   ]
  },
  {
   "cell_type": "markdown",
   "metadata": {
    "id": "bbcmkzO4KYjl"
   },
   "source": [
    "<details>\n",
    "  <summary>Nhấn vào đây để xem kết quả!</summary>\n",
    "  <pre>182</pre>\n",
    "  \n",
    "</details>"
   ]
  },
  {
   "cell_type": "code",
   "execution_count": null,
   "metadata": {
    "id": "P87AEQIpKYjl"
   },
   "outputs": [],
   "source": [
    "# Câu 1e: Cho biết phần tử có tần suất xuất hiện nhiều nhất trong ser6\n"
   ]
  },
  {
   "cell_type": "markdown",
   "metadata": {
    "id": "KHyGq3LrKYjm"
   },
   "source": [
    "<details>\n",
    "  <summary>Nhấn vào đây để xem kết quả!</summary>\n",
    "  <pre>0    8\n",
    "dtype: int32</pre>\n",
    "  \n",
    "</details>"
   ]
  },
  {
   "cell_type": "code",
   "execution_count": null,
   "metadata": {
    "id": "nxIFnX1kKYjm"
   },
   "outputs": [],
   "source": [
    "# Câu 2:  Liệt kê các dòng trong ser6 mà giá trị chia hết cho 2 và cho 3\n"
   ]
  },
  {
   "cell_type": "markdown",
   "metadata": {
    "id": "FBtjg9PMKYjn"
   },
   "source": [
    "<details>\n",
    "  <summary>Nhấn vào đây để xem kết quả!</summary>\n",
    "  <pre>0     6\n",
    "2     6\n",
    "10    6\n",
    "33    6\n",
    "dtype: int32</pre>\n",
    "  \n",
    "</details>"
   ]
  },
  {
   "cell_type": "code",
   "execution_count": null,
   "metadata": {
    "id": "U-DHQYhAKYjo"
   },
   "outputs": [],
   "source": [
    "# Câu 3: In các phần tử ở vị trí 0, 5, 10, 15 trong ser6\n"
   ]
  },
  {
   "cell_type": "markdown",
   "metadata": {
    "id": "ZCk9t6BJKYjo"
   },
   "source": [
    "<details>\n",
    "  <summary>Nhấn vào đây để xem kết quả!</summary>\n",
    "  <pre>0     6\n",
    "5     2\n",
    "10    6\n",
    "15    8\n",
    "dtype: int32</pre>\n",
    "  \n",
    "</details>"
   ]
  },
  {
   "cell_type": "code",
   "execution_count": null,
   "metadata": {
    "id": "tWJznAbuKYjo"
   },
   "outputs": [],
   "source": [
    "# Câu 4: In ra các giá trị unique (array) trong ser6\n"
   ]
  },
  {
   "cell_type": "markdown",
   "metadata": {
    "id": "j5zEkh5SKYjo"
   },
   "source": [
    "<details>\n",
    "  <summary>Nhấn vào đây để xem kết quả!</summary>\n",
    "  <pre>array([6, 9, 1, 2, 8, 7, 3, 5, 4], dtype=int64)</pre>\n",
    "  \n",
    "</details>"
   ]
  },
  {
   "cell_type": "code",
   "execution_count": null,
   "metadata": {
    "id": "L-PUENmfKYjp"
   },
   "outputs": [],
   "source": [
    "# Câu 5: Tạo series ser7 với mỗi phần tử có giá trị = lập phương của phần tử trong ser6. \n",
    "\n",
    "\n",
    "# Xem 5 dòng dữ liệu đầu tiên (head) của ser7\n"
   ]
  },
  {
   "cell_type": "markdown",
   "metadata": {
    "id": "VOTT7u1iKYjp"
   },
   "source": [
    "<details>\n",
    "  <summary>Nhấn vào đây để xem kết quả!</summary>\n",
    "  <pre>0    216.0\n",
    "1    729.0\n",
    "2    216.0\n",
    "3      1.0\n",
    "4      1.0\n",
    "dtype: float64\n",
    "</pre>\n",
    "  \n",
    "</details>"
   ]
  }
 ],
 "metadata": {
  "colab": {
   "collapsed_sections": [],
   "provenance": []
  },
  "kernelspec": {
   "display_name": "Python 3",
   "language": "python",
   "name": "python3"
  },
  "language_info": {
   "codemirror_mode": {
    "name": "ipython",
    "version": 3
   },
   "file_extension": ".py",
   "mimetype": "text/x-python",
   "name": "python",
   "nbconvert_exporter": "python",
   "pygments_lexer": "ipython3",
   "version": "3.13.2"
  }
 },
 "nbformat": 4,
 "nbformat_minor": 4
}
