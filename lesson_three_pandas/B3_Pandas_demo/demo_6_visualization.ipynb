{
 "cells": [
  {
   "cell_type": "code",
   "execution_count": null,
   "id": "collective-adaptation",
   "metadata": {},
   "outputs": [],
   "source": [
    "import numpy as np\n",
    "import pandas as pd"
   ]
  },
  {
   "cell_type": "code",
   "execution_count": null,
   "id": "vocational-universal",
   "metadata": {},
   "outputs": [],
   "source": [
    "# Lưu emp_df vào file csv (đã có thông tin phòng ban)\n",
    "emp_df = pd.read_csv('data/employees_full.csv')\n",
    "df1 = emp_df.head()\n",
    "df1"
   ]
  },
  {
   "cell_type": "markdown",
   "id": "abandoned-afghanistan",
   "metadata": {},
   "source": [
    "### Bar plot"
   ]
  },
  {
   "cell_type": "code",
   "execution_count": null,
   "id": "774a6171",
   "metadata": {},
   "outputs": [],
   "source": [
    "df1.dtypes"
   ]
  },
  {
   "cell_type": "code",
   "execution_count": null,
   "id": "06415e1c",
   "metadata": {},
   "outputs": [],
   "source": [
    "df1.plot.bar()"
   ]
  },
  {
   "cell_type": "code",
   "execution_count": null,
   "id": "89a5388e",
   "metadata": {},
   "outputs": [],
   "source": [
    "df1[['SALARY','MANAGER_ID','LAST_NAME']]"
   ]
  },
  {
   "cell_type": "code",
   "execution_count": null,
   "id": "5d45da1d",
   "metadata": {},
   "outputs": [],
   "source": [
    "df1[['SALARY','MANAGER_ID','LAST_NAME']].plot.bar()"
   ]
  },
  {
   "cell_type": "code",
   "execution_count": null,
   "id": "f1fc9a67",
   "metadata": {},
   "outputs": [],
   "source": [
    "df1[['SALARY','MANAGER_ID','LAST_NAME']].plot.bar(x='LAST_NAME',y='SALARY',title = 'Biểu đồ bar')"
   ]
  },
  {
   "cell_type": "code",
   "execution_count": null,
   "id": "1ca9a3f8",
   "metadata": {},
   "outputs": [],
   "source": [
    "cnt_ser = emp_df.DEPARTMENT_NAME.value_counts()\n",
    "cnt_ser"
   ]
  },
  {
   "cell_type": "code",
   "execution_count": null,
   "id": "refined-special",
   "metadata": {},
   "outputs": [],
   "source": [
    "# đếm số NV theo phòng ban\n",
    "cnt_ser.plot.bar(title = 'Số lượng nhân viên mỗi phòng ban',rot=70);"
   ]
  },
  {
   "cell_type": "code",
   "execution_count": null,
   "id": "42390ea3",
   "metadata": {},
   "outputs": [],
   "source": [
    "cnt_ser.plot.barh(title = 'Số lượng nhân viên mỗi phòng ban');"
   ]
  },
  {
   "cell_type": "code",
   "execution_count": null,
   "id": "2c354d93",
   "metadata": {},
   "outputs": [],
   "source": [
    "salary_ser = emp_df.groupby('DEPARTMENT_ID')['SALARY'].mean().sort_values(ascending = False)\n",
    "salary_ser"
   ]
  },
  {
   "cell_type": "code",
   "execution_count": null,
   "id": "civilian-journalist",
   "metadata": {},
   "outputs": [],
   "source": [
    "# tính trung bình lương theo DEPARTMENT_ID\n",
    "salary_ser.plot.bar(figsize = (10,5), rot = 30, grid = True);"
   ]
  },
  {
   "cell_type": "code",
   "execution_count": null,
   "id": "41be9412",
   "metadata": {},
   "outputs": [],
   "source": [
    "# tính lương nhỏ nhất, trung bình, lớn nhất theo DEPARTMENT_NAME \n",
    "# của 5 phòng ban có lương trung bình cao nhất\n",
    "salary_df = emp_df.groupby('DEPARTMENT_NAME')['SALARY'].agg(['min', 'mean', 'max']).\\\n",
    "            sort_values('mean', ascending = False).head()\n",
    "salary_df"
   ]
  },
  {
   "cell_type": "code",
   "execution_count": null,
   "id": "5611b845",
   "metadata": {},
   "outputs": [],
   "source": [
    "salary_df.plot.bar()"
   ]
  },
  {
   "cell_type": "code",
   "execution_count": null,
   "id": "515770a9",
   "metadata": {},
   "outputs": [],
   "source": [
    "salary_df[['min', 'max']]"
   ]
  },
  {
   "cell_type": "code",
   "execution_count": null,
   "id": "d07f9e33",
   "metadata": {},
   "outputs": [],
   "source": [
    "salary_df[['min', 'max']].plot.bar(figsize = (10,6), rot = 0,\n",
    "                                   title = 'Lương nhỏ nhất, lớn nhất theo phòng ban');"
   ]
  },
  {
   "cell_type": "code",
   "execution_count": null,
   "id": "stone-container",
   "metadata": {},
   "outputs": [],
   "source": [
    "# Vẽ biểu đồ Lương nhỏ nhất, lớn nhất của 5 phòng ban có lương trung bình cao nhất\n",
    "salary_df[['min', 'max']].plot.bar(figsize = (10,6), rot = 0,\n",
    "                                   title = 'Lương nhỏ nhất, lớn nhất theo phòng ban');"
   ]
  },
  {
   "cell_type": "code",
   "execution_count": null,
   "id": "30120a9d",
   "metadata": {},
   "outputs": [],
   "source": [
    "df_cnt = pd.crosstab(index=emp_df['DEPARTMENT_NAME'], columns=emp_df['HIRE_YEAR'], margins=True) # đếm\n",
    "df_cnt"
   ]
  },
  {
   "cell_type": "code",
   "execution_count": null,
   "id": "347f06e0",
   "metadata": {},
   "outputs": [],
   "source": [
    "df_cnt = df_cnt.sort_values('All').iloc[:-1, :-1]\n",
    "df_cnt"
   ]
  },
  {
   "cell_type": "code",
   "execution_count": null,
   "id": "assigned-bulgarian",
   "metadata": {},
   "outputs": [],
   "source": [
    "df_cnt.plot.barh(stacked = True, title = 'Thống kê số lượng nhân viên theo năm vào làm');"
   ]
  },
  {
   "cell_type": "markdown",
   "id": "670acd3e",
   "metadata": {},
   "source": [
    "## Line plot"
   ]
  },
  {
   "cell_type": "code",
   "execution_count": null,
   "id": "c9a365a3",
   "metadata": {},
   "outputs": [],
   "source": [
    "df_cnt = emp_df.groupby('HIRE_YEAR', as_index=False)['FIRST_NAME'].count()\n",
    "df_cnt"
   ]
  },
  {
   "cell_type": "code",
   "execution_count": null,
   "id": "0ba787f4",
   "metadata": {},
   "outputs": [],
   "source": [
    "df_cnt = df_cnt.rename(columns={'FIRST_NAME':'COUNT'})\n",
    "df_cnt"
   ]
  },
  {
   "cell_type": "code",
   "execution_count": null,
   "id": "ef7c86e6",
   "metadata": {},
   "outputs": [],
   "source": [
    "df_cnt.plot()"
   ]
  },
  {
   "cell_type": "code",
   "execution_count": null,
   "id": "67af69e5",
   "metadata": {},
   "outputs": [],
   "source": [
    "df_cnt.plot(x = 'HIRE_YEAR',\n",
    "           title = 'Số lượng nhân viên vào làm qua các năm',legend=False);"
   ]
  },
  {
   "cell_type": "code",
   "execution_count": null,
   "id": "a8caccb9",
   "metadata": {},
   "outputs": [],
   "source": [
    "ser = emp_df.HIRE_YEAR.value_counts()\n",
    "ser = ser.sort_index()\n",
    "ser"
   ]
  },
  {
   "cell_type": "code",
   "execution_count": null,
   "id": "2160515c",
   "metadata": {},
   "outputs": [],
   "source": [
    "ser.plot()"
   ]
  },
  {
   "cell_type": "code",
   "execution_count": null,
   "id": "416a39bb",
   "metadata": {},
   "outputs": [],
   "source": [
    "salary_df"
   ]
  },
  {
   "cell_type": "code",
   "execution_count": null,
   "id": "0375ed1f",
   "metadata": {},
   "outputs": [],
   "source": [
    "salary_df.plot()"
   ]
  },
  {
   "cell_type": "code",
   "execution_count": null,
   "id": "199823c7",
   "metadata": {},
   "outputs": [],
   "source": [
    "salary_df[['min','max']].plot()"
   ]
  },
  {
   "cell_type": "code",
   "execution_count": null,
   "id": "91155d0f",
   "metadata": {},
   "outputs": [],
   "source": []
  }
 ],
 "metadata": {
  "kernelspec": {
   "display_name": "Python 3 (ipykernel)",
   "language": "python",
   "name": "python3"
  },
  "language_info": {
   "codemirror_mode": {
    "name": "ipython",
    "version": 3
   },
   "file_extension": ".py",
   "mimetype": "text/x-python",
   "name": "python",
   "nbconvert_exporter": "python",
   "pygments_lexer": "ipython3",
   "version": "3.12.6"
  }
 },
 "nbformat": 4,
 "nbformat_minor": 5
}
