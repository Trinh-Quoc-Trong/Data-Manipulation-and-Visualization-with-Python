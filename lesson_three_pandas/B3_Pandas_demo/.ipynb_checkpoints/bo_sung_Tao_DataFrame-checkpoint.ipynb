{
 "cells": [
  {
   "cell_type": "code",
   "execution_count": null,
   "id": "basic-delivery",
   "metadata": {},
   "outputs": [],
   "source": [
    "import numpy as np\n",
    "import pandas as pd"
   ]
  },
  {
   "cell_type": "markdown",
   "id": "durable-outdoors",
   "metadata": {},
   "source": [
    "### Tạo"
   ]
  },
  {
   "cell_type": "markdown",
   "id": "natural-deputy",
   "metadata": {},
   "source": [
    "### Tạo từ List"
   ]
  },
  {
   "cell_type": "code",
   "execution_count": null,
   "id": "republican-pressure",
   "metadata": {},
   "outputs": [],
   "source": [
    "lst = [['Tom',25], ['Mike',27], ['Rose',32], ['Alice',26], ['Bill',25]]\n",
    "\n",
    "df = pd.DataFrame(lst, columns=['name','age'])\n",
    "df"
   ]
  },
  {
   "cell_type": "code",
   "execution_count": null,
   "id": "chubby-kentucky",
   "metadata": {},
   "outputs": [],
   "source": [
    "lst = [['Tom',25,1200], ['Mike',27,1500], ['Rose',32,3000], ['Alice',26,1200], ['Bill',25,1500]]\n",
    "\n",
    "df = pd.DataFrame(lst, \n",
    "                  columns=['name','age','salary'], \n",
    "                  index=['T01','M02','R03','A04','B05']) # cấp các index dòng\n",
    "df"
   ]
  },
  {
   "cell_type": "markdown",
   "id": "intellectual-mouth",
   "metadata": {},
   "source": [
    "### Tạo từ Dictionary"
   ]
  },
  {
   "cell_type": "code",
   "execution_count": null,
   "id": "historical-founder",
   "metadata": {},
   "outputs": [],
   "source": [
    "dict = {\n",
    "    'name':['Thanh Thảo','Huyền Trân','Tuấn Tú','Phương Quang','Phương Nhi','Như Quỳnh'],\n",
    "    'age':[18,20,18,21,20,19],\n",
    "    'mail':['thao@gmail.com','htran@edu.vn','tu@yahoo.com','phuongquang@gmail.com','nhi@google.com','quynh@edu.vn']}\n",
    "\n",
    "df = pd.DataFrame(dict)\n",
    "df"
   ]
  },
  {
   "cell_type": "code",
   "execution_count": null,
   "id": "destroyed-vampire",
   "metadata": {},
   "outputs": [],
   "source": [
    "dict = {\n",
    "    'name':['Thanh Thảo','Huyền Trân','Tuấn Tú','Phương Quang','Phương Nhi','Như Quỳnh'],\n",
    "    'age':[18,20,18,21,20,19],\n",
    "    'mail':['thao@gmail.com','htran@edu.vn','tu@yahoo.com','phuongquang@gmail.com','nhi@google.com','quynh@edu.vn']}\n",
    "\n",
    "df = pd.DataFrame(dict, index=['0967123657','0986111222','0698453214','1112223339','9998887770','0765341111'])\n",
    "df"
   ]
  },
  {
   "cell_type": "markdown",
   "id": "worthy-today",
   "metadata": {},
   "source": [
    "### Tạo từ Series"
   ]
  },
  {
   "cell_type": "code",
   "execution_count": null,
   "id": "ordered-payment",
   "metadata": {},
   "outputs": [],
   "source": [
    "name_ser = pd.Series(['Bảo Ngọc','Thanh Bình','Ngọc Thủy','Đức Duy','Toàn Trung'])\n",
    "salary_ser = pd.Series([2000,1200,1500,1700,1500])\n",
    "department_ser = pd.Series(['KT','KT','IT','IT','KT'])\n",
    "\n",
    "employees_df = pd.DataFrame({'ten':name_ser, 'luong':salary_ser, 'phong':department_ser})\n",
    "employees_df"
   ]
  },
  {
   "cell_type": "markdown",
   "id": "inside-mobile",
   "metadata": {},
   "source": [
    "### Tạo từ tập tin excel"
   ]
  },
  {
   "cell_type": "code",
   "execution_count": null,
   "id": "narrative-cosmetic",
   "metadata": {},
   "outputs": [],
   "source": [
    "# pip install xlrd\n",
    "# tạo df từ tập tin excel: nếu tập tin có nhiều sheet, mặc định lấy sheet đầu tiên\n",
    "\n",
    "movies = pd.read_excel('data/movies.xlsx', index_col=0)"
   ]
  },
  {
   "cell_type": "code",
   "execution_count": null,
   "id": "lightweight-consciousness",
   "metadata": {},
   "outputs": [],
   "source": [
    "movies.head()"
   ]
  },
  {
   "cell_type": "code",
   "execution_count": null,
   "id": "emotional-palestinian",
   "metadata": {},
   "outputs": [],
   "source": [
    "# cần chỉ rõ tạo df từ sheet nào: tên hoặc theo index của sheet\n",
    "ratings = pd.read_excel('data/movies.xlsx', 'ratings') # sheet ratings"
   ]
  },
  {
   "cell_type": "code",
   "execution_count": null,
   "id": "floating-progress",
   "metadata": {},
   "outputs": [],
   "source": [
    "ratings.head()"
   ]
  },
  {
   "cell_type": "code",
   "execution_count": null,
   "id": "a9fe9328",
   "metadata": {},
   "outputs": [],
   "source": [
    "# Có thể demo thêm tạo df từ Canada.xlsx, giải thích thêm về skip_row, skipfooter\n",
    "canada = pd.read_excel('data/Canada.xlsx', sheet_name=1, # sheet_name='copy tên sheet trong file dán vào cho chính xác'\n",
    "                        skiprows=20, skipfooter=2) \n",
    "canada"
   ]
  },
  {
   "cell_type": "markdown",
   "id": "3b32b6b4",
   "metadata": {},
   "source": [
    "### Tạo từ tập tin tsv"
   ]
  },
  {
   "cell_type": "code",
   "execution_count": null,
   "id": "0a4e61a6",
   "metadata": {},
   "outputs": [],
   "source": [
    "shark = pd.read_csv('data/shark.tsv', delimiter= '\\t')\n",
    "shark"
   ]
  },
  {
   "cell_type": "code",
   "execution_count": null,
   "id": "bcbb29a2",
   "metadata": {},
   "outputs": [],
   "source": []
  }
 ],
 "metadata": {
  "kernelspec": {
   "display_name": "Python 3 (ipykernel)",
   "language": "python",
   "name": "python3"
  },
  "language_info": {
   "codemirror_mode": {
    "name": "ipython",
    "version": 3
   },
   "file_extension": ".py",
   "mimetype": "text/x-python",
   "name": "python",
   "nbconvert_exporter": "python",
   "pygments_lexer": "ipython3",
   "version": "3.8.7"
  }
 },
 "nbformat": 4,
 "nbformat_minor": 5
}
