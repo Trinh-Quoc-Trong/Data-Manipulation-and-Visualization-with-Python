{
 "cells": [
  {
   "cell_type": "code",
   "execution_count": null,
   "metadata": {},
   "outputs": [],
   "source": [
    "import numpy as np\n",
    "import pandas as pd"
   ]
  },
  {
   "cell_type": "code",
   "execution_count": null,
   "metadata": {},
   "outputs": [],
   "source": [
    "# đọc dữ liệu employees_astyle.csv (đã chuyển kiểu dữ liệu)\n",
    "emp_df = pd.read_csv('data/employees_astyle.csv')\n",
    "emp_df.head()"
   ]
  },
  {
   "cell_type": "code",
   "execution_count": null,
   "metadata": {},
   "outputs": [],
   "source": [
    "emp_df.dtypes"
   ]
  },
  {
   "cell_type": "code",
   "execution_count": null,
   "metadata": {},
   "outputs": [],
   "source": [
    "# Chuyển dữ liệu có ý nghĩa thời gian sang dữ liệu DateTime\n",
    "emp_df['HIRE_DATE'] = pd.to_datetime(emp_df['HIRE_DATE'])\n",
    "emp_df.head()"
   ]
  },
  {
   "cell_type": "code",
   "execution_count": null,
   "metadata": {},
   "outputs": [],
   "source": [
    "emp_df.dtypes"
   ]
  },
  {
   "cell_type": "code",
   "execution_count": null,
   "metadata": {},
   "outputs": [],
   "source": [
    "# Rút trích các thành phần của dữ liệu thời gian\n",
    "emp_df['HIRE_YEAR'] = emp_df['HIRE_DATE'].dt.year\n",
    "emp_df['HIRE_MONTH'] = emp_df['HIRE_DATE'].dt.month\n",
    "emp_df['HIRE_DAY'] = emp_df['HIRE_DATE'].dt.day\n",
    "emp_df[['HIRE_DATE', 'HIRE_YEAR', 'HIRE_MONTH', 'HIRE_DAY']].head()"
   ]
  },
  {
   "cell_type": "code",
   "execution_count": null,
   "metadata": {},
   "outputs": [],
   "source": [
    "emp_df['HIRE_DATE'].dt.isocalendar().week"
   ]
  },
  {
   "cell_type": "code",
   "execution_count": null,
   "metadata": {},
   "outputs": [],
   "source": [
    "emp_df['HIRE_DATE'].dt.dayofweek"
   ]
  },
  {
   "cell_type": "code",
   "execution_count": null,
   "metadata": {},
   "outputs": [],
   "source": [
    "emp_df['HIRE_DATE'].dt.day_name()"
   ]
  },
  {
   "cell_type": "code",
   "execution_count": null,
   "metadata": {},
   "outputs": [],
   "source": [
    "emp_df['HIRE_DATE'].dt.is_leap_year"
   ]
  },
  {
   "cell_type": "code",
   "execution_count": null,
   "metadata": {},
   "outputs": [],
   "source": [
    "emp_df[emp_df['HIRE_DATE'].dt.is_leap_year]"
   ]
  },
  {
   "cell_type": "code",
   "execution_count": null,
   "metadata": {},
   "outputs": [],
   "source": [
    "ser = pd.Series(['2016-16-10 20:30:0', \n",
    "                '2016-27-1 19:45:30', \n",
    "                '2013-10-12 4:5:1'])\n",
    "ser = pd.to_datetime(ser, format=\"%Y-%d-%m %H:%M:%S\")\n",
    "ser"
   ]
  },
  {
   "cell_type": "code",
   "execution_count": null,
   "metadata": {},
   "outputs": [],
   "source": [
    "ser.dt.date"
   ]
  },
  {
   "cell_type": "code",
   "execution_count": null,
   "metadata": {},
   "outputs": [],
   "source": [
    "# Thay đổi định dạng\n",
    "ser = ser.dt.strftime(\"%d/%m/%Y\")\n",
    "ser"
   ]
  },
  {
   "cell_type": "code",
   "execution_count": null,
   "metadata": {},
   "outputs": [],
   "source": [
    "# Khoảng cách giữa các mốc thời gian: timedelta()"
   ]
  },
  {
   "cell_type": "code",
   "execution_count": null,
   "metadata": {},
   "outputs": [],
   "source": [
    "thu_vien = pd.DataFrame({'ngay_muon': ['2023-01-03', '2023-02-06', '2023-02-28']})\n",
    "thu_vien"
   ]
  },
  {
   "cell_type": "code",
   "execution_count": null,
   "metadata": {},
   "outputs": [],
   "source": [
    "thu_vien.ngay_muon = pd.to_datetime(thu_vien.ngay_muon)\n",
    "thu_vien"
   ]
  },
  {
   "cell_type": "code",
   "execution_count": null,
   "metadata": {},
   "outputs": [],
   "source": [
    "from datetime import timedelta"
   ]
  },
  {
   "cell_type": "code",
   "execution_count": null,
   "metadata": {},
   "outputs": [],
   "source": [
    "thu_vien['ngay_het_han'] = thu_vien.ngay_muon + timedelta(days = 10)\n",
    "thu_vien"
   ]
  },
  {
   "cell_type": "code",
   "execution_count": null,
   "metadata": {},
   "outputs": [],
   "source": [
    "thu_vien['ngay_tra'] = pd.to_datetime(pd.Series(['2023-01-10', '2023-02-17', '2023-02-28']))\n",
    "thu_vien"
   ]
  },
  {
   "cell_type": "code",
   "execution_count": null,
   "metadata": {},
   "outputs": [],
   "source": [
    "thu_vien['tra_cham'] = thu_vien.ngay_tra > thu_vien.ngay_het_han\n",
    "thu_vien"
   ]
  },
  {
   "cell_type": "code",
   "execution_count": null,
   "metadata": {},
   "outputs": [],
   "source": [
    "# Chuyển Timestamps sang datetime"
   ]
  },
  {
   "cell_type": "code",
   "execution_count": null,
   "metadata": {},
   "outputs": [],
   "source": [
    "ratings = pd.read_excel('data/movies.xlsx', 'ratings')\n",
    "ratings.head()"
   ]
  },
  {
   "cell_type": "code",
   "execution_count": null,
   "metadata": {},
   "outputs": [],
   "source": [
    "ratings.dtypes"
   ]
  },
  {
   "cell_type": "code",
   "execution_count": null,
   "metadata": {},
   "outputs": [],
   "source": [
    "# Tạo cột 'parsed_time' là dữ liệu cột 'timestamp' được chuyển sang datetime\n",
    "ratings['parsed_time'] = pd.to_datetime(ratings.timestamp, unit='s')\n",
    "ratings.head()"
   ]
  },
  {
   "cell_type": "code",
   "execution_count": null,
   "metadata": {},
   "outputs": [],
   "source": [
    "ratings.dtypes"
   ]
  },
  {
   "cell_type": "code",
   "execution_count": null,
   "metadata": {},
   "outputs": [],
   "source": [
    "# Những nhân viên vào làm trong tháng 6 năm 2006\n",
    "emp_df[(emp_df['HIRE_DATE'] >= '2006-06-01') & (emp_df['HIRE_DATE'] <= '2006-06-30')]"
   ]
  },
  {
   "cell_type": "code",
   "execution_count": null,
   "metadata": {},
   "outputs": [],
   "source": [
    "# Những nhân viên vào làm trong 6 tháng cuối năm 2006\n",
    "emp_df[(emp_df['HIRE_DATE'] >= '2006-10') & (emp_df['HIRE_DATE'] < '2007')]"
   ]
  },
  {
   "cell_type": "code",
   "execution_count": null,
   "metadata": {},
   "outputs": [],
   "source": []
  }
 ],
 "metadata": {
  "kernelspec": {
   "display_name": "Python 3 (ipykernel)",
   "language": "python",
   "name": "python3"
  },
  "language_info": {
   "codemirror_mode": {
    "name": "ipython",
    "version": 3
   },
   "file_extension": ".py",
   "mimetype": "text/x-python",
   "name": "python",
   "nbconvert_exporter": "python",
   "pygments_lexer": "ipython3",
   "version": "3.12.6"
  }
 },
 "nbformat": 4,
 "nbformat_minor": 4
}
