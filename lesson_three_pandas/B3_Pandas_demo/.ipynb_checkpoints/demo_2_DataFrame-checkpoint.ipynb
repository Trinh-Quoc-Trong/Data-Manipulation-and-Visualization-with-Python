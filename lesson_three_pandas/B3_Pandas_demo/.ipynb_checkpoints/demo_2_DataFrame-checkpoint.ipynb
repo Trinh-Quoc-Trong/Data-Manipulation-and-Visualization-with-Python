{
 "cells": [
  {
   "cell_type": "markdown",
   "id": "24de7136",
   "metadata": {},
   "source": [
    "## Import thư viện"
   ]
  },
  {
   "cell_type": "code",
   "execution_count": null,
   "id": "26e72d90",
   "metadata": {},
   "outputs": [],
   "source": [
    "import numpy as np\n",
    "import pandas as pd"
   ]
  },
  {
   "cell_type": "markdown",
   "id": "f1d92436",
   "metadata": {},
   "source": [
    "## Tạo DataFrame"
   ]
  },
  {
   "cell_type": "code",
   "execution_count": null,
   "id": "8a29ab79",
   "metadata": {},
   "outputs": [],
   "source": [
    "lst = [1,5,7,8,10]\n",
    "df = pd.DataFrame(lst,index=['a','b','c','d','e'],columns=['A'])\n",
    "df"
   ]
  },
  {
   "cell_type": "code",
   "execution_count": null,
   "id": "fa6bc405",
   "metadata": {},
   "outputs": [],
   "source": [
    "lst = [['An',19],['Tuan',20],['Binh',22]]\n",
    "df = pd.DataFrame(lst,index=['a','b','c'],columns=['name','age'])\n",
    "df"
   ]
  },
  {
   "cell_type": "code",
   "execution_count": null,
   "id": "7827d9f1",
   "metadata": {},
   "outputs": [],
   "source": [
    "emp_df = pd.DataFrame({'name':['Tom','Mike','Rose','Bill','Dick', 'John', 'Tom'],\n",
    "                       'age':[25,27,24,28,30,27,24],\n",
    "                       'salary':[1200, 1500, 3000, 1200, 1500, 1300, 1250]})\n",
    "emp_df"
   ]
  },
  {
   "cell_type": "code",
   "execution_count": null,
   "id": "59dacc86",
   "metadata": {},
   "outputs": [],
   "source": [
    "emp_df = pd.DataFrame({'name':['Tom','Mike','Rose','Bill','Dick', 'John', 'Tom'],\n",
    "                       'age':[25,27,24,28,30,27,24],\n",
    "                       'salary':[1200, 1500, 3000, 1200, 1500, 1300, 1250]},\n",
    "                      index=['hv1','hv2','hv3','hv4','hv5','hv6','hv7'],\n",
    "                     columns=['name','salary','age'])\n",
    "emp_df"
   ]
  },
  {
   "cell_type": "markdown",
   "id": "2eb89689",
   "metadata": {},
   "source": [
    "## Thuộc tính"
   ]
  },
  {
   "cell_type": "code",
   "execution_count": null,
   "id": "be9bf7a0",
   "metadata": {},
   "outputs": [],
   "source": [
    "emp_df.size"
   ]
  },
  {
   "cell_type": "code",
   "execution_count": null,
   "id": "5b94a74c",
   "metadata": {},
   "outputs": [],
   "source": [
    "emp_df.shape # có 7 dòng, 3 cột"
   ]
  },
  {
   "cell_type": "code",
   "execution_count": null,
   "id": "19178212",
   "metadata": {},
   "outputs": [],
   "source": [
    "emp_df.index"
   ]
  },
  {
   "cell_type": "code",
   "execution_count": null,
   "id": "67639f6a",
   "metadata": {},
   "outputs": [],
   "source": [
    "emp_df.columns # danh sách cột"
   ]
  },
  {
   "cell_type": "code",
   "execution_count": null,
   "id": "e6660667",
   "metadata": {},
   "outputs": [],
   "source": [
    "emp_df.axes"
   ]
  },
  {
   "cell_type": "code",
   "execution_count": null,
   "id": "29675aa3",
   "metadata": {},
   "outputs": [],
   "source": [
    "emp_df.values"
   ]
  },
  {
   "cell_type": "code",
   "execution_count": null,
   "id": "59bf8aa9",
   "metadata": {},
   "outputs": [],
   "source": [
    "emp_df.dtypes # danh sách cột và kiểu dữ liệu"
   ]
  },
  {
   "cell_type": "markdown",
   "id": "e544c0e0",
   "metadata": {},
   "source": [
    "## Phương thức"
   ]
  },
  {
   "cell_type": "code",
   "execution_count": null,
   "id": "cbe54458",
   "metadata": {},
   "outputs": [],
   "source": [
    "emp_df"
   ]
  },
  {
   "cell_type": "code",
   "execution_count": null,
   "id": "8b2f8cce",
   "metadata": {},
   "outputs": [],
   "source": [
    "emp_df.info()"
   ]
  },
  {
   "cell_type": "code",
   "execution_count": null,
   "id": "d389dd39",
   "metadata": {},
   "outputs": [],
   "source": [
    "emp_df.head(2)"
   ]
  },
  {
   "cell_type": "code",
   "execution_count": null,
   "id": "00c7eb36",
   "metadata": {},
   "outputs": [],
   "source": [
    "emp_df.tail(3)"
   ]
  },
  {
   "cell_type": "code",
   "execution_count": null,
   "id": "246799b5",
   "metadata": {
    "scrolled": true
   },
   "outputs": [],
   "source": [
    "emp_df.describe() # thống kê trên cột số"
   ]
  },
  {
   "cell_type": "code",
   "execution_count": null,
   "id": "ded05bbb",
   "metadata": {},
   "outputs": [],
   "source": [
    "emp_df.describe(include='object')# thống kê trên cột object(chuỗi)"
   ]
  },
  {
   "cell_type": "code",
   "execution_count": null,
   "id": "7c72944b",
   "metadata": {},
   "outputs": [],
   "source": [
    "emp_df.describe(include='all')"
   ]
  },
  {
   "cell_type": "markdown",
   "id": "certain-metallic",
   "metadata": {},
   "source": [
    "### Đọc dữ liệu từ tập tin .csv"
   ]
  },
  {
   "cell_type": "code",
   "execution_count": null,
   "id": "aggregate-whale",
   "metadata": {},
   "outputs": [],
   "source": [
    "# Đọc dữ liệu từ employees.csv vào dataframe emp_df\n",
    "\n",
    "emp_df = pd.read_csv('data/emp.csv')\n",
    "emp_df"
   ]
  },
  {
   "cell_type": "code",
   "execution_count": null,
   "id": "cognitive-circle",
   "metadata": {},
   "outputs": [],
   "source": [
    "# Xem 5 dòng đầu tiên\n",
    "emp_df.head()"
   ]
  },
  {
   "cell_type": "code",
   "execution_count": null,
   "id": "b34178bd",
   "metadata": {},
   "outputs": [],
   "source": [
    "df =  pd.read_csv('data/euro2012.csv',index_col=0,sep=',')\n",
    "df"
   ]
  },
  {
   "cell_type": "code",
   "execution_count": null,
   "id": "401d4226",
   "metadata": {},
   "outputs": [],
   "source": [
    "lst_colname = ['col1','col2','col3','col4']\n",
    "df = pd.read_csv('data/shark.tsv',delimiter='\\t',nrows=10,header=None,names=lst_colname)\n",
    "df"
   ]
  },
  {
   "cell_type": "markdown",
   "id": "inside-mobile",
   "metadata": {},
   "source": [
    "### Đọc dữ liệu từ tập tin excel"
   ]
  },
  {
   "cell_type": "code",
   "execution_count": null,
   "id": "narrative-cosmetic",
   "metadata": {},
   "outputs": [],
   "source": [
    "# Đọc dữ liệu từ employees.xlsx vào dataframe emp_df\n",
    "# pip install xlrd, openpyxl, \n",
    "# engine = 'openpyxl' nếu cần\n",
    "emp_df = pd.read_excel('data/employees.xlsx')"
   ]
  },
  {
   "cell_type": "code",
   "execution_count": null,
   "id": "lightweight-consciousness",
   "metadata": {},
   "outputs": [],
   "source": [
    "# Xem 5 dòng đầu tiên\n",
    "emp_df.head()"
   ]
  },
  {
   "cell_type": "code",
   "execution_count": null,
   "id": "b85f3e6a",
   "metadata": {},
   "outputs": [],
   "source": [
    "emp_df.shape"
   ]
  },
  {
   "cell_type": "code",
   "execution_count": null,
   "id": "ced391a8",
   "metadata": {},
   "outputs": [],
   "source": [
    "df = pd.read_excel('data/Canada.xlsx')\n",
    "df.head(30)"
   ]
  },
  {
   "cell_type": "code",
   "execution_count": null,
   "id": "5519984a",
   "metadata": {},
   "outputs": [],
   "source": [
    "df = pd.read_excel('data/Canada.xlsx',sheet_name=1,skiprows=20,skipfooter=2)\n",
    "df"
   ]
  },
  {
   "cell_type": "markdown",
   "id": "80b04bf5",
   "metadata": {},
   "source": [
    "## Xem thông tin"
   ]
  },
  {
   "cell_type": "code",
   "execution_count": null,
   "id": "electrical-modern",
   "metadata": {},
   "outputs": [],
   "source": [
    "emp_df.shape # có 107 dòng, 11 cột"
   ]
  },
  {
   "cell_type": "code",
   "execution_count": null,
   "id": "vulnerable-richards",
   "metadata": {},
   "outputs": [],
   "source": [
    "emp_df.dtypes # in danh sách cột và kiểu dữ liệu"
   ]
  },
  {
   "cell_type": "code",
   "execution_count": null,
   "id": "anticipated-radical",
   "metadata": {
    "scrolled": true
   },
   "outputs": [],
   "source": [
    "emp_df.info()"
   ]
  },
  {
   "cell_type": "code",
   "execution_count": null,
   "id": "raised-season",
   "metadata": {},
   "outputs": [],
   "source": [
    "emp_df.describe() # các cột kiểu số"
   ]
  },
  {
   "cell_type": "code",
   "execution_count": null,
   "id": "enormous-welding",
   "metadata": {},
   "outputs": [],
   "source": [
    "emp_df.describe(include='object') # các cột kiểu object"
   ]
  },
  {
   "cell_type": "markdown",
   "id": "mature-carroll",
   "metadata": {},
   "source": [
    "## Truy xuất\n",
    "#### Truy xuất 1 phần tử"
   ]
  },
  {
   "cell_type": "code",
   "execution_count": null,
   "id": "724821c7",
   "metadata": {},
   "outputs": [],
   "source": [
    "#tendf.loc[row label, column label]\n",
    "#tendf.iloc[row index, column index]"
   ]
  },
  {
   "cell_type": "code",
   "execution_count": null,
   "id": "ad1d5226",
   "metadata": {},
   "outputs": [],
   "source": [
    "emp_df.head()"
   ]
  },
  {
   "cell_type": "code",
   "execution_count": null,
   "id": "944d3554",
   "metadata": {},
   "outputs": [],
   "source": [
    "emp_df.shape"
   ]
  },
  {
   "cell_type": "code",
   "execution_count": null,
   "id": "broke-resistance",
   "metadata": {},
   "outputs": [],
   "source": [
    "# Tên của nhân viên ở dòng đầu tiên\n",
    "emp_df.loc[0,'FIRST_NAME'] # dòng 0, FIRST_NAME"
   ]
  },
  {
   "cell_type": "code",
   "execution_count": null,
   "id": "marked-following",
   "metadata": {
    "scrolled": true
   },
   "outputs": [],
   "source": [
    "# họ của nhân viên ở dòng đầu tiên\n",
    "emp_df.iloc[0,2] # dòng 0, cột 2 ~ LAST_NAME"
   ]
  },
  {
   "cell_type": "code",
   "execution_count": null,
   "id": "040374ee",
   "metadata": {},
   "outputs": [],
   "source": [
    "emp_df.iloc[0,-1]"
   ]
  },
  {
   "cell_type": "markdown",
   "id": "b631c17e",
   "metadata": {},
   "source": [
    "#### Truy xuất nhiều phần tử"
   ]
  },
  {
   "cell_type": "code",
   "execution_count": null,
   "id": "1df76e6c",
   "metadata": {},
   "outputs": [],
   "source": [
    "# có quy tắc (index ngầm định)\n",
    "#tendf.iloc[start:stop:step , start:stop:step]\n",
    "# cột không quy tắc\n",
    "#tendf.iloc[start:stop:step , danh sách column index]\n",
    "# dòng không quy tắc\n",
    "#tendf.iloc[danh sách row index, start:stop:step]\n",
    "# dòng không quy tắc, cột không quy tắc\n",
    "#tendf.iloc[danh sách row index, danh sách column index](khác mảng 2D numpy)\n",
    "\n",
    "#tendf.loc[danh sach row label, danh sach column label] \n",
    "#tendf.loc[start:stop(bao gồm stop) , danh sach column label] "
   ]
  },
  {
   "cell_type": "code",
   "execution_count": null,
   "id": "88494a4b",
   "metadata": {},
   "outputs": [],
   "source": [
    "emp_df.head()"
   ]
  },
  {
   "cell_type": "code",
   "execution_count": null,
   "id": "2cc7f0f3",
   "metadata": {},
   "outputs": [],
   "source": [
    "# Thông tin 'FIRST_NAME', 'LAST_NAME', 'SALARY' của các nhân viên ở dòng 1, 4\n",
    "emp_df.loc[[1,4], ['FIRST_NAME', 'LAST_NAME', 'SALARY']]"
   ]
  },
  {
   "cell_type": "code",
   "execution_count": null,
   "id": "5ffb7f42",
   "metadata": {},
   "outputs": [],
   "source": [
    "# in từ dòng 2 đến dòng 6 (theo label) và các cột EMPLOYEE_ID, LAST_NAME, JOB_ID\n",
    "emp_df.loc[2:6, ['EMPLOYEE_ID', 'LAST_NAME', 'JOB_ID']] # dùng loc"
   ]
  },
  {
   "cell_type": "code",
   "execution_count": null,
   "id": "670d18a3",
   "metadata": {},
   "outputs": [],
   "source": [
    "# thông tin từ dòng 2 đến dòng 5 (theo index) và các cột EMPLOYEE_ID,LAST_NAME,JOB_ID ở index 0,2,6\n",
    "emp_df.iloc[2:6,[0,2,6]] # dùng iloc"
   ]
  },
  {
   "cell_type": "code",
   "execution_count": null,
   "id": "06ae09cf",
   "metadata": {},
   "outputs": [],
   "source": [
    "emp_df.iloc[:2,:3]"
   ]
  },
  {
   "cell_type": "code",
   "execution_count": null,
   "id": "a9df0f32",
   "metadata": {},
   "outputs": [],
   "source": [
    "emp_df.iloc[:6,-3:]"
   ]
  },
  {
   "cell_type": "code",
   "execution_count": null,
   "id": "f6679923",
   "metadata": {},
   "outputs": [],
   "source": [
    "emp_df.iloc[2:6, [0,2,6]] "
   ]
  },
  {
   "cell_type": "code",
   "execution_count": null,
   "id": "6e235c91",
   "metadata": {},
   "outputs": [],
   "source": [
    "emp_df.iloc[[1,2,4],:3]"
   ]
  },
  {
   "cell_type": "code",
   "execution_count": null,
   "id": "eba9b98a",
   "metadata": {},
   "outputs": [],
   "source": [
    "emp_df.iloc[[1,2,4],[0,1,3]]"
   ]
  },
  {
   "cell_type": "markdown",
   "id": "9e845ca2",
   "metadata": {},
   "source": [
    "#### Truy xuất 1 cột"
   ]
  },
  {
   "cell_type": "code",
   "execution_count": null,
   "id": "fea01dcf",
   "metadata": {},
   "outputs": [],
   "source": [
    "emp_df.loc[:,'EMAIL']"
   ]
  },
  {
   "cell_type": "code",
   "execution_count": null,
   "id": "253d26b0",
   "metadata": {},
   "outputs": [],
   "source": [
    "emp_df.iloc[:,3]"
   ]
  },
  {
   "cell_type": "code",
   "execution_count": null,
   "id": "50f51895",
   "metadata": {},
   "outputs": [],
   "source": [
    "#tendf[column label]"
   ]
  },
  {
   "cell_type": "code",
   "execution_count": null,
   "id": "bf292253",
   "metadata": {},
   "outputs": [],
   "source": [
    "# truy xuất cột: EMAIL\n",
    "emp_df['EMAIL'] # Series"
   ]
  },
  {
   "cell_type": "code",
   "execution_count": null,
   "id": "325a9ba9",
   "metadata": {},
   "outputs": [],
   "source": [
    "emp_df.EMAIL # dấu . truy 1 cột (nhãn cột phải viết liền)"
   ]
  },
  {
   "cell_type": "code",
   "execution_count": null,
   "id": "acca35de",
   "metadata": {},
   "outputs": [],
   "source": [
    "emp_df.loc[:,['EMPLOYEE_ID','EMAIL']] # dataframe"
   ]
  },
  {
   "cell_type": "markdown",
   "id": "b703e8ef",
   "metadata": {},
   "source": [
    "#### Truy xuất nhiều cột"
   ]
  },
  {
   "cell_type": "code",
   "execution_count": null,
   "id": "0066946a",
   "metadata": {},
   "outputs": [],
   "source": [
    "#tendf[danh sách column label]\n",
    "# truy xuất các cột 'FIRST_NAME', 'LAST_NAME', 'SALARY'\n",
    "emp_df[['FIRST_NAME', 'LAST_NAME', 'SALARY']]"
   ]
  },
  {
   "cell_type": "markdown",
   "id": "bd3f1208",
   "metadata": {},
   "source": [
    "#### Truy xuất 1 dòng"
   ]
  },
  {
   "cell_type": "code",
   "execution_count": null,
   "id": "12f9fb5a",
   "metadata": {},
   "outputs": [],
   "source": [
    "#tendf.loc[row label]\n",
    "#tendf.iloc[row index]"
   ]
  },
  {
   "cell_type": "code",
   "execution_count": null,
   "id": "2a65ac17",
   "metadata": {},
   "outputs": [],
   "source": [
    "emp_df.head()"
   ]
  },
  {
   "cell_type": "code",
   "execution_count": null,
   "id": "95b0cde1",
   "metadata": {},
   "outputs": [],
   "source": [
    "emp_df.loc[1]"
   ]
  },
  {
   "cell_type": "code",
   "execution_count": null,
   "id": "ce47190e",
   "metadata": {},
   "outputs": [],
   "source": [
    "emp_df.iloc[-1]"
   ]
  },
  {
   "cell_type": "markdown",
   "id": "9e84f711",
   "metadata": {},
   "source": [
    "#### Truy xuất nhiều dòng"
   ]
  },
  {
   "cell_type": "code",
   "execution_count": null,
   "id": "5e34f851",
   "metadata": {},
   "outputs": [],
   "source": [
    "# Nhân viên từ dòng 2 đến dòng 5\n",
    "emp_df.iloc[2:6]"
   ]
  },
  {
   "cell_type": "code",
   "execution_count": null,
   "id": "5ca51c66",
   "metadata": {},
   "outputs": [],
   "source": [
    "emp_df.loc[2:6]"
   ]
  },
  {
   "cell_type": "code",
   "execution_count": null,
   "id": "f53267d7",
   "metadata": {},
   "outputs": [],
   "source": [
    "emp_df.loc[[2,3,5]]"
   ]
  },
  {
   "cell_type": "code",
   "execution_count": null,
   "id": "ad43a30d",
   "metadata": {},
   "outputs": [],
   "source": [
    "emp_df[2:6]"
   ]
  },
  {
   "cell_type": "markdown",
   "id": "43246ef0",
   "metadata": {},
   "source": [
    "#### Truy xuất theo điều kiện"
   ]
  },
  {
   "cell_type": "code",
   "execution_count": null,
   "id": "5ad1dc10",
   "metadata": {},
   "outputs": [],
   "source": [
    "emp_df['JOB_ID']=='IT_PROG'"
   ]
  },
  {
   "cell_type": "code",
   "execution_count": null,
   "id": "entire-conflict",
   "metadata": {},
   "outputs": [],
   "source": [
    "# Các nhân viên có vai trò là 'IT_PROG'\n",
    "emp_df[emp_df['JOB_ID']=='IT_PROG']"
   ]
  },
  {
   "cell_type": "code",
   "execution_count": null,
   "id": "8dfd212e",
   "metadata": {},
   "outputs": [],
   "source": [
    "emp_df[emp_df['JOB_ID']=='IT_PROG'][['JOB_ID','SALARY']]"
   ]
  },
  {
   "cell_type": "code",
   "execution_count": null,
   "id": "3c8b5839",
   "metadata": {},
   "outputs": [],
   "source": [
    "#tendf.loc[bieu thuc dk , danh sach column label]"
   ]
  },
  {
   "cell_type": "code",
   "execution_count": null,
   "id": "22de74ab",
   "metadata": {},
   "outputs": [],
   "source": [
    "emp_df.loc[(emp_df['JOB_ID']=='IT_PROG')]"
   ]
  },
  {
   "cell_type": "code",
   "execution_count": null,
   "id": "fd5b2f1e",
   "metadata": {},
   "outputs": [],
   "source": [
    "emp_df.loc[(emp_df['JOB_ID']=='IT_PROG'), ['JOB_ID','SALARY']]"
   ]
  },
  {
   "cell_type": "code",
   "execution_count": null,
   "id": "charged-preference",
   "metadata": {},
   "outputs": [],
   "source": [
    "max_sal = emp_df['SALARY'].max()\n",
    "emp_df[emp_df['SALARY']==max_sal]"
   ]
  },
  {
   "cell_type": "code",
   "execution_count": null,
   "id": "indonesian-ontario",
   "metadata": {},
   "outputs": [],
   "source": [
    "emp_df[(emp_df['DEPARTMENT_ID']==60) & (emp_df['SALARY']> 5000)] # and"
   ]
  },
  {
   "cell_type": "code",
   "execution_count": null,
   "id": "ec5fc274",
   "metadata": {},
   "outputs": [],
   "source": [
    "emp_df.dtypes"
   ]
  },
  {
   "cell_type": "code",
   "execution_count": null,
   "id": "4bd2da0a",
   "metadata": {},
   "outputs": [],
   "source": [
    "emp_df.head()"
   ]
  },
  {
   "cell_type": "code",
   "execution_count": null,
   "id": "45cabe7e",
   "metadata": {},
   "outputs": [],
   "source": [
    "emp_df.EMPLOYEE_ID.unique()"
   ]
  },
  {
   "cell_type": "code",
   "execution_count": null,
   "id": "5b0c21a9",
   "metadata": {},
   "outputs": [],
   "source": [
    "emp_df.loc[emp_df['EMPLOYEE_ID']==110,'SALARY'].iloc[0]"
   ]
  },
  {
   "cell_type": "markdown",
   "id": "be23b8ff",
   "metadata": {},
   "source": [
    "#### set_index"
   ]
  },
  {
   "cell_type": "code",
   "execution_count": null,
   "id": "special-despite",
   "metadata": {},
   "outputs": [],
   "source": [
    "emp_df.set_index('EMPLOYEE_ID',inplace=True) # đặt cột EMPLOYEE_ID làm index"
   ]
  },
  {
   "cell_type": "code",
   "execution_count": null,
   "id": "extended-testament",
   "metadata": {},
   "outputs": [],
   "source": [
    "emp_df.head()"
   ]
  },
  {
   "cell_type": "code",
   "execution_count": null,
   "id": "freelance-phenomenon",
   "metadata": {},
   "outputs": [],
   "source": [
    "emp_df.loc[110,'SALARY']"
   ]
  },
  {
   "cell_type": "code",
   "execution_count": null,
   "id": "indoor-retrieval",
   "metadata": {},
   "outputs": [],
   "source": [
    "emp_df.reset_index(inplace=True) # reset index"
   ]
  },
  {
   "cell_type": "code",
   "execution_count": null,
   "id": "common-layout",
   "metadata": {},
   "outputs": [],
   "source": [
    "emp_df.head()"
   ]
  },
  {
   "cell_type": "markdown",
   "id": "37b25429",
   "metadata": {},
   "source": [
    "## Xử lý dữ liệu trùng"
   ]
  },
  {
   "cell_type": "code",
   "execution_count": null,
   "id": "8cb15982",
   "metadata": {},
   "outputs": [],
   "source": [
    "data = {\n",
    "    'fullname': ['John Smith', 'Mary Johnson', 'John Smith', 'Robert Williams', 'Sarah Davis', 'Michael Wilson','John Smith'],\n",
    "    'job_id': ['IT_PROG', 'SALES_REP', 'IT_PROG', 'HR_REP', 'IT_PROG', 'AC_ACCOUNT', 'IT_PROG'],\n",
    "    'income': [1000, 1500, 1000, 1200, 1000, 1100, 1200]\n",
    "}\n",
    "\n",
    "emp = pd.DataFrame(data)\n",
    "\n",
    "emp"
   ]
  },
  {
   "cell_type": "code",
   "execution_count": null,
   "id": "d04b2e0a",
   "metadata": {},
   "outputs": [],
   "source": [
    "emp.duplicated() # duplicate trên tất cả các cột"
   ]
  },
  {
   "cell_type": "code",
   "execution_count": null,
   "id": "35c1ca7d",
   "metadata": {},
   "outputs": [],
   "source": [
    "emp.duplicated(keep = 'last')"
   ]
  },
  {
   "cell_type": "code",
   "execution_count": null,
   "id": "30d0224f",
   "metadata": {},
   "outputs": [],
   "source": [
    "emp.duplicated(keep = False)"
   ]
  },
  {
   "cell_type": "code",
   "execution_count": null,
   "id": "58b5f314",
   "metadata": {},
   "outputs": [],
   "source": [
    "emp.duplicated(keep = False).sum()"
   ]
  },
  {
   "cell_type": "code",
   "execution_count": null,
   "id": "37ca2108",
   "metadata": {},
   "outputs": [],
   "source": [
    "emp.duplicated(subset=['fullname', 'job_id']) # duplicate trên cột fullname, job_id"
   ]
  },
  {
   "cell_type": "code",
   "execution_count": null,
   "id": "2f320da0",
   "metadata": {},
   "outputs": [],
   "source": [
    "emp.duplicated(subset=['fullname', 'job_id'], keep = False)"
   ]
  },
  {
   "cell_type": "code",
   "execution_count": null,
   "id": "2c90a4fc",
   "metadata": {},
   "outputs": [],
   "source": [
    "# in ra các dòng duplicate trên 'job_id', 'fullname'\n",
    "emp[emp.duplicated(subset=['fullname', 'job_id'], keep = False)] "
   ]
  },
  {
   "cell_type": "code",
   "execution_count": null,
   "id": "ec09c649",
   "metadata": {},
   "outputs": [],
   "source": [
    "emp.drop_duplicates(inplace=True) # xóa các dòng bị duplicate\n",
    "emp"
   ]
  },
  {
   "cell_type": "code",
   "execution_count": null,
   "id": "6a4b3a60",
   "metadata": {},
   "outputs": [],
   "source": [
    "emp.drop_duplicates(subset=['fullname', 'job_id'], inplace=True) # xóa các dòng bị duplicate cột 'job_id', 'salary'\n",
    "emp"
   ]
  },
  {
   "cell_type": "code",
   "execution_count": null,
   "id": "bd7fc3d8",
   "metadata": {},
   "outputs": [],
   "source": [
    "# Kiểm tra và xóa dữ liệu trùng trong emp_df (nếu có)"
   ]
  },
  {
   "cell_type": "code",
   "execution_count": null,
   "id": "3f697eb1",
   "metadata": {},
   "outputs": [],
   "source": [
    "emp_df = pd.read_excel('data/employees.xlsx')\n",
    "emp_df"
   ]
  },
  {
   "cell_type": "code",
   "execution_count": null,
   "id": "fe489d94",
   "metadata": {},
   "outputs": [],
   "source": [
    "emp_df.duplicated().sum()"
   ]
  },
  {
   "cell_type": "code",
   "execution_count": null,
   "id": "7b409c04",
   "metadata": {},
   "outputs": [],
   "source": [
    "# Dữ liệu không bị trùng"
   ]
  },
  {
   "cell_type": "code",
   "execution_count": null,
   "id": "ffc185d8",
   "metadata": {},
   "outputs": [],
   "source": []
  }
 ],
 "metadata": {
  "kernelspec": {
   "display_name": "Python 3 (ipykernel)",
   "language": "python",
   "name": "python3"
  },
  "language_info": {
   "codemirror_mode": {
    "name": "ipython",
    "version": 3
   },
   "file_extension": ".py",
   "mimetype": "text/x-python",
   "name": "python",
   "nbconvert_exporter": "python",
   "pygments_lexer": "ipython3",
   "version": "3.12.6"
  }
 },
 "nbformat": 4,
 "nbformat_minor": 5
}
