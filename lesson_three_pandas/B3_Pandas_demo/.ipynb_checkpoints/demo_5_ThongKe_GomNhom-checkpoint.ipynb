{
 "cells": [
  {
   "cell_type": "code",
   "execution_count": null,
   "id": "collective-adaptation",
   "metadata": {},
   "outputs": [],
   "source": [
    "import numpy as np\n",
    "import pandas as pd"
   ]
  },
  {
   "cell_type": "code",
   "execution_count": null,
   "id": "vocational-universal",
   "metadata": {},
   "outputs": [],
   "source": [
    "# đọc dữ liệu employees_astyle.csv (đã chuyển kiểu dữ liệu)\n",
    "emp_df = pd.read_csv('data/employees_astyle.csv')\n",
    "emp_df.head()"
   ]
  },
  {
   "cell_type": "code",
   "execution_count": null,
   "id": "1dce500b",
   "metadata": {},
   "outputs": [],
   "source": [
    "emp_df.dtypes"
   ]
  },
  {
   "cell_type": "code",
   "execution_count": null,
   "id": "7ae185bb",
   "metadata": {},
   "outputs": [],
   "source": [
    "emp_df['HIRE_DATE'] = pd.to_datetime(emp_df['HIRE_DATE'])\n",
    "emp_df['HIRE_YEAR'] = pd.to_datetime(emp_df['HIRE_DATE']).dt.year\n",
    "emp_df.head()"
   ]
  },
  {
   "cell_type": "code",
   "execution_count": null,
   "id": "581a4244",
   "metadata": {},
   "outputs": [],
   "source": [
    "dep_df = pd.read_excel('data/departments.xls')\n",
    "dep_df.head()"
   ]
  },
  {
   "cell_type": "code",
   "execution_count": null,
   "id": "507f9744",
   "metadata": {},
   "outputs": [],
   "source": [
    "# gộp dữ liệu emp_df và dep_df[['DEPARTMENT_ID', 'DEPARTMENT_NAME']]\n",
    "emp_df = pd.merge(emp_df, dep_df[['DEPARTMENT_ID', 'DEPARTMENT_NAME']])\n",
    "emp_df.head()"
   ]
  },
  {
   "cell_type": "code",
   "execution_count": null,
   "id": "e89d5c68",
   "metadata": {},
   "outputs": [],
   "source": [
    "emp_df.info()"
   ]
  },
  {
   "cell_type": "code",
   "execution_count": null,
   "id": "caa75e26",
   "metadata": {},
   "outputs": [],
   "source": [
    "emp_df.describe()"
   ]
  },
  {
   "cell_type": "code",
   "execution_count": null,
   "id": "07a5b1b9",
   "metadata": {},
   "outputs": [],
   "source": [
    "emp_df.describe(include='O')"
   ]
  },
  {
   "cell_type": "markdown",
   "id": "8c731bbb",
   "metadata": {},
   "source": [
    "## Thống kê trên 1 cột"
   ]
  },
  {
   "cell_type": "code",
   "execution_count": null,
   "id": "16ccc2c9",
   "metadata": {},
   "outputs": [],
   "source": [
    "salary = emp_df.SALARY\n",
    "salary"
   ]
  },
  {
   "cell_type": "code",
   "execution_count": null,
   "id": "49a0d593",
   "metadata": {},
   "outputs": [],
   "source": [
    "salary.count()"
   ]
  },
  {
   "cell_type": "code",
   "execution_count": null,
   "id": "ed2cba49",
   "metadata": {},
   "outputs": [],
   "source": [
    "salary.sum()"
   ]
  },
  {
   "cell_type": "code",
   "execution_count": null,
   "id": "9a939efc",
   "metadata": {},
   "outputs": [],
   "source": [
    "salary.mean()"
   ]
  },
  {
   "cell_type": "code",
   "execution_count": null,
   "id": "426b5e40",
   "metadata": {},
   "outputs": [],
   "source": [
    "salary.median()"
   ]
  },
  {
   "cell_type": "code",
   "execution_count": null,
   "id": "f25f3c39",
   "metadata": {},
   "outputs": [],
   "source": [
    "s = pd.Series([1,2,3,4,1,2,5,7,1,2])"
   ]
  },
  {
   "cell_type": "code",
   "execution_count": null,
   "id": "851e1916",
   "metadata": {},
   "outputs": [],
   "source": [
    "s.value_counts()"
   ]
  },
  {
   "cell_type": "code",
   "execution_count": null,
   "id": "700d6e71",
   "metadata": {},
   "outputs": [],
   "source": [
    "s.mode()"
   ]
  },
  {
   "cell_type": "code",
   "execution_count": null,
   "id": "48b8c435",
   "metadata": {},
   "outputs": [],
   "source": [
    "# Giá trị xuất hiện nhiều nhất: Mức lương phổ biến nhất\n",
    "salary.mode() #=> trả về series "
   ]
  },
  {
   "cell_type": "code",
   "execution_count": null,
   "id": "352b4140",
   "metadata": {},
   "outputs": [],
   "source": [
    "salary.value_counts()"
   ]
  },
  {
   "cell_type": "code",
   "execution_count": null,
   "id": "aeb45d52",
   "metadata": {},
   "outputs": [],
   "source": [
    "salary.min()"
   ]
  },
  {
   "cell_type": "code",
   "execution_count": null,
   "id": "d2fc1ac8",
   "metadata": {},
   "outputs": [],
   "source": [
    "salary.max()"
   ]
  },
  {
   "cell_type": "code",
   "execution_count": null,
   "id": "009fd2b2",
   "metadata": {},
   "outputs": [],
   "source": [
    "salary.std()"
   ]
  },
  {
   "cell_type": "code",
   "execution_count": null,
   "id": "1440645e",
   "metadata": {},
   "outputs": [],
   "source": [
    "salary.var()"
   ]
  },
  {
   "cell_type": "code",
   "execution_count": null,
   "id": "fb839675",
   "metadata": {},
   "outputs": [],
   "source": [
    "salary.quantile(0.25) # Q1"
   ]
  },
  {
   "cell_type": "code",
   "execution_count": null,
   "id": "0f9921af",
   "metadata": {},
   "outputs": [],
   "source": [
    "salary.quantile(0.5) # Q2"
   ]
  },
  {
   "cell_type": "code",
   "execution_count": null,
   "id": "f5eb5755",
   "metadata": {},
   "outputs": [],
   "source": [
    "salary.quantile(0.75) # Q3"
   ]
  },
  {
   "cell_type": "code",
   "execution_count": null,
   "id": "bc819872",
   "metadata": {},
   "outputs": [],
   "source": [
    "salary.sort_values()"
   ]
  },
  {
   "cell_type": "code",
   "execution_count": null,
   "id": "fd5fa029",
   "metadata": {},
   "outputs": [],
   "source": [
    "salary"
   ]
  },
  {
   "cell_type": "code",
   "execution_count": null,
   "id": "b0497d04",
   "metadata": {},
   "outputs": [],
   "source": [
    "salary.sort_values(ascending=False)"
   ]
  },
  {
   "cell_type": "code",
   "execution_count": null,
   "id": "54a2be40",
   "metadata": {},
   "outputs": [],
   "source": [
    "# thống kê số nhân viên theo năm vào làm\n",
    "emp_df.HIRE_YEAR.value_counts()"
   ]
  },
  {
   "cell_type": "code",
   "execution_count": null,
   "id": "a2052352",
   "metadata": {},
   "outputs": [],
   "source": [
    "# thống kê số nhân viên theo phòng ban\n",
    "emp_df.DEPARTMENT_NAME.value_counts()"
   ]
  },
  {
   "cell_type": "markdown",
   "id": "245830e5",
   "metadata": {},
   "source": [
    "## Thống kê trên Dataframe"
   ]
  },
  {
   "cell_type": "code",
   "execution_count": null,
   "id": "347a08eb",
   "metadata": {},
   "outputs": [],
   "source": [
    "emp_df.count()"
   ]
  },
  {
   "cell_type": "code",
   "execution_count": null,
   "id": "73f7ff91",
   "metadata": {},
   "outputs": [],
   "source": [
    "emp_df.dtypes"
   ]
  },
  {
   "cell_type": "code",
   "execution_count": null,
   "id": "3eaf084a",
   "metadata": {},
   "outputs": [],
   "source": [
    "emp_df.sum(numeric_only=True)"
   ]
  },
  {
   "cell_type": "code",
   "execution_count": null,
   "id": "e02fd11b",
   "metadata": {},
   "outputs": [],
   "source": [
    "emp_df.mean(numeric_only=True)"
   ]
  },
  {
   "cell_type": "code",
   "execution_count": null,
   "id": "a0fbe408",
   "metadata": {},
   "outputs": [],
   "source": [
    "emp_df.median(numeric_only=True)"
   ]
  },
  {
   "cell_type": "code",
   "execution_count": null,
   "id": "297490a5",
   "metadata": {},
   "outputs": [],
   "source": [
    "emp_df.min(numeric_only=True)"
   ]
  },
  {
   "cell_type": "code",
   "execution_count": null,
   "id": "2713f624",
   "metadata": {},
   "outputs": [],
   "source": [
    "emp_df.max(numeric_only=True)"
   ]
  },
  {
   "cell_type": "code",
   "execution_count": null,
   "id": "952024a4",
   "metadata": {},
   "outputs": [],
   "source": [
    "emp_df.std(numeric_only=True)"
   ]
  },
  {
   "cell_type": "code",
   "execution_count": null,
   "id": "4f5aea7e",
   "metadata": {},
   "outputs": [],
   "source": [
    "emp_df.var(numeric_only=True)"
   ]
  },
  {
   "cell_type": "code",
   "execution_count": null,
   "id": "e36070d5",
   "metadata": {},
   "outputs": [],
   "source": [
    "emp_df.quantile(0.25, numeric_only=True)"
   ]
  },
  {
   "cell_type": "code",
   "execution_count": null,
   "id": "c58fb667",
   "metadata": {},
   "outputs": [],
   "source": [
    "emp_df.head()"
   ]
  },
  {
   "cell_type": "code",
   "execution_count": null,
   "id": "dc6e7b0f",
   "metadata": {},
   "outputs": [],
   "source": [
    "emp_df.sort_values(by='EMPLOYEE_ID')"
   ]
  },
  {
   "cell_type": "code",
   "execution_count": null,
   "id": "d7e241c3",
   "metadata": {},
   "outputs": [],
   "source": [
    "emp_df.sort_values('HIRE_DATE', ascending=False)"
   ]
  },
  {
   "cell_type": "code",
   "execution_count": null,
   "id": "cd0234ed",
   "metadata": {},
   "outputs": [],
   "source": [
    "df = emp_df.iloc[:,[0,1,2,7]]\n",
    "df.head()"
   ]
  },
  {
   "cell_type": "code",
   "execution_count": null,
   "id": "c0f1064d",
   "metadata": {},
   "outputs": [],
   "source": [
    "df.sort_values(by=['SALARY','LAST_NAME'],ascending=[True,False])"
   ]
  },
  {
   "cell_type": "code",
   "execution_count": null,
   "id": "540fecd2",
   "metadata": {},
   "outputs": [],
   "source": [
    "#emp_df.HIRE_YEAR.value_counts()\n",
    "emp_df.value_counts('HIRE_YEAR')"
   ]
  },
  {
   "cell_type": "code",
   "execution_count": null,
   "id": "4b8cc2ee",
   "metadata": {},
   "outputs": [],
   "source": [
    "emp_df.HIRE_YEAR.value_counts()"
   ]
  },
  {
   "cell_type": "code",
   "execution_count": null,
   "id": "2be58a3a",
   "metadata": {},
   "outputs": [],
   "source": [
    "emp_df.value_counts(['HIRE_YEAR', 'DEPARTMENT_NAME']).head(10)"
   ]
  },
  {
   "cell_type": "code",
   "execution_count": null,
   "id": "b80f0617",
   "metadata": {},
   "outputs": [],
   "source": [
    "emp_df.value_counts(['HIRE_YEAR', 'DEPARTMENT_NAME']).head(10).reset_index()"
   ]
  },
  {
   "cell_type": "code",
   "execution_count": null,
   "id": "2f2895da",
   "metadata": {},
   "outputs": [],
   "source": [
    "emp_df.value_counts(['HIRE_YEAR', 'DEPARTMENT_NAME']).head(10).reset_index().rename(columns={0:'Cnt'})"
   ]
  },
  {
   "cell_type": "markdown",
   "id": "372d684d",
   "metadata": {},
   "source": [
    "## Groupby"
   ]
  },
  {
   "cell_type": "code",
   "execution_count": null,
   "id": "5c170f1c",
   "metadata": {},
   "outputs": [],
   "source": [
    "emp_df.groupby('DEPARTMENT_NAME')"
   ]
  },
  {
   "cell_type": "code",
   "execution_count": null,
   "id": "9c0cef10",
   "metadata": {},
   "outputs": [],
   "source": [
    "emp_df.columns"
   ]
  },
  {
   "cell_type": "code",
   "execution_count": null,
   "id": "1f9ded18",
   "metadata": {},
   "outputs": [],
   "source": [
    "emp_df.dtypes"
   ]
  },
  {
   "cell_type": "code",
   "execution_count": null,
   "id": "sublime-scanning",
   "metadata": {},
   "outputs": [],
   "source": [
    "emp_df.groupby('DEPARTMENT_NAME').mean(numeric_only=True)"
   ]
  },
  {
   "cell_type": "code",
   "execution_count": null,
   "id": "1b5aab02",
   "metadata": {},
   "outputs": [],
   "source": [
    "emp_df.groupby('DEPARTMENT_NAME')[['SALARY','COMMISSION_PCT']].mean().reset_index()"
   ]
  },
  {
   "cell_type": "code",
   "execution_count": null,
   "id": "fcf28c73",
   "metadata": {},
   "outputs": [],
   "source": [
    "emp_df.groupby('DEPARTMENT_NAME',as_index=False)[['SALARY','COMMISSION_PCT']].mean()"
   ]
  },
  {
   "cell_type": "code",
   "execution_count": null,
   "id": "chief-leisure",
   "metadata": {},
   "outputs": [],
   "source": [
    "# lương nhân viên trung bình theo năm vào làm\n",
    "emp_df.groupby('HIRE_YEAR',as_index=False)['SALARY'].mean()"
   ]
  },
  {
   "cell_type": "code",
   "execution_count": null,
   "id": "7d1027a9",
   "metadata": {},
   "outputs": [],
   "source": [
    "emp_df.DEPARTMENT_NAME.value_counts()"
   ]
  },
  {
   "cell_type": "code",
   "execution_count": null,
   "id": "f349c71c",
   "metadata": {},
   "outputs": [],
   "source": [
    "emp_df.groupby('DEPARTMENT_NAME')['EMPLOYEE_ID'].count()"
   ]
  },
  {
   "cell_type": "code",
   "execution_count": null,
   "id": "refined-special",
   "metadata": {},
   "outputs": [],
   "source": [
    "# đếm số NV theo phòng ban\n",
    "emp_df.groupby(by='DEPARTMENT_NAME',as_index=False)['EMPLOYEE_ID'].count()"
   ]
  },
  {
   "cell_type": "code",
   "execution_count": null,
   "id": "33bcf5b9",
   "metadata": {},
   "outputs": [],
   "source": [
    "emp_df.groupby('DEPARTMENT_NAME',as_index=False)['EMPLOYEE_ID'].count().sort_values(by='EMPLOYEE_ID',ascending=False)"
   ]
  },
  {
   "cell_type": "code",
   "execution_count": null,
   "id": "d0a329ed",
   "metadata": {},
   "outputs": [],
   "source": [
    "emp_df.groupby('DEPARTMENT_NAME')['EMPLOYEE_ID'].count().reset_index().sort_values(by='EMPLOYEE_ID',ascending=False)"
   ]
  },
  {
   "cell_type": "code",
   "execution_count": null,
   "id": "civilian-journalist",
   "metadata": {},
   "outputs": [],
   "source": [
    "# tính trung bình lương theo JOB_ID\n",
    "emp_df.groupby('JOB_ID')['SALARY'].mean()"
   ]
  },
  {
   "cell_type": "code",
   "execution_count": null,
   "id": "efficient-journalism",
   "metadata": {},
   "outputs": [],
   "source": [
    "# xem thông tin thống kê lương theo năm vào làm\n",
    "emp_df.groupby('HIRE_YEAR')['SALARY'].describe()"
   ]
  },
  {
   "cell_type": "code",
   "execution_count": null,
   "id": "45255d29",
   "metadata": {},
   "outputs": [],
   "source": [
    "emp_df.groupby('DEPARTMENT_NAME')['SALARY'].median()"
   ]
  },
  {
   "cell_type": "code",
   "execution_count": null,
   "id": "52ac9e01",
   "metadata": {},
   "outputs": [],
   "source": [
    "emp_df.groupby('DEPARTMENT_NAME')['SALARY'].mean()"
   ]
  },
  {
   "cell_type": "code",
   "execution_count": null,
   "id": "7c270ad3",
   "metadata": {},
   "outputs": [],
   "source": [
    "emp_df.groupby('DEPARTMENT_NAME')['SALARY'].max()"
   ]
  },
  {
   "cell_type": "code",
   "execution_count": null,
   "id": "68b76d1e",
   "metadata": {},
   "outputs": [],
   "source": [
    "emp_df.groupby('DEPARTMENT_NAME')['SALARY'].count()"
   ]
  },
  {
   "cell_type": "code",
   "execution_count": null,
   "id": "stone-container",
   "metadata": {},
   "outputs": [],
   "source": [
    "# tính số lượng NV, lương trung bình, trung vị, lớn nhất, nhỏ nhất theo phòng ban\n",
    "emp_df.groupby('DEPARTMENT_NAME')['SALARY'].agg(['count','min','max','mean','median'])"
   ]
  },
  {
   "cell_type": "code",
   "execution_count": null,
   "id": "9b21dabe",
   "metadata": {},
   "outputs": [],
   "source": [
    "emp_df.groupby('DEPARTMENT_NAME').agg(Count_Emp = pd.NamedAgg(column='EMPLOYEE_ID',aggfunc='count'),\n",
    "                                     Sal_avg = pd.NamedAgg(column='SALARY',aggfunc='mean'))"
   ]
  },
  {
   "cell_type": "code",
   "execution_count": null,
   "id": "expired-police",
   "metadata": {},
   "outputs": [],
   "source": [
    "# đếm số lượng nhân viên theo năm vào làm và theo phòng ban\n",
    "df = emp_df.groupby(['HIRE_YEAR', 'DEPARTMENT_NAME'],as_index=False)['DEPARTMENT_ID'].count()\n",
    "df.head(10)"
   ]
  },
  {
   "cell_type": "code",
   "execution_count": null,
   "id": "4623f0cb",
   "metadata": {},
   "outputs": [],
   "source": [
    "df.loc[(df.HIRE_YEAR==2007) & (df.DEPARTMENT_NAME=='IT'),'DEPARTMENT_ID'].iloc[0]"
   ]
  },
  {
   "cell_type": "code",
   "execution_count": null,
   "id": "f570c57a",
   "metadata": {},
   "outputs": [],
   "source": [
    "df1 = pd.crosstab(index=emp_df.HIRE_YEAR, columns=emp_df.DEPARTMENT_NAME,values=emp_df.DEPARTMENT_ID,aggfunc='count')\n",
    "df1.fillna(0).applymap(int)"
   ]
  },
  {
   "cell_type": "code",
   "execution_count": null,
   "id": "c1eb86b0",
   "metadata": {},
   "outputs": [],
   "source": [
    "df1.loc[2007,'IT']"
   ]
  },
  {
   "cell_type": "markdown",
   "id": "adopted-passenger",
   "metadata": {},
   "source": [
    "### Cross Tab"
   ]
  },
  {
   "cell_type": "code",
   "execution_count": null,
   "id": "numerous-spell",
   "metadata": {},
   "outputs": [],
   "source": [
    "round(pd.crosstab(index=emp_df['HIRE_YEAR'], columns=emp_df['DEPARTMENT_NAME'], \n",
    "                  values=emp_df['SALARY'], aggfunc='mean'))"
   ]
  },
  {
   "cell_type": "code",
   "execution_count": null,
   "id": "assigned-bulgarian",
   "metadata": {},
   "outputs": [],
   "source": [
    "pd.crosstab(index=emp_df['HIRE_YEAR'], columns=emp_df['DEPARTMENT_NAME']) # đếm"
   ]
  },
  {
   "cell_type": "code",
   "execution_count": null,
   "id": "through-mongolia",
   "metadata": {},
   "outputs": [],
   "source": [
    "pd.crosstab(index=emp_df['HIRE_YEAR'], columns=emp_df['DEPARTMENT_NAME'], margins=True)"
   ]
  },
  {
   "cell_type": "code",
   "execution_count": null,
   "id": "amino-harvest",
   "metadata": {},
   "outputs": [],
   "source": [
    "pd.crosstab(index=emp_df['HIRE_YEAR'], columns=emp_df['DEPARTMENT_NAME'], normalize=True)"
   ]
  },
  {
   "cell_type": "code",
   "execution_count": null,
   "id": "respective-payroll",
   "metadata": {},
   "outputs": [],
   "source": [
    "pd.crosstab(index=emp_df['HIRE_YEAR'], columns=emp_df['DEPARTMENT_NAME'], normalize='index')"
   ]
  },
  {
   "cell_type": "code",
   "execution_count": null,
   "id": "a82891f8",
   "metadata": {},
   "outputs": [],
   "source": [
    "pd.crosstab(columns=emp_df.DEPARTMENT_NAME, index=emp_df.HIRE_YEAR, values=emp_df.SALARY,aggfunc='sum')"
   ]
  },
  {
   "cell_type": "markdown",
   "id": "changed-serum",
   "metadata": {},
   "source": [
    "### Pivot table"
   ]
  },
  {
   "cell_type": "code",
   "execution_count": null,
   "id": "5b82a071",
   "metadata": {},
   "outputs": [],
   "source": [
    "pd.pivot_table(data=emp_df, columns='DEPARTMENT_NAME', index='HIRE_YEAR', values='SALARY',aggfunc='sum')"
   ]
  },
  {
   "cell_type": "code",
   "execution_count": null,
   "id": "9a95ba0a",
   "metadata": {},
   "outputs": [],
   "source": [
    "pd.pivot_table(data=emp_df, columns='DEPARTMENT_NAME', index='HIRE_YEAR', values='SALARY',fill_value=0)"
   ]
  },
  {
   "cell_type": "code",
   "execution_count": null,
   "id": "unexpected-window",
   "metadata": {},
   "outputs": [],
   "source": [
    "pivot = round(pd.pivot_table(data=emp_df, index='DEPARTMENT_NAME', columns='HIRE_YEAR', values='SALARY')) # mean\n",
    "pivot"
   ]
  },
  {
   "cell_type": "code",
   "execution_count": null,
   "id": "genetic-there",
   "metadata": {},
   "outputs": [],
   "source": [
    "# tính tổng lương\n",
    "round(pd.pivot_table(data=emp_df, index='DEPARTMENT_NAME', columns='HIRE_YEAR', \n",
    "                     values='SALARY', aggfunc='sum'))"
   ]
  },
  {
   "cell_type": "markdown",
   "id": "705f32c1",
   "metadata": {},
   "source": [
    "### Melt"
   ]
  },
  {
   "cell_type": "code",
   "execution_count": null,
   "id": "f11d2fa9",
   "metadata": {},
   "outputs": [],
   "source": [
    "pivot = pivot.reset_index()\n",
    "pivot"
   ]
  },
  {
   "cell_type": "code",
   "execution_count": null,
   "id": "romance-bolivia",
   "metadata": {},
   "outputs": [],
   "source": [
    "unpivoted_df = pd.melt(pivot, id_vars=['DEPARTMENT_NAME'], var_name='HIRE_YEAR_tmp', value_name='mean_SALARY')\n",
    "\n",
    "# Xóa các dòng có giá trị NaN\n",
    "unpivoted_df = unpivoted_df.dropna()\n",
    "\n",
    "# Hiển thị DataFrame đã unpivot\n",
    "unpivoted_df"
   ]
  },
  {
   "cell_type": "code",
   "execution_count": null,
   "id": "01307bbe",
   "metadata": {},
   "outputs": [],
   "source": [
    "# Lưu emp_df vào file csv (đã có thông tin phòng ban)\n",
    "emp_df.to_csv('data/employees_full.csv', index=False)"
   ]
  },
  {
   "cell_type": "code",
   "execution_count": null,
   "id": "e8b2c8f3",
   "metadata": {},
   "outputs": [],
   "source": [
    "df = pd.DataFrame({'Name': {0: 'John', 1: 'Bob', 2: 'Shiela'},\n",
    "                   'Course': {0: 'Masters', 1: 'Graduate', 2: 'Graduate'},\n",
    "                   'Age': {0: 27, 1: 23, 2: 21}})\n",
    "df"
   ]
  },
  {
   "cell_type": "code",
   "execution_count": null,
   "id": "186932f0",
   "metadata": {},
   "outputs": [],
   "source": [
    "pd.melt(df, id_vars=['Name'])"
   ]
  },
  {
   "cell_type": "code",
   "execution_count": null,
   "id": "491accf5",
   "metadata": {},
   "outputs": [],
   "source": [
    "pd.melt(df, id_vars=['Name'], value_vars=['Age'],var_name='col1',value_name='col 2')"
   ]
  },
  {
   "cell_type": "code",
   "execution_count": null,
   "id": "d123ceac",
   "metadata": {},
   "outputs": [],
   "source": [
    "pd.melt(df, id_vars=['Name','Course'], value_vars=['Age'])"
   ]
  },
  {
   "cell_type": "code",
   "execution_count": null,
   "id": "d74c6a70",
   "metadata": {},
   "outputs": [],
   "source": [
    "pd.melt(df, id_vars=['Name','Course'], value_vars=['Age'],\n",
    "        var_name='ChangedVarname', value_name='ChangedValname')"
   ]
  },
  {
   "cell_type": "code",
   "execution_count": null,
   "id": "c56e694a",
   "metadata": {},
   "outputs": [],
   "source": [
    "pd.melt(df, id_vars=['Name'], value_vars=['Course'],\n",
    "        var_name='ChangedVarname', value_name='ChangedValname')"
   ]
  },
  {
   "cell_type": "markdown",
   "id": "f5a0ad2b",
   "metadata": {},
   "source": [
    "## Lưu ý khi group nhiều cột"
   ]
  },
  {
   "cell_type": "code",
   "execution_count": null,
   "id": "92e7b01a",
   "metadata": {},
   "outputs": [],
   "source": [
    "emp_df.columns"
   ]
  },
  {
   "cell_type": "code",
   "execution_count": null,
   "id": "827d9869",
   "metadata": {},
   "outputs": [],
   "source": [
    "df = emp_df.groupby(['HIRE_YEAR','DEPARTMENT_NAME'])['SALARY'].mean().reset_index()\n",
    "df.head()"
   ]
  },
  {
   "cell_type": "code",
   "execution_count": null,
   "id": "b7d9909a",
   "metadata": {},
   "outputs": [],
   "source": [
    "df = emp_df.groupby(['HIRE_YEAR','DEPARTMENT_NAME'],as_index=False)['SALARY'].mean()\n",
    "df.head()"
   ]
  },
  {
   "cell_type": "code",
   "execution_count": null,
   "id": "b4db262f",
   "metadata": {},
   "outputs": [],
   "source": [
    "emp_df.groupby(['HIRE_YEAR','DEPARTMENT_NAME'])['SALARY'].mean()"
   ]
  },
  {
   "cell_type": "code",
   "execution_count": null,
   "id": "16257890",
   "metadata": {},
   "outputs": [],
   "source": []
  }
 ],
 "metadata": {
  "kernelspec": {
   "display_name": "Python 3 (ipykernel)",
   "language": "python",
   "name": "python3"
  },
  "language_info": {
   "codemirror_mode": {
    "name": "ipython",
    "version": 3
   },
   "file_extension": ".py",
   "mimetype": "text/x-python",
   "name": "python",
   "nbconvert_exporter": "python",
   "pygments_lexer": "ipython3",
   "version": "3.12.6"
  }
 },
 "nbformat": 4,
 "nbformat_minor": 5
}
