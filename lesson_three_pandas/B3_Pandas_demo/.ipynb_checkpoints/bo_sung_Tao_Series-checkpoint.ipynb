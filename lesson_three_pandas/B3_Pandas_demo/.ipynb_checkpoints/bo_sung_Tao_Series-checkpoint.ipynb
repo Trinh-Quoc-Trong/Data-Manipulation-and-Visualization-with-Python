{
 "cells": [
  {
   "cell_type": "code",
   "execution_count": null,
   "id": "basic-delivery",
   "metadata": {},
   "outputs": [],
   "source": [
    "import numpy as np\n",
    "import pandas as pd"
   ]
  },
  {
   "cell_type": "markdown",
   "id": "durable-outdoors",
   "metadata": {},
   "source": [
    "### Tạo"
   ]
  },
  {
   "cell_type": "code",
   "execution_count": null,
   "id": "republican-pressure",
   "metadata": {},
   "outputs": [],
   "source": [
    "# tạo series từ list --> series\n",
    "age_lst = [25,27,24,28,30]\n",
    "age_ser = pd.Series(age_lst)\n",
    "age_ser"
   ]
  },
  {
   "cell_type": "code",
   "execution_count": null,
   "id": "historical-founder",
   "metadata": {},
   "outputs": [],
   "source": [
    "# tạo series từ array --> series\n",
    "age_arr = np.array([25,27,24,28,30])\n",
    "age_ser = pd.Series(age_arr)\n",
    "age_ser"
   ]
  },
  {
   "cell_type": "code",
   "execution_count": null,
   "id": "ca952851",
   "metadata": {},
   "outputs": [],
   "source": [
    "age_lst = [25,27,24,28,30]\n",
    "age_ser = pd.Series(age_lst,index=['an','tuan','binh','lan','cuc'])\n",
    "age_ser"
   ]
  },
  {
   "cell_type": "code",
   "execution_count": null,
   "id": "destroyed-vampire",
   "metadata": {},
   "outputs": [],
   "source": [
    "# tạo series từ list --> array --> series\n",
    "age_lst = [25,27,24,28,30] # list\n",
    "age_arr = np.array(age_lst) # array\n",
    "age_ser = pd.Series(age_arr) # series\n",
    "age_ser"
   ]
  },
  {
   "cell_type": "markdown",
   "id": "color-production",
   "metadata": {},
   "source": [
    "#### Index là số tăng tự động: 0, 1, 2, ..."
   ]
  },
  {
   "cell_type": "code",
   "execution_count": null,
   "id": "reduced-dance",
   "metadata": {},
   "outputs": [],
   "source": [
    "# tạo series age_ser là tuổi của 5 nhân viên\n",
    "age_ser = pd.Series([25,27,24,28,30])"
   ]
  },
  {
   "cell_type": "code",
   "execution_count": null,
   "id": "dietary-remove",
   "metadata": {},
   "outputs": [],
   "source": [
    "# in ra age_ser\n",
    "age_ser"
   ]
  },
  {
   "cell_type": "markdown",
   "id": "funny-colleague",
   "metadata": {},
   "source": [
    "#### Index được gán nhãn ~ label index"
   ]
  },
  {
   "cell_type": "code",
   "execution_count": null,
   "id": "understood-growing",
   "metadata": {},
   "outputs": [],
   "source": [
    "# tạo series age_ser là tuổi của 5 nhân viên\n",
    "age_ser = pd.Series([25,27,24,28,30], index=[101,102,103,104,105]) # gán nhãn cho index"
   ]
  },
  {
   "cell_type": "code",
   "execution_count": null,
   "id": "virgin-granny",
   "metadata": {},
   "outputs": [],
   "source": [
    "age_ser"
   ]
  },
  {
   "cell_type": "code",
   "execution_count": null,
   "id": "miniature-formation",
   "metadata": {},
   "outputs": [],
   "source": [
    "# tạo series score_ser là điểm của 5 sinh viên\n",
    "score_ser = pd.Series([7.5,8.0,6.0,7.0,3.5], index=['std1','std2','std3','std4','std5'])\n",
    "score_ser"
   ]
  },
  {
   "cell_type": "code",
   "execution_count": null,
   "id": "organizational-dover",
   "metadata": {},
   "outputs": [],
   "source": []
  },
  {
   "cell_type": "code",
   "execution_count": null,
   "id": "indirect-combining",
   "metadata": {},
   "outputs": [],
   "source": [
    "# Tạo series từ tập tin txt là chiều cao các vận động viên bóng chày, tính theo inch\n",
    "height_arr = np.loadtxt('data/heights_1.txt', delimiter=',') \n",
    "height_arr"
   ]
  },
  {
   "cell_type": "code",
   "execution_count": null,
   "id": "6963e629",
   "metadata": {},
   "outputs": [],
   "source": [
    "height_arr = np.genfromtxt('data/heights_1.txt', delimiter=',') \n",
    "height_arr"
   ]
  },
  {
   "cell_type": "code",
   "execution_count": null,
   "id": "moved-anniversary",
   "metadata": {},
   "outputs": [],
   "source": [
    "height_ser = pd.Series(height_arr)"
   ]
  },
  {
   "cell_type": "code",
   "execution_count": null,
   "id": "round-stream",
   "metadata": {},
   "outputs": [],
   "source": [
    "height_ser.head() # xem 5 dòng đầu"
   ]
  },
  {
   "cell_type": "code",
   "execution_count": null,
   "id": "ordered-payment",
   "metadata": {},
   "outputs": [],
   "source": [
    "height_ser.tail() # xem 5 dòng cuối"
   ]
  },
  {
   "cell_type": "code",
   "execution_count": null,
   "id": "valuable-charter",
   "metadata": {},
   "outputs": [],
   "source": [
    "height_ser.shape"
   ]
  },
  {
   "cell_type": "code",
   "execution_count": null,
   "id": "f4e8ce77",
   "metadata": {},
   "outputs": [],
   "source": [
    "height_ser.info()"
   ]
  },
  {
   "cell_type": "code",
   "execution_count": null,
   "id": "89d65ecc",
   "metadata": {},
   "outputs": [],
   "source": []
  }
 ],
 "metadata": {
  "kernelspec": {
   "display_name": "Python 3 (ipykernel)",
   "language": "python",
   "name": "python3"
  },
  "language_info": {
   "codemirror_mode": {
    "name": "ipython",
    "version": 3
   },
   "file_extension": ".py",
   "mimetype": "text/x-python",
   "name": "python",
   "nbconvert_exporter": "python",
   "pygments_lexer": "ipython3",
   "version": "3.12.7"
  }
 },
 "nbformat": 4,
 "nbformat_minor": 5
}
