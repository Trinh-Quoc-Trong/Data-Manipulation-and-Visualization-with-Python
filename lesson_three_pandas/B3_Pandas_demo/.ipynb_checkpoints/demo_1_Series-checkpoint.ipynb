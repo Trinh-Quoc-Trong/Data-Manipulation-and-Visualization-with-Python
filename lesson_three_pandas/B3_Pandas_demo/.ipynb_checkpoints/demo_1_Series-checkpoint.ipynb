{
 "cells": [
  {
   "cell_type": "markdown",
   "id": "24de7136",
   "metadata": {},
   "source": [
    "## Import thư viện"
   ]
  },
  {
   "cell_type": "code",
   "execution_count": null,
   "id": "26e72d90",
   "metadata": {},
   "outputs": [],
   "source": [
    "import numpy as np\n",
    "import pandas as pd"
   ]
  },
  {
   "cell_type": "markdown",
   "id": "f1d92436",
   "metadata": {},
   "source": [
    "## Tạo Series"
   ]
  },
  {
   "cell_type": "code",
   "execution_count": null,
   "id": "b056d688",
   "metadata": {},
   "outputs": [],
   "source": [
    "# tạo series chứa tuổi của 5 nhân viên\n",
    "age_lst = [25,27,24,28,30]\n",
    "age_ser = pd.Series(age_lst)\n",
    "age_ser"
   ]
  },
  {
   "cell_type": "code",
   "execution_count": null,
   "id": "05376151",
   "metadata": {},
   "outputs": [],
   "source": [
    "# Tạo series từ list với index tường minh\n",
    "age_ser = pd.Series([25,27,24,28,25,27,np.nan], \n",
    "                    index = ['em1', 'em2', 'em3', 'em4', 'em5', 'em6', 'em7'])\n",
    "age_ser"
   ]
  },
  {
   "cell_type": "code",
   "execution_count": null,
   "id": "847b18d0",
   "metadata": {},
   "outputs": [],
   "source": [
    "age_ser.mode()"
   ]
  },
  {
   "cell_type": "code",
   "execution_count": null,
   "id": "dd05a9b6",
   "metadata": {},
   "outputs": [],
   "source": [
    "age_ser.value_counts()"
   ]
  },
  {
   "cell_type": "markdown",
   "id": "2eb89689",
   "metadata": {},
   "source": [
    "## Thuộc tính"
   ]
  },
  {
   "cell_type": "code",
   "execution_count": null,
   "id": "582d86d9",
   "metadata": {},
   "outputs": [],
   "source": [
    "age_ser.size # cho biết số phần tử trong series"
   ]
  },
  {
   "cell_type": "code",
   "execution_count": null,
   "id": "bb4c6f9e",
   "metadata": {},
   "outputs": [],
   "source": [
    "age_ser.shape # cho biết số chiều và số phần tử của series"
   ]
  },
  {
   "cell_type": "code",
   "execution_count": null,
   "id": "f94f1640",
   "metadata": {},
   "outputs": [],
   "source": [
    "age_ser.index # cho biết các index của series"
   ]
  },
  {
   "cell_type": "code",
   "execution_count": null,
   "id": "42c3e693",
   "metadata": {},
   "outputs": [],
   "source": [
    "age_ser.values # cho biết các values của series"
   ]
  },
  {
   "cell_type": "code",
   "execution_count": null,
   "id": "373352e4",
   "metadata": {},
   "outputs": [],
   "source": [
    "age_ser.dtype # cho biết kiểu dữ liệu của các phần tử trong series"
   ]
  },
  {
   "cell_type": "markdown",
   "id": "e544c0e0",
   "metadata": {},
   "source": [
    "## Phương thức"
   ]
  },
  {
   "cell_type": "code",
   "execution_count": null,
   "id": "8ca159ea",
   "metadata": {},
   "outputs": [],
   "source": [
    "age_ser.info() # thông tin info()"
   ]
  },
  {
   "cell_type": "code",
   "execution_count": null,
   "id": "4affc11d",
   "metadata": {},
   "outputs": [],
   "source": [
    "age_ser.head() # 5 phần tử đầu"
   ]
  },
  {
   "cell_type": "code",
   "execution_count": null,
   "id": "59d81df6",
   "metadata": {},
   "outputs": [],
   "source": [
    "age_ser.tail() # 5 phần tử cuối"
   ]
  },
  {
   "cell_type": "code",
   "execution_count": null,
   "id": "69f63d9f",
   "metadata": {},
   "outputs": [],
   "source": [
    "age_ser.head(3) # 3 phần tử đầu"
   ]
  },
  {
   "cell_type": "code",
   "execution_count": null,
   "id": "080193a2",
   "metadata": {},
   "outputs": [],
   "source": [
    "age_ser.tail(2)"
   ]
  },
  {
   "cell_type": "code",
   "execution_count": null,
   "id": "ca5fb9d2",
   "metadata": {},
   "outputs": [],
   "source": [
    "age_ser.describe() # Thông tin thống kê chung"
   ]
  },
  {
   "cell_type": "code",
   "execution_count": null,
   "id": "556aae84",
   "metadata": {},
   "outputs": [],
   "source": [
    "age_ser.std()"
   ]
  },
  {
   "cell_type": "code",
   "execution_count": null,
   "id": "82838aae",
   "metadata": {},
   "outputs": [],
   "source": [
    "age_ser.mean()"
   ]
  },
  {
   "cell_type": "markdown",
   "id": "mature-carroll",
   "metadata": {},
   "source": [
    "## Truy xuất\n",
    "#### Truy xuất 1 phần tử"
   ]
  },
  {
   "cell_type": "code",
   "execution_count": null,
   "id": "471ebec8",
   "metadata": {},
   "outputs": [],
   "source": [
    "# label => index tường minh\n",
    "# index => 2 index ngầm định\n",
    "# tenseries.loc[label]\n",
    "# tenseries.iloc[index]"
   ]
  },
  {
   "cell_type": "code",
   "execution_count": null,
   "id": "5fb97ab9",
   "metadata": {},
   "outputs": [],
   "source": [
    "age_ser = pd.Series([25,27,24,28,30,27,24], \n",
    "                    index = ['em3', 'em2', 'em1', 'em4', 'em7', 'em6', 'em5'])\n",
    "age_ser"
   ]
  },
  {
   "cell_type": "code",
   "execution_count": null,
   "id": "b9850520",
   "metadata": {},
   "outputs": [],
   "source": [
    "# tuổi của nhân viên em3\n",
    "age_ser.loc['em3']"
   ]
  },
  {
   "cell_type": "code",
   "execution_count": null,
   "id": "6635d003",
   "metadata": {},
   "outputs": [],
   "source": [
    "age_ser.iloc[2] "
   ]
  },
  {
   "cell_type": "code",
   "execution_count": null,
   "id": "1cbcd5a0",
   "metadata": {},
   "outputs": [],
   "source": [
    "age_ser.iloc[-5]"
   ]
  },
  {
   "cell_type": "code",
   "execution_count": null,
   "id": "9df24178",
   "metadata": {},
   "outputs": [],
   "source": [
    "# tuổi của nhân viên cuối cùng\n",
    "age_ser.iloc[-1]"
   ]
  },
  {
   "cell_type": "code",
   "execution_count": null,
   "id": "e655bbb2",
   "metadata": {},
   "outputs": [],
   "source": [
    "# tuổi của nhân viên đầu tiên\n",
    "age_ser.iloc[0]"
   ]
  },
  {
   "cell_type": "code",
   "execution_count": null,
   "id": "d322dba0",
   "metadata": {},
   "outputs": [],
   "source": [
    "# tuổi của nhân viên ở index 3\n",
    "age_ser.iloc[3]"
   ]
  },
  {
   "cell_type": "code",
   "execution_count": null,
   "id": "e58cf234",
   "metadata": {},
   "outputs": [],
   "source": [
    "# Truy xuất 1 pt trực tiếp\n",
    "# tenseries[label]\n",
    "# tenseries[index] => label là chuỗi"
   ]
  },
  {
   "cell_type": "code",
   "execution_count": null,
   "id": "0dd854cb",
   "metadata": {},
   "outputs": [],
   "source": [
    "age_ser"
   ]
  },
  {
   "cell_type": "code",
   "execution_count": null,
   "id": "50331f24",
   "metadata": {},
   "outputs": [],
   "source": [
    "# tuổi của nhân viên em1\n",
    "age_ser['em1']"
   ]
  },
  {
   "cell_type": "code",
   "execution_count": null,
   "id": "3a4fb5d1",
   "metadata": {},
   "outputs": [],
   "source": [
    "# tuổi của nhân viên em4\n",
    "age_ser[-4]"
   ]
  },
  {
   "cell_type": "code",
   "execution_count": null,
   "id": "08cb5a31",
   "metadata": {},
   "outputs": [],
   "source": [
    "# lưu ý với ser có label là số (khác zero_based index)\n",
    "lst = ['a','b','c','d']\n",
    "s1 = pd.Series(lst,index=[1,2,3,4])\n",
    "s1"
   ]
  },
  {
   "cell_type": "markdown",
   "id": "26f33c43",
   "metadata": {},
   "source": [
    "#### Truy xuất nhiều phần tử"
   ]
  },
  {
   "cell_type": "code",
   "execution_count": null,
   "id": "a45589be",
   "metadata": {},
   "outputs": [],
   "source": [
    "# tenseries.loc[danh sách label]\n",
    "# tenseries.loc[start : stop](bao gồm stop)\n",
    "# tenseries.iloc[start : stop(-1) : step] => có quy tắc\n",
    "# tenseries.iloc[danh sách index] => không quy tắc"
   ]
  },
  {
   "cell_type": "code",
   "execution_count": null,
   "id": "9cbb14a1",
   "metadata": {},
   "outputs": [],
   "source": [
    "age_ser"
   ]
  },
  {
   "cell_type": "code",
   "execution_count": null,
   "id": "92a58145",
   "metadata": {},
   "outputs": [],
   "source": [
    "age_ser.loc[['em1','em3']] # tuổi của nv em1, em3"
   ]
  },
  {
   "cell_type": "code",
   "execution_count": null,
   "id": "83e99edc",
   "metadata": {},
   "outputs": [],
   "source": [
    "age_ser.loc['em1':'em7'] # tuổi của nv từ em1 đến em7"
   ]
  },
  {
   "cell_type": "code",
   "execution_count": null,
   "id": "fe4cc8c6",
   "metadata": {},
   "outputs": [],
   "source": [
    "age_ser.loc['em3':'em1']"
   ]
  },
  {
   "cell_type": "code",
   "execution_count": null,
   "id": "baa6bfc7",
   "metadata": {},
   "outputs": [],
   "source": [
    "age_ser.loc['em1':'em6']"
   ]
  },
  {
   "cell_type": "code",
   "execution_count": null,
   "id": "ac8677c2",
   "metadata": {},
   "outputs": [],
   "source": [
    "age_ser.iloc[1:3] # tuổi của nv ở index 1,2"
   ]
  },
  {
   "cell_type": "code",
   "execution_count": null,
   "id": "88d336c0",
   "metadata": {},
   "outputs": [],
   "source": [
    "age_ser.iloc[[0,1,4]] # tuổi của nv ở index 0,1,4"
   ]
  },
  {
   "cell_type": "code",
   "execution_count": null,
   "id": "77c84611",
   "metadata": {},
   "outputs": [],
   "source": [
    "# Truy xuất nhiều pt trực tiếp\n",
    "# tenseries[danh sách label]\n",
    "# tenseries[start:stop]\n",
    "# tenseries[danh sách index] \n",
    "# tenseries[start:stop:step] "
   ]
  },
  {
   "cell_type": "code",
   "execution_count": null,
   "id": "2fa83877",
   "metadata": {},
   "outputs": [],
   "source": [
    "age_ser"
   ]
  },
  {
   "cell_type": "code",
   "execution_count": null,
   "id": "c3cf3ecf",
   "metadata": {},
   "outputs": [],
   "source": [
    "age_ser[1:3]"
   ]
  },
  {
   "cell_type": "code",
   "execution_count": null,
   "id": "8af1a649",
   "metadata": {},
   "outputs": [],
   "source": [
    "age_ser[[0,2,3]]"
   ]
  },
  {
   "cell_type": "code",
   "execution_count": null,
   "id": "0a2a3a44",
   "metadata": {},
   "outputs": [],
   "source": [
    "age_ser[['em3','em4']]"
   ]
  },
  {
   "cell_type": "code",
   "execution_count": null,
   "id": "8c948b11",
   "metadata": {},
   "outputs": [],
   "source": [
    "age_ser['em4':'em5']"
   ]
  },
  {
   "cell_type": "markdown",
   "id": "7b1f5090",
   "metadata": {},
   "source": [
    "#### Truy xuất theo điều kiện"
   ]
  },
  {
   "cell_type": "code",
   "execution_count": null,
   "id": "29d95798",
   "metadata": {},
   "outputs": [],
   "source": [
    "age_ser"
   ]
  },
  {
   "cell_type": "code",
   "execution_count": null,
   "id": "6f440c73",
   "metadata": {},
   "outputs": [],
   "source": [
    "age_ser>25"
   ]
  },
  {
   "cell_type": "code",
   "execution_count": null,
   "id": "e3c06b1d",
   "metadata": {},
   "outputs": [],
   "source": [
    "age_ser[age_ser>25]"
   ]
  },
  {
   "cell_type": "code",
   "execution_count": null,
   "id": "a7f393f2",
   "metadata": {},
   "outputs": [],
   "source": [
    "# Tuổi của các nhân viên > 25 và < 30 tuổi\n",
    "age_ser[(age_ser>25) & (age_ser<30)] # and"
   ]
  },
  {
   "cell_type": "code",
   "execution_count": null,
   "id": "3c11c1ed",
   "metadata": {},
   "outputs": [],
   "source": [
    "# Tuổi của các nhân viên dưới 25 hoặc trên 30 tuổi\n",
    "age_ser[(age_ser<25) | (age_ser>=30)] # or"
   ]
  },
  {
   "cell_type": "code",
   "execution_count": null,
   "id": "58cd70b2",
   "metadata": {},
   "outputs": [],
   "source": [
    "age_ser[~(age_ser>25)]"
   ]
  },
  {
   "cell_type": "markdown",
   "id": "424362e4",
   "metadata": {},
   "source": [
    "## Xử lý dữ liệu trùng"
   ]
  },
  {
   "cell_type": "code",
   "execution_count": null,
   "id": "3c041886",
   "metadata": {},
   "outputs": [],
   "source": [
    "# phone_ser lưu số điện thoại của nhân viên\n",
    "phone_ser = pd.Series(['0912846759', '0914963258', '0978254361', '0335469512', '0914963258','0914963258', '0914963258'])\n",
    "# phone_ser lưu số điện thoại của nhân viên\n",
    "phone_ser"
   ]
  },
  {
   "cell_type": "code",
   "execution_count": null,
   "id": "c8b69c2d",
   "metadata": {},
   "outputs": [],
   "source": [
    "# phát hiện trùng\n",
    "phone_ser.duplicated() # mặc định keep=first"
   ]
  },
  {
   "cell_type": "code",
   "execution_count": null,
   "id": "782b9a3c",
   "metadata": {},
   "outputs": [],
   "source": [
    "phone_ser.duplicated(keep='last')"
   ]
  },
  {
   "cell_type": "code",
   "execution_count": null,
   "id": "5f5b7d2e",
   "metadata": {},
   "outputs": [],
   "source": [
    "phone_ser.duplicated(keep=False)"
   ]
  },
  {
   "cell_type": "code",
   "execution_count": null,
   "id": "9674aca4",
   "metadata": {},
   "outputs": [],
   "source": [
    "phone_ser.drop_duplicates(inplace=True)"
   ]
  },
  {
   "cell_type": "code",
   "execution_count": null,
   "id": "c0204856",
   "metadata": {},
   "outputs": [],
   "source": [
    "phone_ser"
   ]
  },
  {
   "cell_type": "code",
   "execution_count": null,
   "id": "19395ec1",
   "metadata": {},
   "outputs": [],
   "source": [
    "phone_ser.drop_duplicates(keep='last')"
   ]
  },
  {
   "cell_type": "code",
   "execution_count": null,
   "id": "333c36d3",
   "metadata": {},
   "outputs": [],
   "source": [
    "# xóa dữ liệu trùng\n",
    "phone_ser.drop_duplicates(keep=False) # keep: first, last, False"
   ]
  },
  {
   "cell_type": "code",
   "execution_count": null,
   "id": "faa815b7",
   "metadata": {},
   "outputs": [],
   "source": [
    "phone_ser"
   ]
  },
  {
   "cell_type": "code",
   "execution_count": null,
   "id": "6e8a1c34",
   "metadata": {},
   "outputs": [],
   "source": [
    "phone_ser.drop_duplicates(keep=False,inplace=True)"
   ]
  },
  {
   "cell_type": "code",
   "execution_count": null,
   "id": "69c160f1",
   "metadata": {},
   "outputs": [],
   "source": [
    "phone_ser"
   ]
  },
  {
   "cell_type": "code",
   "execution_count": null,
   "id": "7318c2d5",
   "metadata": {},
   "outputs": [],
   "source": []
  }
 ],
 "metadata": {
  "kernelspec": {
   "display_name": "Python 3 (ipykernel)",
   "language": "python",
   "name": "python3"
  },
  "language_info": {
   "codemirror_mode": {
    "name": "ipython",
    "version": 3
   },
   "file_extension": ".py",
   "mimetype": "text/x-python",
   "name": "python",
   "nbconvert_exporter": "python",
   "pygments_lexer": "ipython3",
   "version": "3.12.7"
  }
 },
 "nbformat": 4,
 "nbformat_minor": 5
}
