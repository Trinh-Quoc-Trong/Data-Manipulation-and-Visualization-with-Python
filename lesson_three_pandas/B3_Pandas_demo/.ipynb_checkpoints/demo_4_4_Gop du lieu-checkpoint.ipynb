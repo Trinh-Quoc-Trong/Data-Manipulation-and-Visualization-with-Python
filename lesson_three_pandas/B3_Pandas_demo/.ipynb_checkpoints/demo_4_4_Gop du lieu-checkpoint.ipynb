{
 "cells": [
  {
   "cell_type": "code",
   "execution_count": null,
   "id": "61d30ce7",
   "metadata": {},
   "outputs": [],
   "source": [
    "import numpy as np\n",
    "import pandas as pd"
   ]
  },
  {
   "cell_type": "code",
   "execution_count": null,
   "id": "a587c9fd",
   "metadata": {},
   "outputs": [],
   "source": [
    "# Gộp các dataframe có cột giống nhau"
   ]
  },
  {
   "cell_type": "code",
   "execution_count": null,
   "id": "8cf80bd3",
   "metadata": {},
   "outputs": [],
   "source": [
    "df_1 = pd.DataFrame({'name':['Tom','Alice','Bill'], 'age':[23,25,26]})\n",
    "df_2 = pd.DataFrame({'name':['Jack','Mike'], 'age':[21,23]})"
   ]
  },
  {
   "cell_type": "code",
   "execution_count": null,
   "id": "8a23b4dc",
   "metadata": {},
   "outputs": [],
   "source": [
    "df_1"
   ]
  },
  {
   "cell_type": "code",
   "execution_count": null,
   "id": "8bc77216",
   "metadata": {},
   "outputs": [],
   "source": [
    "df_2"
   ]
  },
  {
   "cell_type": "code",
   "execution_count": null,
   "id": "88349fe9",
   "metadata": {},
   "outputs": [],
   "source": [
    "pd.concat([df_1, df_2]) "
   ]
  },
  {
   "cell_type": "code",
   "execution_count": null,
   "id": "833a465c",
   "metadata": {},
   "outputs": [],
   "source": [
    "# mặc định axis=0\n",
    "df = pd.concat([df_1, df_2],ignore_index=True) \n",
    "df"
   ]
  },
  {
   "cell_type": "code",
   "execution_count": null,
   "id": "95c4dd46",
   "metadata": {},
   "outputs": [],
   "source": [
    "# Gộp các dataframe có cột khác nhau"
   ]
  },
  {
   "cell_type": "code",
   "execution_count": null,
   "id": "disabled-snowboard",
   "metadata": {},
   "outputs": [],
   "source": [
    "df_1 = pd.DataFrame({'name':['Tom','Alice','Bill'], 'age':[np.nan,25,26], 'salary':[1000,1200,1500]})\n",
    "df_2 = pd.DataFrame({'name':['Jack','Mike'], 'age':[21,23], 'sex':['male','male']})"
   ]
  },
  {
   "cell_type": "code",
   "execution_count": null,
   "id": "modular-banana",
   "metadata": {},
   "outputs": [],
   "source": [
    "df_1"
   ]
  },
  {
   "cell_type": "code",
   "execution_count": null,
   "id": "timely-marijuana",
   "metadata": {},
   "outputs": [],
   "source": [
    "df_2"
   ]
  },
  {
   "cell_type": "code",
   "execution_count": null,
   "id": "written-break",
   "metadata": {},
   "outputs": [],
   "source": [
    "df = pd.concat([df_1, df_2], ignore_index=True,join='outer') \n",
    "df"
   ]
  },
  {
   "cell_type": "code",
   "execution_count": null,
   "id": "1ef814e1",
   "metadata": {},
   "outputs": [],
   "source": [
    "df = pd.concat([df_1, df_2], ignore_index=True,join='inner') \n",
    "df"
   ]
  },
  {
   "cell_type": "code",
   "execution_count": null,
   "id": "4ec017cf",
   "metadata": {},
   "outputs": [],
   "source": [
    "# Gộp các dataframe theo cột"
   ]
  },
  {
   "cell_type": "code",
   "execution_count": null,
   "id": "282748ea",
   "metadata": {},
   "outputs": [],
   "source": [
    "df_1 = pd.DataFrame({'name':['Tom','Alice','Bill'], 'age':[23,np.nan,26]})\n",
    "df_2 = pd.DataFrame({'sex':['male','female'], 'salary':[1000,1200]})"
   ]
  },
  {
   "cell_type": "code",
   "execution_count": null,
   "id": "sitting-vegetarian",
   "metadata": {},
   "outputs": [],
   "source": [
    "df_1"
   ]
  },
  {
   "cell_type": "code",
   "execution_count": null,
   "id": "artificial-terrorism",
   "metadata": {},
   "outputs": [],
   "source": [
    "df_2"
   ]
  },
  {
   "cell_type": "code",
   "execution_count": null,
   "id": "0b975995",
   "metadata": {},
   "outputs": [],
   "source": [
    "df = pd.concat([df_1, df_2], axis=1, join='outer') \n",
    "df"
   ]
  },
  {
   "cell_type": "code",
   "execution_count": null,
   "id": "nuclear-observer",
   "metadata": {},
   "outputs": [],
   "source": [
    "df = pd.concat([df_1, df_2], axis=1, join='inner') \n",
    "df"
   ]
  },
  {
   "cell_type": "code",
   "execution_count": null,
   "id": "60a49699",
   "metadata": {},
   "outputs": [],
   "source": [
    "# pandas.merge()\n",
    "# Kết hợp 2 dataframe có cột chung\n",
    "df_1 = pd.DataFrame({'name':['Tom','Alice','Bill'], 'age':[23,np.nan,26]})\n",
    "df_2 = pd.DataFrame({'name':['Alice','Tom'], 'sex':['male','female'], 'salary':[1000,1200]})"
   ]
  },
  {
   "cell_type": "code",
   "execution_count": null,
   "id": "expanded-underground",
   "metadata": {},
   "outputs": [],
   "source": [
    "df_1"
   ]
  },
  {
   "cell_type": "code",
   "execution_count": null,
   "id": "tutorial-latex",
   "metadata": {},
   "outputs": [],
   "source": [
    "df_2"
   ]
  },
  {
   "cell_type": "code",
   "execution_count": null,
   "id": "isolated-meter",
   "metadata": {},
   "outputs": [],
   "source": [
    "df = pd.merge(df_1, df_2,how='inner') # key: name\n",
    "df"
   ]
  },
  {
   "cell_type": "code",
   "execution_count": null,
   "id": "4902a175",
   "metadata": {},
   "outputs": [],
   "source": [
    "df = pd.merge(df_1, df_2,how='outer') # key: name\n",
    "df"
   ]
  },
  {
   "cell_type": "code",
   "execution_count": null,
   "id": "42b981a8",
   "metadata": {},
   "outputs": [],
   "source": [
    "# Kết hợp hai dataframe có tên cột khác nhau\n",
    "df_dep = pd.DataFrame({'depid':[1,2,3], 'depname':['IT','Sales','HR']})\n",
    "df_emp = pd.DataFrame({'id':[100,101,102,103], 'name':['Mike', 'King', 'Billy','Jack'], 'department_id':[1,2,1,np.nan]})"
   ]
  },
  {
   "cell_type": "code",
   "execution_count": null,
   "id": "biblical-classic",
   "metadata": {},
   "outputs": [],
   "source": [
    "df_emp"
   ]
  },
  {
   "cell_type": "code",
   "execution_count": null,
   "id": "manual-activation",
   "metadata": {},
   "outputs": [],
   "source": [
    "df_dep"
   ]
  },
  {
   "cell_type": "code",
   "execution_count": null,
   "id": "e399ac9b",
   "metadata": {},
   "outputs": [],
   "source": [
    "df = pd.merge(df_emp, df_dep, left_on='department_id', right_on='depid',how='inner')\n",
    "df"
   ]
  },
  {
   "cell_type": "code",
   "execution_count": null,
   "id": "c730550f",
   "metadata": {},
   "outputs": [],
   "source": [
    "df = pd.merge(df_emp, df_dep, left_on='department_id', right_on='depid',how='outer')\n",
    "df"
   ]
  },
  {
   "cell_type": "code",
   "execution_count": null,
   "id": "ecca5052",
   "metadata": {},
   "outputs": [],
   "source": [
    "# Kết hợp hai dataframe với Left join\n",
    "df_dep = pd.DataFrame({'depid':[1,2,3], 'depname':['IT','Sales','HR']})\n",
    "df_emp = pd.DataFrame({'id':[100,101,102,103], 'name':['Mike', 'King', 'Billy','Jack'], 'depid':[1,2,1,np.nan]})"
   ]
  },
  {
   "cell_type": "code",
   "execution_count": null,
   "id": "78550ebd",
   "metadata": {},
   "outputs": [],
   "source": [
    "df_emp"
   ]
  },
  {
   "cell_type": "code",
   "execution_count": null,
   "id": "f29f40a8",
   "metadata": {},
   "outputs": [],
   "source": [
    "df_dep"
   ]
  },
  {
   "cell_type": "code",
   "execution_count": null,
   "id": "finnish-wednesday",
   "metadata": {},
   "outputs": [],
   "source": [
    "df = pd.merge(df_emp, df_dep, how='left')\n",
    "df"
   ]
  },
  {
   "cell_type": "code",
   "execution_count": null,
   "id": "75264320",
   "metadata": {
    "scrolled": true
   },
   "outputs": [],
   "source": [
    "df = pd.merge(df_emp, df_dep, how='right')\n",
    "df"
   ]
  },
  {
   "cell_type": "code",
   "execution_count": null,
   "id": "a600c313",
   "metadata": {},
   "outputs": [],
   "source": []
  }
 ],
 "metadata": {
  "kernelspec": {
   "display_name": "Python 3 (ipykernel)",
   "language": "python",
   "name": "python3"
  },
  "language_info": {
   "codemirror_mode": {
    "name": "ipython",
    "version": 3
   },
   "file_extension": ".py",
   "mimetype": "text/x-python",
   "name": "python",
   "nbconvert_exporter": "python",
   "pygments_lexer": "ipython3",
   "version": "3.12.6"
  }
 },
 "nbformat": 4,
 "nbformat_minor": 5
}
