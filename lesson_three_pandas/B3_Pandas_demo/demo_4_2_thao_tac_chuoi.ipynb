{
 "cells": [
  {
   "cell_type": "code",
   "execution_count": null,
   "id": "0fb3bc54",
   "metadata": {},
   "outputs": [],
   "source": [
    "import numpy as np\n",
    "import pandas as pd\n",
    "import re"
   ]
  },
  {
   "cell_type": "code",
   "execution_count": null,
   "id": "85eff3c4",
   "metadata": {},
   "outputs": [],
   "source": [
    "# đọc dữ liệu employees_astyle.csv (đã chuyển kiểu dữ liệu)\n",
    "emp_df = pd.read_csv('data/employees_astyle.csv')\n",
    "emp_df.head()"
   ]
  },
  {
   "cell_type": "code",
   "execution_count": null,
   "id": "40ec6f06",
   "metadata": {},
   "outputs": [],
   "source": [
    "# Tìm chuỗi con bắt đầu: dùng df[“Tên_cột”].str.startswith(“chuoi_con”)"
   ]
  },
  {
   "cell_type": "code",
   "execution_count": null,
   "id": "e157f5ee",
   "metadata": {},
   "outputs": [],
   "source": [
    "emp_df['JOB_ID'].str.startswith('AC')"
   ]
  },
  {
   "cell_type": "code",
   "execution_count": null,
   "id": "f1c6f084",
   "metadata": {},
   "outputs": [],
   "source": [
    "# Tìm nhân viên có JOB_ID bắt đầu là “AC” (Phòng Kế toán)\n",
    "emp_df[emp_df['JOB_ID'].str.startswith('AC')]"
   ]
  },
  {
   "cell_type": "code",
   "execution_count": null,
   "id": "e227e2b5",
   "metadata": {},
   "outputs": [],
   "source": [
    "emp_df.loc[emp_df['JOB_ID'].str.startswith('AC'),['FIRST_NAME','LAST_NAME']]"
   ]
  },
  {
   "cell_type": "code",
   "execution_count": null,
   "id": "b830d6af",
   "metadata": {},
   "outputs": [],
   "source": [
    "emp_df['JOB_ID'].str.contains('REP')"
   ]
  },
  {
   "cell_type": "code",
   "execution_count": null,
   "id": "285b08d7",
   "metadata": {},
   "outputs": [],
   "source": [
    "# Tìm nhân viên có JOB_ID chứa “REP” (Representative)\n",
    "emp_df[emp_df['JOB_ID'].str.contains('REP')]"
   ]
  },
  {
   "cell_type": "code",
   "execution_count": null,
   "id": "ee398623",
   "metadata": {},
   "outputs": [],
   "source": [
    "emp_df['EMAIL'].str.lower()"
   ]
  },
  {
   "cell_type": "code",
   "execution_count": null,
   "id": "2fb69a5d",
   "metadata": {},
   "outputs": [],
   "source": [
    "# Đổi cột EMAIL thành chữ thường\n",
    "emp_df['EMAIL'] = emp_df['EMAIL'].str.lower()\n",
    "emp_df.head()"
   ]
  },
  {
   "cell_type": "code",
   "execution_count": null,
   "id": "625936c8",
   "metadata": {},
   "outputs": [],
   "source": [
    "emp_df['JOB_ID'].str.split('_')"
   ]
  },
  {
   "cell_type": "code",
   "execution_count": null,
   "id": "236a888a",
   "metadata": {},
   "outputs": [],
   "source": [
    "# Tìm các last_name có chứa chữ q hoặc x\n",
    "f = open('data/last_names.txt')\n",
    "for line in f:\n",
    "    regex = '[qx]'\n",
    "    if re.search(regex, line):\n",
    "        print(line, end = '')\n",
    "f.close()"
   ]
  },
  {
   "cell_type": "code",
   "execution_count": null,
   "id": "0d3f24b8",
   "metadata": {},
   "outputs": [],
   "source": [
    "# Tìm các last_name bắt đầu với Barn\n",
    "f = open('data/last_names.txt')\n",
    "for line in f:\n",
    "    regex = '^Va[rs]'\n",
    "    if re.search(regex, line):\n",
    "        print(line, end = '')\n",
    "f.close()"
   ]
  },
  {
   "cell_type": "code",
   "execution_count": null,
   "id": "805fb57f",
   "metadata": {},
   "outputs": [],
   "source": [
    "# Tìm các last_name có 5 ký tự, bắt đầu với M và kêt thúc là in\n",
    "f = open('data/last_names.txt')\n",
    "for line in f:\n",
    "    regex = '^...in$'\n",
    "    if re.search(regex, line):\n",
    "        print(line, end = '')\n",
    "f.close()"
   ]
  },
  {
   "cell_type": "code",
   "execution_count": null,
   "id": "2852fd2c",
   "metadata": {},
   "outputs": [],
   "source": [
    "text = \"\"\"Lương nhân viên theo đơn vị tiền tệ Euro là 800€, 1000€, 1500€, 1200€, 960€, 786€.\n",
    "Chuyển đổi sang Dollar sẽ là 848$, 1060$, 1590$, 1272.$, 1017.6$, 833.16$\"\"\""
   ]
  },
  {
   "cell_type": "code",
   "execution_count": null,
   "id": "fc123bc5",
   "metadata": {},
   "outputs": [],
   "source": [
    "pattern = '[0-9]+\\.?\\d*\\W'\n",
    "\n",
    "print(re.findall(pattern, text))"
   ]
  },
  {
   "cell_type": "code",
   "execution_count": null,
   "id": "1ef521b1",
   "metadata": {},
   "outputs": [],
   "source": [
    "pattern = '\\d+\\.?\\d+[€$]'\n",
    "\n",
    "print(re.findall(pattern, text))"
   ]
  },
  {
   "cell_type": "code",
   "execution_count": null,
   "id": "599598fc",
   "metadata": {},
   "outputs": [],
   "source": [
    "pattern = '\\d{1,}\\.{0,1}\\d+[€$]'\n",
    "\n",
    "print(re.findall(pattern, text))"
   ]
  },
  {
   "cell_type": "code",
   "execution_count": null,
   "id": "04d18686",
   "metadata": {},
   "outputs": [],
   "source": [
    "# Lấy ra tất cả lương theo Euro và theo Dollar (bao gồm cả ký hiệu tiền tệ)\n",
    "pattern = '\\d+\\.?\\d*\\W'\n",
    "\n",
    "print(re.findall(pattern, text))"
   ]
  },
  {
   "cell_type": "code",
   "execution_count": null,
   "id": "2967d9fa",
   "metadata": {},
   "outputs": [],
   "source": [
    "# tạo pattern cho user name từ 3 đến 16 ký tự. \n",
    "# Nó chỉ có thể bao gồm các ký tự số và chữ (không có chữ in hoa),\n",
    "# dấu gạch ngang và dấu gạch dưới"
   ]
  },
  {
   "cell_type": "code",
   "execution_count": null,
   "id": "aa85b297",
   "metadata": {},
   "outputs": [],
   "source": [
    "p = '^[a-z0-9_-]{3,16}$'"
   ]
  },
  {
   "cell_type": "code",
   "execution_count": null,
   "id": "d8daffce",
   "metadata": {},
   "outputs": [],
   "source": [
    "# Kiểm tra user name có thỏa mãn yêu cầu hay không\n",
    "print(bool(re.match(p, 'alice_20-03-05')))"
   ]
  },
  {
   "cell_type": "code",
   "execution_count": null,
   "id": "5bc6e274",
   "metadata": {},
   "outputs": [],
   "source": [
    "print(bool(re.match(p, 'ali')))"
   ]
  },
  {
   "cell_type": "code",
   "execution_count": null,
   "id": "f1aa478c",
   "metadata": {},
   "outputs": [],
   "source": [
    "print(bool(re.match(p, 'samantha@1996')))"
   ]
  },
  {
   "cell_type": "code",
   "execution_count": null,
   "id": "a88682eb",
   "metadata": {},
   "outputs": [],
   "source": [
    "text = \"The winners are: User9, UserN, User8. The prize is $3000.\"\n",
    "# Tìm tất cả User có mã user là số\n",
    "re.findall(\"User\\d\", text)"
   ]
  },
  {
   "cell_type": "code",
   "execution_count": null,
   "id": "ba4f4527",
   "metadata": {},
   "outputs": [],
   "source": [
    "# Tìm tất cả User có mã user không phải là số\n",
    "re.findall(\"User\\D\", text)"
   ]
  },
  {
   "cell_type": "code",
   "execution_count": null,
   "id": "c414c4b6",
   "metadata": {},
   "outputs": [],
   "source": [
    "# Tìm tất cả User có mã user là số hoặc chữ\n",
    "re.findall(\"User\\w\", text)"
   ]
  },
  {
   "cell_type": "code",
   "execution_count": null,
   "id": "91f09b95",
   "metadata": {},
   "outputs": [],
   "source": [
    "# Tìm tiền thưởng (bao gồm cả ký hiệu tiền tệ)\n",
    "re.findall(\"\\W\\d+\", text)"
   ]
  },
  {
   "cell_type": "code",
   "execution_count": null,
   "id": "9749d0d8",
   "metadata": {},
   "outputs": [],
   "source": [
    "text"
   ]
  },
  {
   "cell_type": "code",
   "execution_count": null,
   "id": "f64f1356",
   "metadata": {},
   "outputs": [],
   "source": [
    "# Tách chuỗi dựa trên dấu câu và khoảng trắng\n",
    "re.split(\"\\W\\s\", text)"
   ]
  },
  {
   "cell_type": "code",
   "execution_count": null,
   "id": "0f4458cc",
   "metadata": {},
   "outputs": [],
   "source": [
    "# split\n",
    "order_id = '20230209-TT*CV#0001'\n",
    "re.split('\\W', order_id)"
   ]
  },
  {
   "cell_type": "code",
   "execution_count": null,
   "id": "45011eb6",
   "metadata": {},
   "outputs": [],
   "source": [
    "order = pd.DataFrame(['20230209-TT*CV#0001', '20230208-DT*LT#0010'],\n",
    "                     columns=['order_id'])\n",
    "order"
   ]
  },
  {
   "cell_type": "code",
   "execution_count": null,
   "id": "c20262d2",
   "metadata": {},
   "outputs": [],
   "source": [
    "order['order_id'].str.split('\\W',expand=True)"
   ]
  },
  {
   "cell_type": "code",
   "execution_count": null,
   "id": "465ff64f",
   "metadata": {},
   "outputs": [],
   "source": [
    "order[['order_date', 'category', 'product', 'item']] = order['order_id'].str.split('\\W', expand=True)\n",
    "order"
   ]
  },
  {
   "cell_type": "code",
   "execution_count": null,
   "id": "be7301d7",
   "metadata": {},
   "outputs": [],
   "source": [
    "order['order_id'].str.extract('(\\d+)-([A-Z]+)\\W(\\w+)#(\\d+)')"
   ]
  },
  {
   "cell_type": "code",
   "execution_count": null,
   "id": "89df5a51",
   "metadata": {},
   "outputs": [],
   "source": [
    "order['order_id'].str.extract('(\\w+)\\W(\\w+)\\W(\\w+)\\W(\\w+)')"
   ]
  },
  {
   "cell_type": "code",
   "execution_count": null,
   "id": "e228134e",
   "metadata": {},
   "outputs": [],
   "source": [
    "# cách khác\n",
    "order[['order_date', 'category', 'product', 'item']] = order['order_id'].str.extract('(\\w+)\\W(\\w+)\\W(\\w+)\\W(\\w+)')\n",
    "order"
   ]
  },
  {
   "cell_type": "code",
   "execution_count": null,
   "id": "8ba2a33e",
   "metadata": {},
   "outputs": [],
   "source": [
    "# thay thế\n",
    "price = '$40,000'\n",
    "price = int(re.sub('\\D+', '', price))\n",
    "price"
   ]
  },
  {
   "cell_type": "code",
   "execution_count": null,
   "id": "2afa8b34",
   "metadata": {},
   "outputs": [],
   "source": [
    "df = pd.DataFrame(['$40,000*','$40000 conditions attached'], columns=['Price'])\n",
    "df"
   ]
  },
  {
   "cell_type": "code",
   "execution_count": null,
   "id": "67f415b8",
   "metadata": {},
   "outputs": [],
   "source": [
    "df['Price'].str.replace('\\D+', '', regex=True)"
   ]
  },
  {
   "cell_type": "code",
   "execution_count": null,
   "id": "theoretical-tribe",
   "metadata": {},
   "outputs": [],
   "source": [
    "df['Price'] = df['Price'].str.replace('\\D+', '', regex=True).astype('int')\n",
    "df"
   ]
  },
  {
   "cell_type": "code",
   "execution_count": null,
   "id": "initial-destination",
   "metadata": {},
   "outputs": [],
   "source": [
    "# findall\n",
    "diem = 'toán: 10.0 văn: 6.25'\n",
    "re.findall('(\\d+\\.\\d+)', diem)"
   ]
  },
  {
   "cell_type": "code",
   "execution_count": null,
   "id": "6383a7e4",
   "metadata": {},
   "outputs": [],
   "source": [
    "diem_df = pd.DataFrame(['toán: 7.0 văn: 6.5', 'toán: 10.0 văn: 8.5', \n",
    "                  'toán: 9.5 văn: 7.0'], columns=['Điểm'])\n",
    "diem_df"
   ]
  },
  {
   "cell_type": "code",
   "execution_count": null,
   "id": "900ded8d",
   "metadata": {},
   "outputs": [],
   "source": [
    "diem_df['Điểm'].str.findall('(\\d+\\.\\d+)').to_list()"
   ]
  },
  {
   "cell_type": "code",
   "execution_count": null,
   "id": "11c8e4b5",
   "metadata": {},
   "outputs": [],
   "source": [
    "diem_df[['Toán', 'Văn']] = diem_df['Điểm'].str.findall('(\\d+\\.\\d+)').to_list()\n",
    "diem_df"
   ]
  },
  {
   "cell_type": "code",
   "execution_count": null,
   "id": "6e98e14d",
   "metadata": {},
   "outputs": [],
   "source": [
    "diem_df.dtypes"
   ]
  },
  {
   "cell_type": "code",
   "execution_count": null,
   "id": "78ec587f",
   "metadata": {},
   "outputs": [],
   "source": [
    "diem_df[['Toán', 'Văn']] = diem_df[['Toán', 'Văn']].astype(float)"
   ]
  },
  {
   "cell_type": "code",
   "execution_count": null,
   "id": "43a8ced7",
   "metadata": {},
   "outputs": [],
   "source": [
    "# cách khác\n",
    "diem_df[['toan', 'van']] = diem_df['Điểm'].str.extract('toán: (\\d+\\.\\d+) văn: (\\d+\\.\\d+)', expand=True)\n",
    "diem_df"
   ]
  },
  {
   "cell_type": "code",
   "execution_count": null,
   "id": "c93463e6",
   "metadata": {},
   "outputs": [],
   "source": [
    "diem_df.dtypes"
   ]
  },
  {
   "cell_type": "code",
   "execution_count": null,
   "id": "9d27a035",
   "metadata": {},
   "outputs": [],
   "source": [
    "diem_df.iloc[:,1:] = diem_df.iloc[:,1:].applymap(float)"
   ]
  },
  {
   "cell_type": "code",
   "execution_count": null,
   "id": "baa21e4a",
   "metadata": {},
   "outputs": [],
   "source": [
    "# search\n",
    "text = \"abc.pdf\"\n",
    "pattern = '^([a-z]+)\\.pdf$'  # Một pattern đơn giản để tìm các con số.\n",
    "\n",
    "print(re.search(pattern, text).group(1))\n"
   ]
  },
  {
   "cell_type": "code",
   "execution_count": null,
   "id": "dcf556fb",
   "metadata": {},
   "outputs": [],
   "source": [
    "data = {'Text': ['This is a sentence with 123 numbers.',\n",
    "                 'Python is a powerful programming language.',\n",
    "                 'Regular expressions are useful for text processing.',\n",
    "                 'Data science involves 456 data analysis.']}\n",
    "df = pd.DataFrame(data)\n",
    "\n",
    "df"
   ]
  },
  {
   "cell_type": "code",
   "execution_count": null,
   "id": "d436318a",
   "metadata": {},
   "outputs": [],
   "source": [
    "df['Text'].str.contains(pattern, regex=True)"
   ]
  },
  {
   "cell_type": "code",
   "execution_count": null,
   "id": "3a8ff4e1",
   "metadata": {},
   "outputs": [],
   "source": [
    "# Sử dụng str.contains với regular expression pattern\n",
    "pattern = '\\d+'  # Tìm các số\n",
    "\n",
    "matches = df[df['Text'].str.contains(pattern, regex=True)]\n",
    "\n",
    "matches"
   ]
  },
  {
   "cell_type": "code",
   "execution_count": null,
   "id": "5464a73c",
   "metadata": {},
   "outputs": [],
   "source": [
    "emp_df['PHONE_NUMBER']"
   ]
  },
  {
   "cell_type": "code",
   "execution_count": null,
   "id": "7680702b",
   "metadata": {},
   "outputs": [],
   "source": [
    "# extract \n",
    "emp_df['PHONE_NUMBER'].str.extract('.(\\d{3}).')"
   ]
  },
  {
   "cell_type": "code",
   "execution_count": null,
   "id": "7e030b5a",
   "metadata": {},
   "outputs": [],
   "source": [
    "emp_df['PHONE_NUMBER'].str.split('.').to_list()"
   ]
  },
  {
   "cell_type": "code",
   "execution_count": null,
   "id": "40e9de9e",
   "metadata": {},
   "outputs": [],
   "source": [
    "# GV yêu cầu HV trích xuất 1 số thông tin áp dụng regular expression cho emp_df"
   ]
  },
  {
   "cell_type": "code",
   "execution_count": null,
   "id": "6b1461d7",
   "metadata": {},
   "outputs": [],
   "source": [
    "emp_df['JOB_ID']"
   ]
  },
  {
   "cell_type": "code",
   "execution_count": null,
   "id": "1d56a7dc",
   "metadata": {},
   "outputs": [],
   "source": [
    "emp_df['JOB_ID'].str.extract('_(\\w+)')"
   ]
  },
  {
   "cell_type": "code",
   "execution_count": null,
   "id": "6b07e2f3",
   "metadata": {},
   "outputs": [],
   "source": [
    "emp_df['Job_Code'] = emp_df['JOB_ID'].str.extract('(\\w+)_')\n",
    "emp_df.head()"
   ]
  },
  {
   "cell_type": "code",
   "execution_count": null,
   "id": "c36398f4",
   "metadata": {},
   "outputs": [],
   "source": [
    "emp_df['Job_Code1'] = emp_df['JOB_ID'].str.extract('_([A-Z]+)')\n",
    "emp_df.head()"
   ]
  },
  {
   "cell_type": "code",
   "execution_count": null,
   "id": "b8deb042",
   "metadata": {},
   "outputs": [],
   "source": [
    "emp_df[['HIRED_YEAR', 'HIRED_MONTH']] = emp_df['HIRE_DATE'].str.extract('(\\d{4})-(\\d{2})')\n",
    "emp_df.head()"
   ]
  },
  {
   "cell_type": "code",
   "execution_count": null,
   "id": "30df2c7e",
   "metadata": {},
   "outputs": [],
   "source": [
    "emp_df.dtypes"
   ]
  },
  {
   "cell_type": "code",
   "execution_count": null,
   "id": "c852eef5",
   "metadata": {},
   "outputs": [],
   "source": [
    "emp_df[['HIRED_YEAR', 'HIRED_MONTH']] = emp_df[['HIRED_YEAR', 'HIRED_MONTH']].applymap(int)"
   ]
  },
  {
   "cell_type": "code",
   "execution_count": null,
   "id": "9c03bd3c",
   "metadata": {},
   "outputs": [],
   "source": []
  },
  {
   "cell_type": "code",
   "execution_count": null,
   "id": "cd48d7e1",
   "metadata": {},
   "outputs": [],
   "source": []
  }
 ],
 "metadata": {
  "kernelspec": {
   "display_name": "Python 3 (ipykernel)",
   "language": "python",
   "name": "python3"
  },
  "language_info": {
   "codemirror_mode": {
    "name": "ipython",
    "version": 3
   },
   "file_extension": ".py",
   "mimetype": "text/x-python",
   "name": "python",
   "nbconvert_exporter": "python",
   "pygments_lexer": "ipython3",
   "version": "3.12.6"
  }
 },
 "nbformat": 4,
 "nbformat_minor": 5
}
