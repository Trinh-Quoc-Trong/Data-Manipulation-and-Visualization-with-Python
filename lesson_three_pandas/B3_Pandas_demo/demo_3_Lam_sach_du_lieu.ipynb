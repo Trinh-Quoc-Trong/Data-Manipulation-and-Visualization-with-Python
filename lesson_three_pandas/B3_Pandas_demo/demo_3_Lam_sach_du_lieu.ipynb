{
 "cells": [
  {
   "cell_type": "code",
   "execution_count": null,
   "id": "employed-sailing",
   "metadata": {},
   "outputs": [],
   "source": [
    "import numpy as np\n",
    "import pandas as pd"
   ]
  },
  {
   "cell_type": "markdown",
   "id": "007a8f2c",
   "metadata": {},
   "source": [
    "## Thay thế giá trị không mong muốn"
   ]
  },
  {
   "cell_type": "code",
   "execution_count": null,
   "id": "banner-adjustment",
   "metadata": {},
   "outputs": [],
   "source": [
    "df = pd.DataFrame({'x':[1000,1200,1100,2000,-1,1300,1200], 'y':[1000,-1,1100,1000,-2,1200,1100]})\n",
    "df"
   ]
  },
  {
   "cell_type": "code",
   "execution_count": null,
   "id": "485eab84",
   "metadata": {},
   "outputs": [],
   "source": [
    "# thay thế giá trị -1 bằng 0 trên cột y\n",
    "df['y'].replace(-1,0,inplace=True)"
   ]
  },
  {
   "cell_type": "code",
   "execution_count": null,
   "id": "a89e51d9",
   "metadata": {},
   "outputs": [],
   "source": [
    "df"
   ]
  },
  {
   "cell_type": "code",
   "execution_count": null,
   "id": "0a52e060",
   "metadata": {},
   "outputs": [],
   "source": [
    "df['y'] = df['y'].replace(-2,1)"
   ]
  },
  {
   "cell_type": "code",
   "execution_count": null,
   "id": "3aff1548",
   "metadata": {},
   "outputs": [],
   "source": [
    "df"
   ]
  },
  {
   "cell_type": "code",
   "execution_count": null,
   "id": "6053bb6a",
   "metadata": {},
   "outputs": [],
   "source": [
    "df['y'].replace({-1:0,-2:1})"
   ]
  },
  {
   "cell_type": "code",
   "execution_count": null,
   "id": "concrete-angle",
   "metadata": {},
   "outputs": [],
   "source": [
    "df = pd.DataFrame({'x':[1000,1200,1100,2000,-1,1300,1200], 'y':[1000,-1,1100,1000,-2,1200,1100]})\n",
    "df"
   ]
  },
  {
   "cell_type": "code",
   "execution_count": null,
   "id": "downtown-jumping",
   "metadata": {},
   "outputs": [],
   "source": [
    "# thay thế giá trị -1 bằng 0 cho toàn bộ dataframe\n",
    "df = df.replace(-1, 0)\n",
    "df"
   ]
  },
  {
   "cell_type": "code",
   "execution_count": null,
   "id": "392d3350",
   "metadata": {},
   "outputs": [],
   "source": [
    "emp_df = pd.read_excel('data/employees.xlsx')\n",
    "emp_df"
   ]
  },
  {
   "cell_type": "markdown",
   "id": "de77be4f",
   "metadata": {},
   "source": [
    "## Xử lý dữ liệu null/NaN"
   ]
  },
  {
   "cell_type": "code",
   "execution_count": null,
   "id": "0085db7d",
   "metadata": {},
   "outputs": [],
   "source": [
    "emp_df.info()"
   ]
  },
  {
   "cell_type": "code",
   "execution_count": null,
   "id": "420b655e",
   "metadata": {},
   "outputs": [],
   "source": [
    "emp_df.isnull()"
   ]
  },
  {
   "cell_type": "code",
   "execution_count": null,
   "id": "1b100dcb",
   "metadata": {},
   "outputs": [],
   "source": [
    "emp_df.isnull().any()"
   ]
  },
  {
   "cell_type": "code",
   "execution_count": null,
   "id": "3912bee2",
   "metadata": {},
   "outputs": [],
   "source": [
    "emp_df.isnull().sum()"
   ]
  },
  {
   "cell_type": "code",
   "execution_count": null,
   "id": "b1e841b2",
   "metadata": {},
   "outputs": [],
   "source": [
    "emp_df[['MANAGER_ID', 'DEPARTMENT_ID']].isnull().any(axis = 1)"
   ]
  },
  {
   "cell_type": "code",
   "execution_count": null,
   "id": "55e4eec3",
   "metadata": {},
   "outputs": [],
   "source": [
    "# Xem các dòng bị NaN ở cột 'MANAGER_ID', 'DEPARTMENT_ID'\n",
    "emp_df[emp_df[['MANAGER_ID', 'DEPARTMENT_ID']].isnull().any(axis = 1)]"
   ]
  },
  {
   "cell_type": "code",
   "execution_count": null,
   "id": "b7b50a35",
   "metadata": {},
   "outputs": [],
   "source": [
    "df1 = pd.DataFrame({0:[np.nan, np.nan,1.5783, np.nan, np.nan, np.nan, -1.1457], \n",
    "                    1:[-2.0172, np.nan,0.6374, np.nan, np.nan, np.nan, np.nan]})\n",
    "df1"
   ]
  },
  {
   "cell_type": "code",
   "execution_count": null,
   "id": "6b2089df",
   "metadata": {},
   "outputs": [],
   "source": [
    "df2 = df1.fillna(method='ffill')\n",
    "df2"
   ]
  },
  {
   "cell_type": "code",
   "execution_count": null,
   "id": "07cb1300",
   "metadata": {},
   "outputs": [],
   "source": [
    "df3 = df1.fillna(method='backfill')\n",
    "df3"
   ]
  },
  {
   "cell_type": "code",
   "execution_count": null,
   "id": "f55da5c7",
   "metadata": {},
   "outputs": [],
   "source": [
    "# GV yêu cầu HV điền dữ liệu phù hợp cho dữ liệu null tại cột 'DEPARTMENT_ID'"
   ]
  },
  {
   "cell_type": "code",
   "execution_count": null,
   "id": "4f0d0329",
   "metadata": {},
   "outputs": [],
   "source": [
    "# nhân viên này có JOB_ID là SA_REP nên sẽ cùng phòng ban với NV ở dòng phía trên hoặc dòng phía dưới"
   ]
  },
  {
   "cell_type": "code",
   "execution_count": null,
   "id": "6914ce5d",
   "metadata": {},
   "outputs": [],
   "source": [
    "emp_df1 = emp_df.copy()\n",
    "emp_df1['DEPARTMENT_ID'] = emp_df1['DEPARTMENT_ID'].ffill()\n",
    "emp_df1[77:80]"
   ]
  },
  {
   "cell_type": "code",
   "execution_count": null,
   "id": "c7845076",
   "metadata": {},
   "outputs": [],
   "source": [
    "emp_df['DEPARTMENT_ID'] = emp_df['DEPARTMENT_ID'].bfill()\n",
    "emp_df[77:80]"
   ]
  },
  {
   "cell_type": "code",
   "execution_count": null,
   "id": "military-working",
   "metadata": {},
   "outputs": [],
   "source": [
    "df4 = pd.DataFrame({'x':[1000,1200,1100,2000,np.nan,1300,1200], \n",
    "                   'y':[1000,np.nan,1100,1000,np.nan,1200,1100],\n",
    "                  'z':[1000,1100,np.nan,1000,1200,np.nan,1100]})\n",
    "df4"
   ]
  },
  {
   "cell_type": "code",
   "execution_count": null,
   "id": "private-irish",
   "metadata": {},
   "outputs": [],
   "source": [
    "df4.fillna(0, inplace=True)\n",
    "df4"
   ]
  },
  {
   "cell_type": "code",
   "execution_count": null,
   "id": "graphic-heart",
   "metadata": {},
   "outputs": [],
   "source": [
    "df5 = pd.DataFrame({'x':[1000,1200,1100,2000,np.nan,1300,1200], \n",
    "                   'y':[1000,np.nan,1100,1000,np.nan,1200,1100],\n",
    "                  'z':[1000,1100,np.nan,1000,1200,np.nan,1100]})\n",
    "df5"
   ]
  },
  {
   "cell_type": "code",
   "execution_count": null,
   "id": "embedded-carry",
   "metadata": {},
   "outputs": [],
   "source": [
    "df5['z'].fillna(0, inplace=True)\n",
    "df5"
   ]
  },
  {
   "cell_type": "code",
   "execution_count": null,
   "id": "ff1dbccc",
   "metadata": {},
   "outputs": [],
   "source": [
    "df6 = pd.DataFrame({'x':[1000,1200,1100,2000,np.nan,1300,1200], \n",
    "                   'y':[1000,np.nan,1100,1000,np.nan,1200,1100],\n",
    "                  'z':[1000,1100,np.nan,1000,1200,np.nan,1100]})\n",
    "df6"
   ]
  },
  {
   "cell_type": "code",
   "execution_count": null,
   "id": "b93a6faf",
   "metadata": {},
   "outputs": [],
   "source": [
    "df6.fillna(value={'x':1300, 'y':1000,'z':1100}, inplace=True)\n",
    "df6"
   ]
  },
  {
   "cell_type": "code",
   "execution_count": null,
   "id": "28cc210c",
   "metadata": {},
   "outputs": [],
   "source": [
    "# GV yêu cầu HV điền dữ liệu phù hợp cho dữ liệu null tại cột 'MANAGER_ID', 'COMMISSION_PCT'"
   ]
  },
  {
   "cell_type": "code",
   "execution_count": null,
   "id": "b2487583",
   "metadata": {},
   "outputs": [],
   "source": [
    "# các NV có COMMISSION_PCT NaN tức là không có hoa hồng, có thể xem là COMMISSION_PCT = 0\n",
    "# NV không có MANAGER_ID ở dữ liệu này là quản lý cao nhất, không có người quản lý nên có thể điền = 0 (hiểu là ko có người quản lý)"
   ]
  },
  {
   "cell_type": "code",
   "execution_count": null,
   "id": "03b167e9",
   "metadata": {},
   "outputs": [],
   "source": [
    "emp_df[['MANAGER_ID', 'COMMISSION_PCT']] = emp_df[['MANAGER_ID', 'COMMISSION_PCT']].fillna(0)\n",
    "emp_df.head()"
   ]
  },
  {
   "cell_type": "code",
   "execution_count": null,
   "id": "turkish-puzzle",
   "metadata": {},
   "outputs": [],
   "source": [
    "df7 = pd.DataFrame({'A':[-0.349596, np.nan,1.5783, np.nan, np.nan, np.nan, -1.1457, 0.7705, 0.0976], \n",
    "                    'B':[-2.0172, np.nan,0.6374, np.nan, np.nan, np.nan, 0.0529, 0.085, 0.13705],\n",
    "                    'C':[np.nan, 0.068,0.07521, -0.2589, 0.56550, -2.2852, -1.8541, -0.6854, 1.2589]})\n",
    "df7"
   ]
  },
  {
   "cell_type": "code",
   "execution_count": null,
   "id": "59c0d34a",
   "metadata": {},
   "outputs": [],
   "source": [
    "df8 = df7.dropna(axis = 0)\n",
    "df8\n",
    "# xóa dòng dữ liệu chứa NaN"
   ]
  },
  {
   "cell_type": "code",
   "execution_count": null,
   "id": "5cff3aa7",
   "metadata": {},
   "outputs": [],
   "source": [
    "df7.dropna(axis=1)"
   ]
  },
  {
   "cell_type": "code",
   "execution_count": null,
   "id": "ccde25af",
   "metadata": {},
   "outputs": [],
   "source": [
    "df7.dropna(subset=['C'])\n",
    "# xóa dòng dữ liệu chứa NaN dựa trên cột"
   ]
  },
  {
   "cell_type": "code",
   "execution_count": null,
   "id": "9d5670d4",
   "metadata": {},
   "outputs": [],
   "source": [
    "df7"
   ]
  },
  {
   "cell_type": "code",
   "execution_count": null,
   "id": "042948c8",
   "metadata": {},
   "outputs": [],
   "source": [
    "kc = (1.5783 -(-1.1457))/4\n",
    "kc"
   ]
  },
  {
   "cell_type": "code",
   "execution_count": null,
   "id": "89823ccf",
   "metadata": {},
   "outputs": [],
   "source": [
    "dl_3 = 1.5783 - kc\n",
    "dl_3"
   ]
  },
  {
   "cell_type": "code",
   "execution_count": null,
   "id": "18eef1bc",
   "metadata": {},
   "outputs": [],
   "source": [
    "dl_4 = 1.5783 - kc*2\n",
    "dl_4"
   ]
  },
  {
   "cell_type": "code",
   "execution_count": null,
   "id": "079dc162",
   "metadata": {},
   "outputs": [],
   "source": [
    "dl_5 = 1.5783 - kc*3\n",
    "dl_5"
   ]
  },
  {
   "cell_type": "code",
   "execution_count": null,
   "id": "fded78c6",
   "metadata": {},
   "outputs": [],
   "source": [
    "df10 = df7.interpolate()\n",
    "df10"
   ]
  },
  {
   "cell_type": "code",
   "execution_count": null,
   "id": "041925de",
   "metadata": {},
   "outputs": [],
   "source": [
    "# Lưu emp_df vào file csv (đã được fill missing data)\n",
    "emp_df.to_csv('data/employees_filled.csv', index=False)"
   ]
  },
  {
   "cell_type": "code",
   "execution_count": null,
   "id": "44d4ffe3",
   "metadata": {},
   "outputs": [],
   "source": []
  }
 ],
 "metadata": {
  "kernelspec": {
   "display_name": "Python 3 (ipykernel)",
   "language": "python",
   "name": "python3"
  },
  "language_info": {
   "codemirror_mode": {
    "name": "ipython",
    "version": 3
   },
   "file_extension": ".py",
   "mimetype": "text/x-python",
   "name": "python",
   "nbconvert_exporter": "python",
   "pygments_lexer": "ipython3",
   "version": "3.12.6"
  }
 },
 "nbformat": 4,
 "nbformat_minor": 5
}
